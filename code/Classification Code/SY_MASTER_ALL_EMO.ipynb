{
 "cells": [
  {
   "cell_type": "code",
   "execution_count": 1,
   "metadata": {
    "collapsed": true
   },
   "outputs": [],
   "source": [
    "import numpy as np #import numpy library\n",
    "import pandas as pd #import pandas library\n",
    "import matplotlib.pyplot as plt #import matplot library\n",
    "%matplotlib inline\n",
    "\n",
    "import glob\n",
    "import os\n",
    "\n",
    "import nltk.classify.util\n",
    "from astropy.table import Table, Column\n",
    "\n",
    "import string\n",
    "\n",
    "from sklearn import svm\n",
    "from sklearn import metrics"
   ]
  },
  {
   "cell_type": "code",
   "execution_count": 2,
   "metadata": {
    "collapsed": false
   },
   "outputs": [],
   "source": [
    " def loadMetricData(user, directory):\n",
    "    path =  user + \"/\" + directory + \"/\"\n",
    "#     print(path)\n",
    "    all_files = glob.glob(os.path.join(path, \"*.csv\")) \n",
    "#     print(all_files)\n",
    "    data = pd.DataFrame()\n",
    "    list_ = []\n",
    "    for file_ in all_files:\n",
    "        data = pd.read_csv(file_,index_col=None, header=0)\n",
    "        list_.append(data)\n",
    "        data = pd.concat(list_)\n",
    "    return data"
   ]
  },
  {
   "cell_type": "code",
   "execution_count": 3,
   "metadata": {
    "collapsed": false
   },
   "outputs": [],
   "source": [
    "# # clean times function\n",
    "def cleanTime(df, col):\n",
    "    df.col = pd.to_datetime(df.col)"
   ]
  },
  {
   "cell_type": "code",
   "execution_count": 4,
   "metadata": {
    "collapsed": false
   },
   "outputs": [],
   "source": [
    "# # replace NAN's\n",
    "# def rmNAN(df, col):\n",
    "#     df.col = df.col.fillna(0)"
   ]
  },
  {
   "cell_type": "code",
   "execution_count": 5,
   "metadata": {
    "collapsed": false
   },
   "outputs": [
    {
     "data": {
      "text/html": [
       "<div>\n",
       "<table border=\"1\" class=\"dataframe\">\n",
       "  <thead>\n",
       "    <tr style=\"text-align: right;\">\n",
       "      <th></th>\n",
       "      <th>timestamp</th>\n",
       "      <th>heartrate</th>\n",
       "      <th>steps</th>\n",
       "      <th>calories</th>\n",
       "      <th>gsr</th>\n",
       "      <th>skintemp</th>\n",
       "      <th>airtemp</th>\n",
       "    </tr>\n",
       "  </thead>\n",
       "  <tbody>\n",
       "    <tr>\n",
       "      <th>1435</th>\n",
       "      <td>2016-05-04 23:55:00</td>\n",
       "      <td>71</td>\n",
       "      <td>0</td>\n",
       "      <td>0.9</td>\n",
       "      <td>0.000067</td>\n",
       "      <td>93.2</td>\n",
       "      <td>93.2</td>\n",
       "    </tr>\n",
       "    <tr>\n",
       "      <th>1436</th>\n",
       "      <td>2016-05-04 23:56:00</td>\n",
       "      <td>69</td>\n",
       "      <td>0</td>\n",
       "      <td>1.0</td>\n",
       "      <td>0.000067</td>\n",
       "      <td>94.1</td>\n",
       "      <td>94.1</td>\n",
       "    </tr>\n",
       "    <tr>\n",
       "      <th>1437</th>\n",
       "      <td>2016-05-04 23:57:00</td>\n",
       "      <td>68</td>\n",
       "      <td>0</td>\n",
       "      <td>0.9</td>\n",
       "      <td>0.000069</td>\n",
       "      <td>94.1</td>\n",
       "      <td>94.1</td>\n",
       "    </tr>\n",
       "    <tr>\n",
       "      <th>1438</th>\n",
       "      <td>2016-05-04 23:58:00</td>\n",
       "      <td>66</td>\n",
       "      <td>0</td>\n",
       "      <td>1.0</td>\n",
       "      <td>0.000071</td>\n",
       "      <td>94.1</td>\n",
       "      <td>94.1</td>\n",
       "    </tr>\n",
       "    <tr>\n",
       "      <th>1439</th>\n",
       "      <td>2016-05-04 23:59:00</td>\n",
       "      <td>65</td>\n",
       "      <td>0</td>\n",
       "      <td>0.9</td>\n",
       "      <td>0.000067</td>\n",
       "      <td>94.1</td>\n",
       "      <td>94.1</td>\n",
       "    </tr>\n",
       "  </tbody>\n",
       "</table>\n",
       "</div>"
      ],
      "text/plain": [
       "                timestamp  heartrate  steps  calories       gsr  skintemp  \\\n",
       "1435  2016-05-04 23:55:00         71      0       0.9  0.000067      93.2   \n",
       "1436  2016-05-04 23:56:00         69      0       1.0  0.000067      94.1   \n",
       "1437  2016-05-04 23:57:00         68      0       0.9  0.000069      94.1   \n",
       "1438  2016-05-04 23:58:00         66      0       1.0  0.000071      94.1   \n",
       "1439  2016-05-04 23:59:00         65      0       0.9  0.000067      94.1   \n",
       "\n",
       "      airtemp  \n",
       "1435     93.2  \n",
       "1436     94.1  \n",
       "1437     94.1  \n",
       "1438     94.1  \n",
       "1439     94.1  "
      ]
     },
     "execution_count": 5,
     "metadata": {},
     "output_type": "execute_result"
    }
   ],
   "source": [
    "sarahMetrics = loadMetricData('sarahYee', \"metrics\")\n",
    "sarahMetrics.tail(5)"
   ]
  },
  {
   "cell_type": "code",
   "execution_count": 6,
   "metadata": {
    "collapsed": false
   },
   "outputs": [
    {
     "data": {
      "text/plain": [
       "timestamp     object\n",
       "heartrate    float64\n",
       "steps        float64\n",
       "calories     float64\n",
       "gsr          float64\n",
       "skintemp     float64\n",
       "airtemp      float64\n",
       "dtype: object"
      ]
     },
     "execution_count": 6,
     "metadata": {},
     "output_type": "execute_result"
    }
   ],
   "source": [
    "sarahMetrics.dtypes"
   ]
  },
  {
   "cell_type": "code",
   "execution_count": 7,
   "metadata": {
    "collapsed": false
   },
   "outputs": [
    {
     "data": {
      "text/html": [
       "<div>\n",
       "<table border=\"1\" class=\"dataframe\">\n",
       "  <thead>\n",
       "    <tr style=\"text-align: right;\">\n",
       "      <th></th>\n",
       "      <th>timestamp</th>\n",
       "      <th>heartrate</th>\n",
       "      <th>steps</th>\n",
       "      <th>calories</th>\n",
       "      <th>gsr</th>\n",
       "      <th>skintemp</th>\n",
       "      <th>airtemp</th>\n",
       "    </tr>\n",
       "  </thead>\n",
       "  <tbody>\n",
       "    <tr>\n",
       "      <th>0</th>\n",
       "      <td>2016-04-22 00:00:00</td>\n",
       "      <td>0</td>\n",
       "      <td>0</td>\n",
       "      <td>0</td>\n",
       "      <td>0</td>\n",
       "      <td>0</td>\n",
       "      <td>0</td>\n",
       "    </tr>\n",
       "    <tr>\n",
       "      <th>1</th>\n",
       "      <td>2016-04-22 00:01:00</td>\n",
       "      <td>0</td>\n",
       "      <td>0</td>\n",
       "      <td>0</td>\n",
       "      <td>0</td>\n",
       "      <td>0</td>\n",
       "      <td>0</td>\n",
       "    </tr>\n",
       "    <tr>\n",
       "      <th>2</th>\n",
       "      <td>2016-04-22 00:02:00</td>\n",
       "      <td>0</td>\n",
       "      <td>0</td>\n",
       "      <td>0</td>\n",
       "      <td>0</td>\n",
       "      <td>0</td>\n",
       "      <td>0</td>\n",
       "    </tr>\n",
       "    <tr>\n",
       "      <th>3</th>\n",
       "      <td>2016-04-22 00:03:00</td>\n",
       "      <td>0</td>\n",
       "      <td>0</td>\n",
       "      <td>0</td>\n",
       "      <td>0</td>\n",
       "      <td>0</td>\n",
       "      <td>0</td>\n",
       "    </tr>\n",
       "    <tr>\n",
       "      <th>4</th>\n",
       "      <td>2016-04-22 00:04:00</td>\n",
       "      <td>0</td>\n",
       "      <td>0</td>\n",
       "      <td>0</td>\n",
       "      <td>0</td>\n",
       "      <td>0</td>\n",
       "      <td>0</td>\n",
       "    </tr>\n",
       "  </tbody>\n",
       "</table>\n",
       "</div>"
      ],
      "text/plain": [
       "            timestamp  heartrate  steps  calories  gsr  skintemp  airtemp\n",
       "0 2016-04-22 00:00:00          0      0         0    0         0        0\n",
       "1 2016-04-22 00:01:00          0      0         0    0         0        0\n",
       "2 2016-04-22 00:02:00          0      0         0    0         0        0\n",
       "3 2016-04-22 00:03:00          0      0         0    0         0        0\n",
       "4 2016-04-22 00:04:00          0      0         0    0         0        0"
      ]
     },
     "execution_count": 7,
     "metadata": {},
     "output_type": "execute_result"
    }
   ],
   "source": [
    "# clean metric data\n",
    "\n",
    "sarahMetrics.timestamp = pd.to_datetime(sarahMetrics.timestamp)\n",
    "\n",
    "sarahMetrics.heartrate = sarahMetrics.heartrate.fillna(0)\n",
    "sarahMetrics.steps = sarahMetrics.steps.fillna(0)\n",
    "sarahMetrics.calories = sarahMetrics.calories.fillna(0)\n",
    "sarahMetrics.gsr = sarahMetrics.gsr.fillna(0)\n",
    "sarahMetrics.skintemp = sarahMetrics.skintemp.fillna(0)\n",
    "sarahMetrics.airtemp = sarahMetrics.airtemp.fillna(0)\n",
    "\n",
    "sarahMetrics.head(5)"
   ]
  },
  {
   "cell_type": "code",
   "execution_count": 8,
   "metadata": {
    "collapsed": false
   },
   "outputs": [
    {
     "data": {
      "text/html": [
       "<div>\n",
       "<table border=\"1\" class=\"dataframe\">\n",
       "  <thead>\n",
       "    <tr style=\"text-align: right;\">\n",
       "      <th></th>\n",
       "      <th>start time</th>\n",
       "      <th>start time ISO</th>\n",
       "      <th>start time timezone</th>\n",
       "      <th>start time offset</th>\n",
       "      <th>end time</th>\n",
       "      <th>end time ISO</th>\n",
       "      <th>end time timezone</th>\n",
       "      <th>end time offset</th>\n",
       "      <th>type</th>\n",
       "      <th>actual seconds</th>\n",
       "      <th>steps</th>\n",
       "      <th>calories</th>\n",
       "      <th>minutes</th>\n",
       "      <th>heart rate avg</th>\n",
       "      <th>heart rate min</th>\n",
       "      <th>heart rate max</th>\n",
       "      <th>state</th>\n",
       "      <th>version</th>\n",
       "      <th>id</th>\n",
       "    </tr>\n",
       "  </thead>\n",
       "  <tbody>\n",
       "    <tr>\n",
       "      <th>2</th>\n",
       "      <td>5/4/16 19:19</td>\n",
       "      <td>2016-05-04T19:19:07Z</td>\n",
       "      <td>America/New_York</td>\n",
       "      <td>-240</td>\n",
       "      <td>5/4/16 19:29</td>\n",
       "      <td>2016-05-04T19:29:20Z</td>\n",
       "      <td>America/New_York</td>\n",
       "      <td>-240</td>\n",
       "      <td>walk</td>\n",
       "      <td>380</td>\n",
       "      <td>904</td>\n",
       "      <td>17.400000</td>\n",
       "      <td>10.216667</td>\n",
       "      <td>109.357895</td>\n",
       "      <td>NaN</td>\n",
       "      <td>NaN</td>\n",
       "      <td>complete</td>\n",
       "      <td>1</td>\n",
       "      <td>walk__2016-05-04T191907</td>\n",
       "    </tr>\n",
       "    <tr>\n",
       "      <th>3</th>\n",
       "      <td>5/4/16 19:52</td>\n",
       "      <td>2016-05-04T19:52:24Z</td>\n",
       "      <td>America/New_York</td>\n",
       "      <td>-240</td>\n",
       "      <td>5/4/16 19:57</td>\n",
       "      <td>2016-05-04T19:57:53Z</td>\n",
       "      <td>America/New_York</td>\n",
       "      <td>-240</td>\n",
       "      <td>walk</td>\n",
       "      <td>235</td>\n",
       "      <td>533</td>\n",
       "      <td>7.100000</td>\n",
       "      <td>5.483333</td>\n",
       "      <td>96.454544</td>\n",
       "      <td>NaN</td>\n",
       "      <td>NaN</td>\n",
       "      <td>complete</td>\n",
       "      <td>1</td>\n",
       "      <td>walk__2016-05-04T195224</td>\n",
       "    </tr>\n",
       "    <tr>\n",
       "      <th>4</th>\n",
       "      <td>5/4/16 20:26</td>\n",
       "      <td>2016-05-04T20:26:49Z</td>\n",
       "      <td>America/New_York</td>\n",
       "      <td>-240</td>\n",
       "      <td>5/4/16 20:34</td>\n",
       "      <td>2016-05-04T20:34:34Z</td>\n",
       "      <td>America/New_York</td>\n",
       "      <td>-240</td>\n",
       "      <td>walk</td>\n",
       "      <td>188</td>\n",
       "      <td>345</td>\n",
       "      <td>6.400000</td>\n",
       "      <td>7.750000</td>\n",
       "      <td>106.696808</td>\n",
       "      <td>NaN</td>\n",
       "      <td>NaN</td>\n",
       "      <td>complete</td>\n",
       "      <td>1</td>\n",
       "      <td>walk__2016-05-04T202649</td>\n",
       "    </tr>\n",
       "    <tr>\n",
       "      <th>5</th>\n",
       "      <td>5/4/16 20:38</td>\n",
       "      <td>2016-05-04T20:38:37Z</td>\n",
       "      <td>America/New_York</td>\n",
       "      <td>-240</td>\n",
       "      <td>5/4/16 20:44</td>\n",
       "      <td>2016-05-04T20:44:05Z</td>\n",
       "      <td>America/New_York</td>\n",
       "      <td>-240</td>\n",
       "      <td>walk</td>\n",
       "      <td>184</td>\n",
       "      <td>340</td>\n",
       "      <td>16.200001</td>\n",
       "      <td>5.466667</td>\n",
       "      <td>133.668472</td>\n",
       "      <td>NaN</td>\n",
       "      <td>NaN</td>\n",
       "      <td>complete</td>\n",
       "      <td>1</td>\n",
       "      <td>walk__2016-05-04T203837</td>\n",
       "    </tr>\n",
       "    <tr>\n",
       "      <th>6</th>\n",
       "      <td>5/5/16 0:48</td>\n",
       "      <td>2016-05-05T00:48:54Z</td>\n",
       "      <td>America/New_York</td>\n",
       "      <td>-240</td>\n",
       "      <td>5/5/16 0:55</td>\n",
       "      <td>2016-05-05T00:55:25Z</td>\n",
       "      <td>America/New_York</td>\n",
       "      <td>-240</td>\n",
       "      <td>walk</td>\n",
       "      <td>311</td>\n",
       "      <td>725</td>\n",
       "      <td>14.000000</td>\n",
       "      <td>6.516667</td>\n",
       "      <td>103.729904</td>\n",
       "      <td>NaN</td>\n",
       "      <td>NaN</td>\n",
       "      <td>complete</td>\n",
       "      <td>1</td>\n",
       "      <td>walk__2016-05-05T004854</td>\n",
       "    </tr>\n",
       "  </tbody>\n",
       "</table>\n",
       "</div>"
      ],
      "text/plain": [
       "     start time        start time ISO start time timezone  start time offset  \\\n",
       "2  5/4/16 19:19  2016-05-04T19:19:07Z    America/New_York               -240   \n",
       "3  5/4/16 19:52  2016-05-04T19:52:24Z    America/New_York               -240   \n",
       "4  5/4/16 20:26  2016-05-04T20:26:49Z    America/New_York               -240   \n",
       "5  5/4/16 20:38  2016-05-04T20:38:37Z    America/New_York               -240   \n",
       "6   5/5/16 0:48  2016-05-05T00:48:54Z    America/New_York               -240   \n",
       "\n",
       "       end time          end time ISO end time timezone  end time offset  \\\n",
       "2  5/4/16 19:29  2016-05-04T19:29:20Z  America/New_York             -240   \n",
       "3  5/4/16 19:57  2016-05-04T19:57:53Z  America/New_York             -240   \n",
       "4  5/4/16 20:34  2016-05-04T20:34:34Z  America/New_York             -240   \n",
       "5  5/4/16 20:44  2016-05-04T20:44:05Z  America/New_York             -240   \n",
       "6   5/5/16 0:55  2016-05-05T00:55:25Z  America/New_York             -240   \n",
       "\n",
       "   type  actual seconds  steps   calories    minutes  heart rate avg  \\\n",
       "2  walk             380    904  17.400000  10.216667      109.357895   \n",
       "3  walk             235    533   7.100000   5.483333       96.454544   \n",
       "4  walk             188    345   6.400000   7.750000      106.696808   \n",
       "5  walk             184    340  16.200001   5.466667      133.668472   \n",
       "6  walk             311    725  14.000000   6.516667      103.729904   \n",
       "\n",
       "   heart rate min  heart rate max     state  version                       id  \n",
       "2             NaN             NaN  complete        1  walk__2016-05-04T191907  \n",
       "3             NaN             NaN  complete        1  walk__2016-05-04T195224  \n",
       "4             NaN             NaN  complete        1  walk__2016-05-04T202649  \n",
       "5             NaN             NaN  complete        1  walk__2016-05-04T203837  \n",
       "6             NaN             NaN  complete        1  walk__2016-05-05T004854  "
      ]
     },
     "execution_count": 8,
     "metadata": {},
     "output_type": "execute_result"
    }
   ],
   "source": [
    "sarahActivities = loadMetricData('sarahYee', \"activities\")\n",
    "sarahActivities.tail(5)"
   ]
  },
  {
   "cell_type": "code",
   "execution_count": 9,
   "metadata": {
    "collapsed": false
   },
   "outputs": [
    {
     "data": {
      "text/html": [
       "<div>\n",
       "<table border=\"1\" class=\"dataframe\">\n",
       "  <thead>\n",
       "    <tr style=\"text-align: right;\">\n",
       "      <th></th>\n",
       "      <th>start time</th>\n",
       "      <th>start time ISO</th>\n",
       "      <th>start time timezone</th>\n",
       "      <th>start time offset</th>\n",
       "      <th>end time</th>\n",
       "      <th>end time ISO</th>\n",
       "      <th>end time timezone</th>\n",
       "      <th>end time offset</th>\n",
       "      <th>light mins</th>\n",
       "      <th>deep mins</th>\n",
       "      <th>...</th>\n",
       "      <th>toss turns</th>\n",
       "      <th>type</th>\n",
       "      <th>actual seconds</th>\n",
       "      <th>calories</th>\n",
       "      <th>heart rate avg</th>\n",
       "      <th>heart rate min</th>\n",
       "      <th>heart rate max</th>\n",
       "      <th>state</th>\n",
       "      <th>version</th>\n",
       "      <th>id</th>\n",
       "    </tr>\n",
       "  </thead>\n",
       "  <tbody>\n",
       "    <tr>\n",
       "      <th>0</th>\n",
       "      <td>2016-05-01 04:45:50</td>\n",
       "      <td>2016-05-01T04:45:50Z</td>\n",
       "      <td>America/New_York</td>\n",
       "      <td>-240</td>\n",
       "      <td>2016-05-01 12:43:50</td>\n",
       "      <td>2016-05-01T12:43:50Z</td>\n",
       "      <td>America/New_York</td>\n",
       "      <td>-240</td>\n",
       "      <td>219</td>\n",
       "      <td>124</td>\n",
       "      <td>...</td>\n",
       "      <td>32</td>\n",
       "      <td>sleep</td>\n",
       "      <td>28080</td>\n",
       "      <td>482.799988</td>\n",
       "      <td>67.618942</td>\n",
       "      <td>NaN</td>\n",
       "      <td>NaN</td>\n",
       "      <td>complete</td>\n",
       "      <td>2</td>\n",
       "      <td>sleep__2016-05-01T044550</td>\n",
       "    </tr>\n",
       "    <tr>\n",
       "      <th>0</th>\n",
       "      <td>2016-05-02 04:35:21</td>\n",
       "      <td>2016-05-02T04:35:21Z</td>\n",
       "      <td>America/New_York</td>\n",
       "      <td>-240</td>\n",
       "      <td>2016-05-02 10:51:21</td>\n",
       "      <td>2016-05-02T10:51:21Z</td>\n",
       "      <td>America/New_York</td>\n",
       "      <td>-240</td>\n",
       "      <td>195</td>\n",
       "      <td>105</td>\n",
       "      <td>...</td>\n",
       "      <td>26</td>\n",
       "      <td>sleep</td>\n",
       "      <td>22560</td>\n",
       "      <td>333.364014</td>\n",
       "      <td>66.956131</td>\n",
       "      <td>NaN</td>\n",
       "      <td>NaN</td>\n",
       "      <td>complete</td>\n",
       "      <td>2</td>\n",
       "      <td>sleep__2016-05-02T043521</td>\n",
       "    </tr>\n",
       "    <tr>\n",
       "      <th>0</th>\n",
       "      <td>2016-05-03 03:43:04</td>\n",
       "      <td>2016-05-03T03:43:04Z</td>\n",
       "      <td>America/New_York</td>\n",
       "      <td>-240</td>\n",
       "      <td>2016-05-03 10:17:04</td>\n",
       "      <td>2016-05-03T10:17:04Z</td>\n",
       "      <td>America/New_York</td>\n",
       "      <td>-240</td>\n",
       "      <td>200</td>\n",
       "      <td>77</td>\n",
       "      <td>...</td>\n",
       "      <td>36</td>\n",
       "      <td>sleep</td>\n",
       "      <td>22980</td>\n",
       "      <td>362.299988</td>\n",
       "      <td>70.224983</td>\n",
       "      <td>NaN</td>\n",
       "      <td>NaN</td>\n",
       "      <td>complete</td>\n",
       "      <td>2</td>\n",
       "      <td>sleep__2016-05-03T034304</td>\n",
       "    </tr>\n",
       "    <tr>\n",
       "      <th>0</th>\n",
       "      <td>2016-05-04 03:35:37</td>\n",
       "      <td>2016-05-04T03:35:37Z</td>\n",
       "      <td>America/New_York</td>\n",
       "      <td>-240</td>\n",
       "      <td>2016-05-04 11:30:37</td>\n",
       "      <td>2016-05-04T11:30:37Z</td>\n",
       "      <td>America/New_York</td>\n",
       "      <td>-240</td>\n",
       "      <td>223</td>\n",
       "      <td>148</td>\n",
       "      <td>...</td>\n",
       "      <td>34</td>\n",
       "      <td>sleep</td>\n",
       "      <td>28500</td>\n",
       "      <td>448.600006</td>\n",
       "      <td>69.207352</td>\n",
       "      <td>NaN</td>\n",
       "      <td>NaN</td>\n",
       "      <td>complete</td>\n",
       "      <td>2</td>\n",
       "      <td>sleep__2016-05-04T033537</td>\n",
       "    </tr>\n",
       "    <tr>\n",
       "      <th>0</th>\n",
       "      <td>2016-05-04 11:50:37</td>\n",
       "      <td>2016-05-04T11:50:37Z</td>\n",
       "      <td>America/New_York</td>\n",
       "      <td>-240</td>\n",
       "      <td>2016-05-04 12:22:37</td>\n",
       "      <td>2016-05-04T12:22:37Z</td>\n",
       "      <td>America/New_York</td>\n",
       "      <td>-240</td>\n",
       "      <td>31</td>\n",
       "      <td>0</td>\n",
       "      <td>...</td>\n",
       "      <td>1</td>\n",
       "      <td>sleep</td>\n",
       "      <td>1920</td>\n",
       "      <td>30.400000</td>\n",
       "      <td>70.055222</td>\n",
       "      <td>NaN</td>\n",
       "      <td>NaN</td>\n",
       "      <td>complete</td>\n",
       "      <td>2</td>\n",
       "      <td>sleep__2016-05-04T115037</td>\n",
       "    </tr>\n",
       "  </tbody>\n",
       "</table>\n",
       "<p>5 rows × 24 columns</p>\n",
       "</div>"
      ],
      "text/plain": [
       "            start time        start time ISO start time timezone  \\\n",
       "0  2016-05-01 04:45:50  2016-05-01T04:45:50Z    America/New_York   \n",
       "0  2016-05-02 04:35:21  2016-05-02T04:35:21Z    America/New_York   \n",
       "0  2016-05-03 03:43:04  2016-05-03T03:43:04Z    America/New_York   \n",
       "0  2016-05-04 03:35:37  2016-05-04T03:35:37Z    America/New_York   \n",
       "0  2016-05-04 11:50:37  2016-05-04T11:50:37Z    America/New_York   \n",
       "\n",
       "   start time offset             end time          end time ISO  \\\n",
       "0               -240  2016-05-01 12:43:50  2016-05-01T12:43:50Z   \n",
       "0               -240  2016-05-02 10:51:21  2016-05-02T10:51:21Z   \n",
       "0               -240  2016-05-03 10:17:04  2016-05-03T10:17:04Z   \n",
       "0               -240  2016-05-04 11:30:37  2016-05-04T11:30:37Z   \n",
       "0               -240  2016-05-04 12:22:37  2016-05-04T12:22:37Z   \n",
       "\n",
       "  end time timezone  end time offset  light mins  deep mins  \\\n",
       "0  America/New_York             -240         219        124   \n",
       "0  America/New_York             -240         195        105   \n",
       "0  America/New_York             -240         200         77   \n",
       "0  America/New_York             -240         223        148   \n",
       "0  America/New_York             -240          31          0   \n",
       "\n",
       "             ...             toss turns   type  actual seconds    calories  \\\n",
       "0            ...                     32  sleep           28080  482.799988   \n",
       "0            ...                     26  sleep           22560  333.364014   \n",
       "0            ...                     36  sleep           22980  362.299988   \n",
       "0            ...                     34  sleep           28500  448.600006   \n",
       "0            ...                      1  sleep            1920   30.400000   \n",
       "\n",
       "   heart rate avg heart rate min  heart rate max     state  version  \\\n",
       "0       67.618942            NaN             NaN  complete        2   \n",
       "0       66.956131            NaN             NaN  complete        2   \n",
       "0       70.224983            NaN             NaN  complete        2   \n",
       "0       69.207352            NaN             NaN  complete        2   \n",
       "0       70.055222            NaN             NaN  complete        2   \n",
       "\n",
       "                         id  \n",
       "0  sleep__2016-05-01T044550  \n",
       "0  sleep__2016-05-02T043521  \n",
       "0  sleep__2016-05-03T034304  \n",
       "0  sleep__2016-05-04T033537  \n",
       "0  sleep__2016-05-04T115037  \n",
       "\n",
       "[5 rows x 24 columns]"
      ]
     },
     "execution_count": 9,
     "metadata": {},
     "output_type": "execute_result"
    }
   ],
   "source": [
    "sarahSleep = loadMetricData('sarahYee', \"sleep\")\n",
    "sarahSleep.tail(5)"
   ]
  },
  {
   "cell_type": "code",
   "execution_count": 10,
   "metadata": {
    "collapsed": false
   },
   "outputs": [
    {
     "data": {
      "text/plain": [
       "start time              object\n",
       "start time ISO          object\n",
       "start time timezone     object\n",
       "start time offset        int64\n",
       "end time                object\n",
       "end time ISO            object\n",
       "end time timezone       object\n",
       "end time offset          int64\n",
       "light mins               int64\n",
       "deep mins                int64\n",
       "rem mins                 int64\n",
       "interruption mins        int64\n",
       "unknown mins             int64\n",
       "interruptions            int64\n",
       "toss turns               int64\n",
       "type                    object\n",
       "actual seconds           int64\n",
       "calories               float64\n",
       "heart rate avg         float64\n",
       "heart rate min         float64\n",
       "heart rate max         float64\n",
       "state                   object\n",
       "version                  int64\n",
       "id                      object\n",
       "dtype: object"
      ]
     },
     "execution_count": 10,
     "metadata": {},
     "output_type": "execute_result"
    }
   ],
   "source": [
    "sarahSleep.dtypes"
   ]
  },
  {
   "cell_type": "code",
   "execution_count": 11,
   "metadata": {
    "collapsed": false
   },
   "outputs": [
    {
     "data": {
      "text/html": [
       "<div>\n",
       "<table border=\"1\" class=\"dataframe\">\n",
       "  <thead>\n",
       "    <tr style=\"text-align: right;\">\n",
       "      <th></th>\n",
       "      <th>starttime</th>\n",
       "      <th>endtime</th>\n",
       "      <th>date</th>\n",
       "      <th>start</th>\n",
       "      <th>end</th>\n",
       "      <th>activity</th>\n",
       "      <th>location</th>\n",
       "      <th>generalemo</th>\n",
       "      <th>qualitative</th>\n",
       "      <th>excited</th>\n",
       "      <th>happy</th>\n",
       "      <th>calm</th>\n",
       "      <th>anxious</th>\n",
       "      <th>sad</th>\n",
       "      <th>angry</th>\n",
       "      <th>hungry</th>\n",
       "      <th>tired</th>\n",
       "      <th>bored</th>\n",
       "    </tr>\n",
       "  </thead>\n",
       "  <tbody>\n",
       "    <tr>\n",
       "      <th>122</th>\n",
       "      <td>2016-05-03 15:45:00</td>\n",
       "      <td>2016-05-03 16:00:00</td>\n",
       "      <td>5/3/16</td>\n",
       "      <td>3:45:00 PM</td>\n",
       "      <td>4:00:00 PM</td>\n",
       "      <td>sitting with sally</td>\n",
       "      <td>5th floor cage</td>\n",
       "      <td>calm</td>\n",
       "      <td>NaN</td>\n",
       "      <td>NaN</td>\n",
       "      <td>NaN</td>\n",
       "      <td>4</td>\n",
       "      <td>2</td>\n",
       "      <td>NaN</td>\n",
       "      <td>NaN</td>\n",
       "      <td>NaN</td>\n",
       "      <td>5</td>\n",
       "      <td>NaN</td>\n",
       "    </tr>\n",
       "    <tr>\n",
       "      <th>123</th>\n",
       "      <td>2016-05-03 16:30:00</td>\n",
       "      <td>2016-05-03 17:30:00</td>\n",
       "      <td>5/3/16</td>\n",
       "      <td>4:30:00 PM</td>\n",
       "      <td>5:30:00 PM</td>\n",
       "      <td>getting mothers day cards/dads bday card</td>\n",
       "      <td>out and about</td>\n",
       "      <td>tired</td>\n",
       "      <td>NaN</td>\n",
       "      <td>NaN</td>\n",
       "      <td>NaN</td>\n",
       "      <td>NaN</td>\n",
       "      <td>3</td>\n",
       "      <td>NaN</td>\n",
       "      <td>NaN</td>\n",
       "      <td>NaN</td>\n",
       "      <td>5</td>\n",
       "      <td>NaN</td>\n",
       "    </tr>\n",
       "    <tr>\n",
       "      <th>124</th>\n",
       "      <td>2016-05-03 18:30:00</td>\n",
       "      <td>2016-05-03 18:40:00</td>\n",
       "      <td>5/3/16</td>\n",
       "      <td>6:30:00 PM</td>\n",
       "      <td>6:40:00 PM</td>\n",
       "      <td>realized i forgot to get something to bring fo...</td>\n",
       "      <td>out and about</td>\n",
       "      <td>tired</td>\n",
       "      <td>NaN</td>\n",
       "      <td>NaN</td>\n",
       "      <td>NaN</td>\n",
       "      <td>NaN</td>\n",
       "      <td>4</td>\n",
       "      <td>NaN</td>\n",
       "      <td>NaN</td>\n",
       "      <td>NaN</td>\n",
       "      <td>5</td>\n",
       "      <td>NaN</td>\n",
       "    </tr>\n",
       "    <tr>\n",
       "      <th>125</th>\n",
       "      <td>2016-05-03 07:40:00</td>\n",
       "      <td>2016-05-03 20:00:00</td>\n",
       "      <td>5/3/16</td>\n",
       "      <td>7:40:00 AM</td>\n",
       "      <td>8:00:00 PM</td>\n",
       "      <td>nap</td>\n",
       "      <td>home</td>\n",
       "      <td>tired</td>\n",
       "      <td>NaN</td>\n",
       "      <td>NaN</td>\n",
       "      <td>NaN</td>\n",
       "      <td>NaN</td>\n",
       "      <td>4</td>\n",
       "      <td>4</td>\n",
       "      <td>NaN</td>\n",
       "      <td>NaN</td>\n",
       "      <td>5</td>\n",
       "      <td>NaN</td>\n",
       "    </tr>\n",
       "    <tr>\n",
       "      <th>126</th>\n",
       "      <td>2016-05-03 20:48:00</td>\n",
       "      <td>2016-05-03 09:15:00</td>\n",
       "      <td>5/3/16</td>\n",
       "      <td>8:48:00 PM</td>\n",
       "      <td>9:15:00 AM</td>\n",
       "      <td>exercise (shorter than usual... tired)</td>\n",
       "      <td>home</td>\n",
       "      <td>dying</td>\n",
       "      <td>NaN</td>\n",
       "      <td>NaN</td>\n",
       "      <td>NaN</td>\n",
       "      <td>NaN</td>\n",
       "      <td>NaN</td>\n",
       "      <td>NaN</td>\n",
       "      <td>NaN</td>\n",
       "      <td>NaN</td>\n",
       "      <td>NaN</td>\n",
       "      <td>NaN</td>\n",
       "    </tr>\n",
       "  </tbody>\n",
       "</table>\n",
       "</div>"
      ],
      "text/plain": [
       "               starttime              endtime    date       start         end  \\\n",
       "122  2016-05-03 15:45:00  2016-05-03 16:00:00  5/3/16  3:45:00 PM  4:00:00 PM   \n",
       "123  2016-05-03 16:30:00  2016-05-03 17:30:00  5/3/16  4:30:00 PM  5:30:00 PM   \n",
       "124  2016-05-03 18:30:00  2016-05-03 18:40:00  5/3/16  6:30:00 PM  6:40:00 PM   \n",
       "125  2016-05-03 07:40:00  2016-05-03 20:00:00  5/3/16  7:40:00 AM  8:00:00 PM   \n",
       "126  2016-05-03 20:48:00  2016-05-03 09:15:00  5/3/16  8:48:00 PM  9:15:00 AM   \n",
       "\n",
       "                                              activity        location  \\\n",
       "122                                 sitting with sally  5th floor cage   \n",
       "123           getting mothers day cards/dads bday card   out and about   \n",
       "124  realized i forgot to get something to bring fo...   out and about   \n",
       "125                                                nap            home   \n",
       "126             exercise (shorter than usual... tired)            home   \n",
       "\n",
       "    generalemo qualitative  excited  happy  calm  anxious  sad  angry  hungry  \\\n",
       "122       calm         NaN      NaN    NaN     4        2  NaN    NaN     NaN   \n",
       "123      tired         NaN      NaN    NaN   NaN        3  NaN    NaN     NaN   \n",
       "124      tired         NaN      NaN    NaN   NaN        4  NaN    NaN     NaN   \n",
       "125      tired         NaN      NaN    NaN   NaN        4    4    NaN     NaN   \n",
       "126      dying         NaN      NaN    NaN   NaN      NaN  NaN    NaN     NaN   \n",
       "\n",
       "     tired  bored  \n",
       "122      5    NaN  \n",
       "123      5    NaN  \n",
       "124      5    NaN  \n",
       "125      5    NaN  \n",
       "126    NaN    NaN  "
      ]
     },
     "execution_count": 11,
     "metadata": {},
     "output_type": "execute_result"
    }
   ],
   "source": [
    "sarahJournal = loadMetricData('sarahYee', \"journal\")\n",
    "sarahJournal.tail(5)"
   ]
  },
  {
   "cell_type": "code",
   "execution_count": 12,
   "metadata": {
    "collapsed": false
   },
   "outputs": [
    {
     "data": {
      "text/plain": [
       "starttime       object\n",
       "endtime         object\n",
       "date            object\n",
       "start           object\n",
       "end             object\n",
       "activity        object\n",
       "location        object\n",
       "generalemo      object\n",
       "qualitative     object\n",
       "excited        float64\n",
       "happy          float64\n",
       "calm           float64\n",
       "anxious        float64\n",
       "sad            float64\n",
       "angry          float64\n",
       "hungry         float64\n",
       "tired          float64\n",
       "bored          float64\n",
       "dtype: object"
      ]
     },
     "execution_count": 12,
     "metadata": {},
     "output_type": "execute_result"
    }
   ],
   "source": [
    "sarahJournal.dtypes"
   ]
  },
  {
   "cell_type": "code",
   "execution_count": 13,
   "metadata": {
    "collapsed": false,
    "scrolled": true
   },
   "outputs": [
    {
     "name": "stdout",
     "output_type": "stream",
     "text": [
      "(127, 18)\n"
     ]
    },
    {
     "data": {
      "text/html": [
       "<div>\n",
       "<table border=\"1\" class=\"dataframe\">\n",
       "  <thead>\n",
       "    <tr style=\"text-align: right;\">\n",
       "      <th></th>\n",
       "      <th>starttime</th>\n",
       "      <th>endtime</th>\n",
       "      <th>date</th>\n",
       "      <th>start</th>\n",
       "      <th>end</th>\n",
       "      <th>activity</th>\n",
       "      <th>location</th>\n",
       "      <th>generalemo</th>\n",
       "      <th>qualitative</th>\n",
       "      <th>excited</th>\n",
       "      <th>happy</th>\n",
       "      <th>calm</th>\n",
       "      <th>anxious</th>\n",
       "      <th>sad</th>\n",
       "      <th>angry</th>\n",
       "      <th>hungry</th>\n",
       "      <th>tired</th>\n",
       "      <th>bored</th>\n",
       "    </tr>\n",
       "  </thead>\n",
       "  <tbody>\n",
       "    <tr>\n",
       "      <th>0</th>\n",
       "      <td>2016-04-22 13:48:00</td>\n",
       "      <td>2016-04-22 16:12:00</td>\n",
       "      <td>4/22/16</td>\n",
       "      <td>1:48:00 PM</td>\n",
       "      <td>4:12:00 PM</td>\n",
       "      <td>writing thesis</td>\n",
       "      <td>barb's office</td>\n",
       "      <td>anxious</td>\n",
       "      <td>6</td>\n",
       "      <td>0</td>\n",
       "      <td>0</td>\n",
       "      <td>0</td>\n",
       "      <td>0</td>\n",
       "      <td>0</td>\n",
       "      <td>0</td>\n",
       "      <td>0</td>\n",
       "      <td>0</td>\n",
       "      <td>0</td>\n",
       "    </tr>\n",
       "    <tr>\n",
       "      <th>1</th>\n",
       "      <td>2016-04-22 16:12:00</td>\n",
       "      <td>2016-04-22 17:15:00</td>\n",
       "      <td>4/22/16</td>\n",
       "      <td>4:12:00 PM</td>\n",
       "      <td>5:15:00 PM</td>\n",
       "      <td>writing thesis</td>\n",
       "      <td>barb's office</td>\n",
       "      <td>anxious</td>\n",
       "      <td>6</td>\n",
       "      <td>0</td>\n",
       "      <td>0</td>\n",
       "      <td>0</td>\n",
       "      <td>0</td>\n",
       "      <td>0</td>\n",
       "      <td>0</td>\n",
       "      <td>0</td>\n",
       "      <td>0</td>\n",
       "      <td>0</td>\n",
       "    </tr>\n",
       "    <tr>\n",
       "      <th>2</th>\n",
       "      <td>2016-04-22 17:15:00</td>\n",
       "      <td>2016-04-22 19:05:00</td>\n",
       "      <td>4/22/16</td>\n",
       "      <td>5:15:00 PM</td>\n",
       "      <td>7:05:00 PM</td>\n",
       "      <td>eating russian dumplings with annie then watch...</td>\n",
       "      <td>5th floor lounge</td>\n",
       "      <td>happy</td>\n",
       "      <td>10</td>\n",
       "      <td>0</td>\n",
       "      <td>0</td>\n",
       "      <td>0</td>\n",
       "      <td>0</td>\n",
       "      <td>0</td>\n",
       "      <td>0</td>\n",
       "      <td>0</td>\n",
       "      <td>0</td>\n",
       "      <td>0</td>\n",
       "    </tr>\n",
       "    <tr>\n",
       "      <th>3</th>\n",
       "      <td>2016-04-22 19:05:00</td>\n",
       "      <td>2016-04-22 19:15:00</td>\n",
       "      <td>4/22/16</td>\n",
       "      <td>7:05:00 PM</td>\n",
       "      <td>7:15:00 PM</td>\n",
       "      <td>photofeast</td>\n",
       "      <td>3rd floor</td>\n",
       "      <td>excited/anxious</td>\n",
       "      <td>3-May</td>\n",
       "      <td>0</td>\n",
       "      <td>0</td>\n",
       "      <td>0</td>\n",
       "      <td>0</td>\n",
       "      <td>0</td>\n",
       "      <td>0</td>\n",
       "      <td>0</td>\n",
       "      <td>0</td>\n",
       "      <td>0</td>\n",
       "    </tr>\n",
       "    <tr>\n",
       "      <th>4</th>\n",
       "      <td>2016-04-22 19:15:00</td>\n",
       "      <td>2016-04-22 19:25:00</td>\n",
       "      <td>4/22/16</td>\n",
       "      <td>7:15:00 PM</td>\n",
       "      <td>7:25:00 PM</td>\n",
       "      <td>naked picture of charles in photofeast</td>\n",
       "      <td>3rd floor</td>\n",
       "      <td>what can only be described as traumatic shock</td>\n",
       "      <td>10</td>\n",
       "      <td>0</td>\n",
       "      <td>0</td>\n",
       "      <td>0</td>\n",
       "      <td>0</td>\n",
       "      <td>0</td>\n",
       "      <td>0</td>\n",
       "      <td>0</td>\n",
       "      <td>0</td>\n",
       "      <td>0</td>\n",
       "    </tr>\n",
       "  </tbody>\n",
       "</table>\n",
       "</div>"
      ],
      "text/plain": [
       "            starttime             endtime     date       start         end  \\\n",
       "0 2016-04-22 13:48:00 2016-04-22 16:12:00  4/22/16  1:48:00 PM  4:12:00 PM   \n",
       "1 2016-04-22 16:12:00 2016-04-22 17:15:00  4/22/16  4:12:00 PM  5:15:00 PM   \n",
       "2 2016-04-22 17:15:00 2016-04-22 19:05:00  4/22/16  5:15:00 PM  7:05:00 PM   \n",
       "3 2016-04-22 19:05:00 2016-04-22 19:15:00  4/22/16  7:05:00 PM  7:15:00 PM   \n",
       "4 2016-04-22 19:15:00 2016-04-22 19:25:00  4/22/16  7:15:00 PM  7:25:00 PM   \n",
       "\n",
       "                                            activity          location  \\\n",
       "0                                     writing thesis     barb's office   \n",
       "1                                     writing thesis     barb's office   \n",
       "2  eating russian dumplings with annie then watch...  5th floor lounge   \n",
       "3                                         photofeast         3rd floor   \n",
       "4             naked picture of charles in photofeast         3rd floor   \n",
       "\n",
       "                                      generalemo qualitative  excited  happy  \\\n",
       "0                                        anxious           6        0      0   \n",
       "1                                        anxious           6        0      0   \n",
       "2                                          happy          10        0      0   \n",
       "3                                excited/anxious       3-May        0      0   \n",
       "4  what can only be described as traumatic shock          10        0      0   \n",
       "\n",
       "   calm  anxious  sad  angry  hungry  tired  bored  \n",
       "0     0        0    0      0       0      0      0  \n",
       "1     0        0    0      0       0      0      0  \n",
       "2     0        0    0      0       0      0      0  \n",
       "3     0        0    0      0       0      0      0  \n",
       "4     0        0    0      0       0      0      0  "
      ]
     },
     "execution_count": 13,
     "metadata": {},
     "output_type": "execute_result"
    }
   ],
   "source": [
    "# clean metric data\n",
    "sarahJournal.starttime= pd.to_datetime(sarahJournal.starttime)\n",
    "sarahJournal.endtime= pd.to_datetime(sarahJournal.endtime)\n",
    "\n",
    "\n",
    "# sarahJournal.qualitative = sarahJournal.qualitative.convert_objects(convert_numeric=True)\n",
    "# sarahJournal.excited = sarahJournal.excited.convert_objects(convert_numeric=True)\n",
    "# sarahJournal.happy = sarahJournal.happy.convert_objects(convert_numeric=True)\n",
    "\n",
    "sarahJournal.qualitative = sarahJournal.qualitative.fillna(0)\n",
    "sarahJournal.excited = sarahJournal.excited.fillna(0)\n",
    "sarahJournal.happy = sarahJournal.happy.fillna(0)\n",
    "sarahJournal.calm = sarahJournal.calm.fillna(0)\n",
    "sarahJournal.anxious = sarahJournal.anxious.fillna(0)\n",
    "sarahJournal.sad = sarahJournal.sad.fillna(0)\n",
    "sarahJournal.angry = sarahJournal.angry.fillna(0)\n",
    "sarahJournal.hungry = sarahJournal.hungry.fillna(0)\n",
    "sarahJournal.tired = sarahJournal.tired.fillna(0)\n",
    "sarahJournal.bored = sarahJournal.bored.fillna(0)\n",
    "\n",
    "print(sarahJournal.shape)\n",
    "sarahJournal.head(5)\n",
    "# sarahJournal.tail(5)"
   ]
  },
  {
   "cell_type": "code",
   "execution_count": 14,
   "metadata": {
    "collapsed": false
   },
   "outputs": [
    {
     "data": {
      "text/html": [
       "<div>\n",
       "<table border=\"1\" class=\"dataframe\">\n",
       "  <thead>\n",
       "    <tr style=\"text-align: right;\">\n",
       "      <th></th>\n",
       "      <th>starttime</th>\n",
       "      <th>endtime</th>\n",
       "      <th>date</th>\n",
       "      <th>start</th>\n",
       "      <th>end</th>\n",
       "      <th>activity</th>\n",
       "      <th>location</th>\n",
       "      <th>generalemo</th>\n",
       "      <th>qualitative</th>\n",
       "      <th>excited</th>\n",
       "      <th>...</th>\n",
       "      <th>inthungry</th>\n",
       "      <th>intbored</th>\n",
       "      <th>exercise</th>\n",
       "      <th>thesis</th>\n",
       "      <th>sally</th>\n",
       "      <th>barb</th>\n",
       "      <th>sol</th>\n",
       "      <th>arash</th>\n",
       "      <th>home</th>\n",
       "      <th>work</th>\n",
       "    </tr>\n",
       "  </thead>\n",
       "  <tbody>\n",
       "    <tr>\n",
       "      <th>0</th>\n",
       "      <td>2016-04-22 13:48:00</td>\n",
       "      <td>2016-04-22 16:12:00</td>\n",
       "      <td>4/22/16</td>\n",
       "      <td>1:48:00 PM</td>\n",
       "      <td>4:12:00 PM</td>\n",
       "      <td>writing thesis</td>\n",
       "      <td>barb's office</td>\n",
       "      <td>anxious</td>\n",
       "      <td>6</td>\n",
       "      <td>0</td>\n",
       "      <td>...</td>\n",
       "      <td>0</td>\n",
       "      <td>0</td>\n",
       "      <td>False</td>\n",
       "      <td>True</td>\n",
       "      <td>False</td>\n",
       "      <td>False</td>\n",
       "      <td>False</td>\n",
       "      <td>False</td>\n",
       "      <td>False</td>\n",
       "      <td>True</td>\n",
       "    </tr>\n",
       "    <tr>\n",
       "      <th>1</th>\n",
       "      <td>2016-04-22 16:12:00</td>\n",
       "      <td>2016-04-22 17:15:00</td>\n",
       "      <td>4/22/16</td>\n",
       "      <td>4:12:00 PM</td>\n",
       "      <td>5:15:00 PM</td>\n",
       "      <td>writing thesis</td>\n",
       "      <td>barb's office</td>\n",
       "      <td>anxious</td>\n",
       "      <td>6</td>\n",
       "      <td>0</td>\n",
       "      <td>...</td>\n",
       "      <td>0</td>\n",
       "      <td>0</td>\n",
       "      <td>False</td>\n",
       "      <td>True</td>\n",
       "      <td>False</td>\n",
       "      <td>False</td>\n",
       "      <td>False</td>\n",
       "      <td>False</td>\n",
       "      <td>False</td>\n",
       "      <td>True</td>\n",
       "    </tr>\n",
       "    <tr>\n",
       "      <th>2</th>\n",
       "      <td>2016-04-22 17:15:00</td>\n",
       "      <td>2016-04-22 19:05:00</td>\n",
       "      <td>4/22/16</td>\n",
       "      <td>5:15:00 PM</td>\n",
       "      <td>7:05:00 PM</td>\n",
       "      <td>eating russian dumplings with annie then watch...</td>\n",
       "      <td>5th floor lounge</td>\n",
       "      <td>happy</td>\n",
       "      <td>10</td>\n",
       "      <td>0</td>\n",
       "      <td>...</td>\n",
       "      <td>0</td>\n",
       "      <td>0</td>\n",
       "      <td>False</td>\n",
       "      <td>False</td>\n",
       "      <td>False</td>\n",
       "      <td>False</td>\n",
       "      <td>False</td>\n",
       "      <td>False</td>\n",
       "      <td>False</td>\n",
       "      <td>False</td>\n",
       "    </tr>\n",
       "    <tr>\n",
       "      <th>3</th>\n",
       "      <td>2016-04-22 19:05:00</td>\n",
       "      <td>2016-04-22 19:15:00</td>\n",
       "      <td>4/22/16</td>\n",
       "      <td>7:05:00 PM</td>\n",
       "      <td>7:15:00 PM</td>\n",
       "      <td>photofeast</td>\n",
       "      <td>3rd floor</td>\n",
       "      <td>excited/anxious</td>\n",
       "      <td>3-May</td>\n",
       "      <td>0</td>\n",
       "      <td>...</td>\n",
       "      <td>0</td>\n",
       "      <td>0</td>\n",
       "      <td>False</td>\n",
       "      <td>False</td>\n",
       "      <td>False</td>\n",
       "      <td>False</td>\n",
       "      <td>False</td>\n",
       "      <td>False</td>\n",
       "      <td>False</td>\n",
       "      <td>False</td>\n",
       "    </tr>\n",
       "    <tr>\n",
       "      <th>4</th>\n",
       "      <td>2016-04-22 19:15:00</td>\n",
       "      <td>2016-04-22 19:25:00</td>\n",
       "      <td>4/22/16</td>\n",
       "      <td>7:15:00 PM</td>\n",
       "      <td>7:25:00 PM</td>\n",
       "      <td>naked picture of charles in photofeast</td>\n",
       "      <td>3rd floor</td>\n",
       "      <td>what can only be described as traumatic shock</td>\n",
       "      <td>10</td>\n",
       "      <td>0</td>\n",
       "      <td>...</td>\n",
       "      <td>0</td>\n",
       "      <td>0</td>\n",
       "      <td>False</td>\n",
       "      <td>False</td>\n",
       "      <td>False</td>\n",
       "      <td>False</td>\n",
       "      <td>False</td>\n",
       "      <td>False</td>\n",
       "      <td>False</td>\n",
       "      <td>False</td>\n",
       "    </tr>\n",
       "  </tbody>\n",
       "</table>\n",
       "<p>5 rows × 44 columns</p>\n",
       "</div>"
      ],
      "text/plain": [
       "            starttime             endtime     date       start         end  \\\n",
       "0 2016-04-22 13:48:00 2016-04-22 16:12:00  4/22/16  1:48:00 PM  4:12:00 PM   \n",
       "1 2016-04-22 16:12:00 2016-04-22 17:15:00  4/22/16  4:12:00 PM  5:15:00 PM   \n",
       "2 2016-04-22 17:15:00 2016-04-22 19:05:00  4/22/16  5:15:00 PM  7:05:00 PM   \n",
       "3 2016-04-22 19:05:00 2016-04-22 19:15:00  4/22/16  7:05:00 PM  7:15:00 PM   \n",
       "4 2016-04-22 19:15:00 2016-04-22 19:25:00  4/22/16  7:15:00 PM  7:25:00 PM   \n",
       "\n",
       "                                            activity          location  \\\n",
       "0                                     writing thesis     barb's office   \n",
       "1                                     writing thesis     barb's office   \n",
       "2  eating russian dumplings with annie then watch...  5th floor lounge   \n",
       "3                                         photofeast         3rd floor   \n",
       "4             naked picture of charles in photofeast         3rd floor   \n",
       "\n",
       "                                      generalemo qualitative  excited  ...    \\\n",
       "0                                        anxious           6        0  ...     \n",
       "1                                        anxious           6        0  ...     \n",
       "2                                          happy          10        0  ...     \n",
       "3                                excited/anxious       3-May        0  ...     \n",
       "4  what can only be described as traumatic shock          10        0  ...     \n",
       "\n",
       "   inthungry  intbored  exercise  thesis  sally   barb    sol  arash   home  \\\n",
       "0          0         0     False    True  False  False  False  False  False   \n",
       "1          0         0     False    True  False  False  False  False  False   \n",
       "2          0         0     False   False  False  False  False  False  False   \n",
       "3          0         0     False   False  False  False  False  False  False   \n",
       "4          0         0     False   False  False  False  False  False  False   \n",
       "\n",
       "    work  \n",
       "0   True  \n",
       "1   True  \n",
       "2  False  \n",
       "3  False  \n",
       "4  False  \n",
       "\n",
       "[5 rows x 44 columns]"
      ]
     },
     "execution_count": 14,
     "metadata": {},
     "output_type": "execute_result"
    }
   ],
   "source": [
    "\n",
    "sarahJournal['boolexcited'] =  sarahJournal['excited'] > 0\n",
    "sarahJournal['boolhappy'] =  sarahJournal['happy'] > 0\n",
    "sarahJournal['boolcalm'] =  sarahJournal['calm'] > 0\n",
    "sarahJournal['boolanxious'] =  sarahJournal['anxious'] > 0\n",
    "sarahJournal['boolsad'] =  sarahJournal['sad'] > 0\n",
    "sarahJournal['boolangry'] =  sarahJournal['angry'] > 0\n",
    "sarahJournal['booltired'] =  sarahJournal['tired'] > 0\n",
    "sarahJournal['boolhungry'] =  sarahJournal['hungry'] > 0\n",
    "sarahJournal['boolbored'] =  sarahJournal['bored'] > 0\n",
    "\n",
    "\n",
    "for i in range(0, sarahJournal.shape[0]):\n",
    "#     sarahJournal['intqual'] = int(sarahJournal.iloc[i, 8])\n",
    "    sarahJournal['intexcited'] = int(sarahJournal.iloc[i, 9])\n",
    "    sarahJournal['inthappy'] = int(sarahJournal.iloc[i, 10]) \n",
    "    sarahJournal['intcalm'] = int(sarahJournal.iloc[i, 11])\n",
    "    sarahJournal['intanxious'] = int(sarahJournal.iloc[i, 12])\n",
    "    sarahJournal['intsad'] = int(sarahJournal.iloc[i, 13]) \n",
    "    sarahJournal['intangry'] = int(sarahJournal.iloc[i, 14]) \n",
    "    sarahJournal['inttired'] = int(sarahJournal.iloc[i, 15]) \n",
    "    sarahJournal['inthungry'] = int(sarahJournal.iloc[i, 16]) \n",
    "    sarahJournal['intbored'] = int(sarahJournal.iloc[i, 17]) \n",
    "    \n",
    "sarahJournal['exercise'] = sarahJournal['activity'].str.contains('exercise')\n",
    "sarahJournal['thesis'] = sarahJournal['activity'].str.contains('thesis')\n",
    "sarahJournal['sally'] = sarahJournal['activity'].str.contains('sally')\n",
    "sarahJournal['barb'] = sarahJournal['activity'].str.contains('barb')\n",
    "sarahJournal['sol'] = sarahJournal['activity'].str.contains('sol')\n",
    "sarahJournal['arash'] = sarahJournal['activity'].str.contains('arash')\n",
    "\n",
    "sarahJournal['home'] = sarahJournal['location'].str.contains('home')\n",
    "sarahJournal['work'] = sarahJournal['location'].str.contains(\"barb's office\")\n",
    "\n",
    "\n",
    "\n",
    "\n",
    "boolexcited = sarahJournal.iloc[:, 18].values.reshape(sarahJournal.shape[0], 1)\n",
    "boolhappy = sarahJournal.iloc[:, 19].values.reshape(sarahJournal.shape[0], 1)\n",
    "boolcalm = sarahJournal.iloc[:, 20].values.reshape(sarahJournal.shape[0], 1)\n",
    "boolanxious = sarahJournal.iloc[:, 21].values.reshape(sarahJournal.shape[0], 1)\n",
    "boolsad = sarahJournal.iloc[:, 22].values.reshape(sarahJournal.shape[0], 1)\n",
    "boolangry = sarahJournal.iloc[:, 23].values.reshape(sarahJournal.shape[0], 1)\n",
    "booltired = sarahJournal.iloc[:, 24].values.reshape(sarahJournal.shape[0], 1)\n",
    "boolhungry = sarahJournal.iloc[:, 25].values.reshape(sarahJournal.shape[0], 1)\n",
    "boolbored = sarahJournal.iloc[:, 26].values.reshape(sarahJournal.shape[0], 1)\n",
    "intexcited = sarahJournal.iloc[:, 27].values.reshape(sarahJournal.shape[0], 1)\n",
    "inthappy = sarahJournal.iloc[:, 28].values.reshape(sarahJournal.shape[0], 1)\n",
    "intcalm = sarahJournal.iloc[:, 29].values.reshape(sarahJournal.shape[0], 1)\n",
    "intanxious = sarahJournal.iloc[:, 30].values.reshape(sarahJournal.shape[0], 1)\n",
    "intsad = sarahJournal.iloc[:, 31].values.reshape(sarahJournal.shape[0], 1)\n",
    "intangry = sarahJournal.iloc[:, 32].values.reshape(sarahJournal.shape[0], 1)\n",
    "inttired = sarahJournal.iloc[:, 33].values.reshape(sarahJournal.shape[0], 1)\n",
    "inthungry = sarahJournal.iloc[:, 34].values.reshape(sarahJournal.shape[0], 1)\n",
    "intbored = sarahJournal.iloc[:, 35].values.reshape(sarahJournal.shape[0], 1)\n",
    "exercise = sarahJournal.iloc[:, 36].values.reshape(sarahJournal.shape[0], 1)\n",
    "thesis = sarahJournal.iloc[:, 37].values.reshape(sarahJournal.shape[0], 1)\n",
    "sally = sarahJournal.iloc[:, 38].values.reshape(sarahJournal.shape[0], 1)\n",
    "barb = sarahJournal.iloc[:, 39].values.reshape(sarahJournal.shape[0], 1)\n",
    "sol = sarahJournal.iloc[:, 40].values.reshape(sarahJournal.shape[0], 1)\n",
    "arash = sarahJournal.iloc[:, 41].values.reshape(sarahJournal.shape[0], 1)\n",
    "work = sarahJournal.iloc[:, 42].values.reshape(sarahJournal.shape[0], 1)\n",
    "home = sarahJournal.iloc[:, 43].values.reshape(sarahJournal.shape[0], 1)\n",
    "\n",
    "\n",
    "sarahJournal.head(5)"
   ]
  },
  {
   "cell_type": "code",
   "execution_count": 15,
   "metadata": {
    "collapsed": false
   },
   "outputs": [],
   "source": [
    "# sarahJournal.dtypes"
   ]
  },
  {
   "cell_type": "code",
   "execution_count": 16,
   "metadata": {
    "collapsed": false
   },
   "outputs": [],
   "source": [
    "# sarahJournal.excited.convert_objects(convert_numeric=True)"
   ]
  },
  {
   "cell_type": "code",
   "execution_count": 17,
   "metadata": {
    "collapsed": false
   },
   "outputs": [],
   "source": [
    "# function that takes any journal or activity data and creates indicators for activities or emotions\n",
    "\n",
    "def makeIndicators(newvar, metricData, journalData, journal_startdatetime_loc, journal_enddatetime_loc, journal_activity_loc):\n",
    "    '''\n",
    "    Create boolean indicator variable for activities or emotions\n",
    "    newvar, string for name of new indicator variable\n",
    "    activity, string that matches the name of the activity or emotion in the journalData data frame\n",
    "    bioData, data frame of input biometric data\n",
    "    journalData, data frame of input journal or activity data\n",
    "    journal_startdatetime_loc, int of position of the start datetime in journalData\n",
    "    journal_enddatetime_loc, int of position of the end datetime in journalData\n",
    "    journal_activity_loc, int of position of the activity or emotion in journalData\n",
    "    '''\n",
    "\n",
    "    metricData[newvar] = False\n",
    "\n",
    "    for i in range(0, journalData.shape[0]):\n",
    "        metricData['xlt'] = (metricData['timestamp'] >= pd.to_datetime(journalData.iloc[i, journal_startdatetime_loc]))\n",
    "        metricData['xgt'] = (metricData['timestamp'] <= pd.to_datetime(journalData.iloc[i, journal_enddatetime_loc]))\n",
    "#         metricData['xw'] = (journalData.iloc[i, journal_activity_loc])\n",
    "        metricData['xw'] = (journalData.iloc[i, journal_activity_loc] == True)\n",
    "        metricData['xsum'] = metricData['xlt'].astype(int) + metricData['xgt'].astype(int) + metricData['xw'].astype(int)\n",
    "        metricData.loc[metricData['xsum']==3, newvar] = True\n",
    "    \n",
    "    metricData = metricData.drop(['xlt', 'xgt', 'xw', 'xsum'], axis=1)\n",
    "    return metricData"
   ]
  },
  {
   "cell_type": "code",
   "execution_count": 18,
   "metadata": {
    "collapsed": false
   },
   "outputs": [],
   "source": [
    "# indicator for walking\n",
    "totalData = makeIndicators('excitement', sarahMetrics, sarahJournal, 0, 1, 18)\n",
    "totalData = makeIndicators('happy', sarahMetrics, sarahJournal, 0, 1, 19)\n",
    "totalData = makeIndicators('calm', sarahMetrics, sarahJournal, 0, 1, 20)\n",
    "totalData = makeIndicators('anxious', sarahMetrics, sarahJournal, 0, 1, 21)\n",
    "totalData = makeIndicators('sad', sarahMetrics, sarahJournal, 0, 1, 22)\n",
    "totalData = makeIndicators('angry', sarahMetrics, sarahJournal, 0, 1, 23)\n",
    "totalData = makeIndicators('hungry', sarahMetrics, sarahJournal, 0, 1, 24)\n",
    "totalData = makeIndicators('tired', sarahMetrics, sarahJournal, 0, 1, 25)\n",
    "totalData = makeIndicators('bored', sarahMetrics, sarahJournal, 0, 1, 26)\n",
    "\n",
    "totalData = makeIndicators('exercise', sarahMetrics, sarahJournal, 0, 1, 36)\n",
    "totalData = makeIndicators('thesis', sarahMetrics, sarahJournal, 0, 1, 37)\n",
    "totalData = makeIndicators('sally', sarahMetrics, sarahJournal, 0, 1, 38)\n",
    "totalData = makeIndicators('barb', sarahMetrics, sarahJournal, 0, 1, 39)\n",
    "totalData = makeIndicators('sol', sarahMetrics, sarahJournal, 0, 1, 40)\n",
    "totalData = makeIndicators('arash', sarahMetrics, sarahJournal, 0, 1, 41)\n",
    "totalData = makeIndicators('work', sarahMetrics, sarahJournal, 0, 1, 42)\n",
    "totalData = makeIndicators('home', sarahMetrics, sarahJournal, 0, 1, 43)"
   ]
  },
  {
   "cell_type": "code",
   "execution_count": 19,
   "metadata": {
    "collapsed": false
   },
   "outputs": [
    {
     "name": "stdout",
     "output_type": "stream",
     "text": [
      "          heartrate         steps      calories           gsr      skintemp  \\\n",
      "count  18540.000000  18540.000000  18540.000000  18540.000000  18540.000000   \n",
      "mean      81.698058      8.188080      1.737449      0.042450     82.748549   \n",
      "std       28.134934     25.363245      8.760419      0.403378     23.151163   \n",
      "min        0.000000      0.000000      0.000000      0.000000      0.000000   \n",
      "25%       69.000000      0.000000      1.000000      0.000053     86.000000   \n",
      "50%       85.000000      0.000000      1.100000      0.000061     88.700000   \n",
      "75%       98.000000      0.000000      1.700000      0.000078     91.400000   \n",
      "max      168.000000    695.000000   1167.400020     10.500000     97.700000   \n",
      "\n",
      "            airtemp excitement      happy      calm   anxious    ...     \\\n",
      "count  18540.000000      18540      18540     18540     18540    ...      \n",
      "mean      79.519180  0.0108414  0.0307443  0.135761  0.197843    ...      \n",
      "std       22.483904   0.103559   0.172629  0.342543  0.398383    ...      \n",
      "min        0.000000      False      False     False     False    ...      \n",
      "25%       81.500000          0          0         0         0    ...      \n",
      "50%       85.100000          0          0         0         0    ...      \n",
      "75%       88.700000          0          0         0         0    ...      \n",
      "max       97.700000       True       True      True      True    ...      \n",
      "\n",
      "            tired      bored   exercise     thesis       sally        barb  \\\n",
      "count       18540      18540      18540      18540       18540       18540   \n",
      "mean   0.00938511  0.0529126  0.0223301  0.0378641  0.00480043  0.00177994   \n",
      "std     0.0964237   0.223865   0.147759   0.190873   0.0691205   0.0421529   \n",
      "min         False      False      False      False       False       False   \n",
      "25%             0          0          0          0           0           0   \n",
      "50%             0          0          0          0           0           0   \n",
      "75%             0          0          0          0           0           0   \n",
      "max          True       True       True       True        True        True   \n",
      "\n",
      "             sol     arash      work      home  \n",
      "count      18540     18540     18540     18540  \n",
      "mean   0.0158576  0.018932  0.181661  0.028479  \n",
      "std     0.124928  0.136289  0.385576  0.166341  \n",
      "min        False     False     False     False  \n",
      "25%            0         0         0         0  \n",
      "50%            0         0         0         0  \n",
      "75%            0         0         0         0  \n",
      "max         True      True      True      True  \n",
      "\n",
      "[8 rows x 23 columns]\n"
     ]
    }
   ],
   "source": [
    "print(totalData.describe())"
   ]
  },
  {
   "cell_type": "code",
   "execution_count": 20,
   "metadata": {
    "collapsed": false
   },
   "outputs": [
    {
     "name": "stdout",
     "output_type": "stream",
     "text": [
      "            timestamp  heartrate  steps  calories  gsr  skintemp  airtemp  \\\n",
      "0 2016-04-22 00:00:00          0      0         0    0         0        0   \n",
      "1 2016-04-22 00:01:00          0      0         0    0         0        0   \n",
      "2 2016-04-22 00:02:00          0      0         0    0         0        0   \n",
      "3 2016-04-22 00:03:00          0      0         0    0         0        0   \n",
      "4 2016-04-22 00:04:00          0      0         0    0         0        0   \n",
      "\n",
      "  excitement  happy   calm  ...    tired  bored exercise thesis  sally   barb  \\\n",
      "0      False  False  False  ...    False  False    False  False  False  False   \n",
      "1      False  False  False  ...    False  False    False  False  False  False   \n",
      "2      False  False  False  ...    False  False    False  False  False  False   \n",
      "3      False  False  False  ...    False  False    False  False  False  False   \n",
      "4      False  False  False  ...    False  False    False  False  False  False   \n",
      "\n",
      "     sol  arash   work   home  \n",
      "0  False  False  False  False  \n",
      "1  False  False  False  False  \n",
      "2  False  False  False  False  \n",
      "3  False  False  False  False  \n",
      "4  False  False  False  False  \n",
      "\n",
      "[5 rows x 24 columns]\n"
     ]
    }
   ],
   "source": [
    "print(totalData.head())"
   ]
  },
  {
   "cell_type": "code",
   "execution_count": 21,
   "metadata": {
    "collapsed": false
   },
   "outputs": [],
   "source": [
    "totalData.to_csv('sarahTotal.csv')"
   ]
  },
  {
   "cell_type": "code",
   "execution_count": 22,
   "metadata": {
    "collapsed": false
   },
   "outputs": [
    {
     "data": {
      "text/html": [
       "<div>\n",
       "<table border=\"1\" class=\"dataframe\">\n",
       "  <thead>\n",
       "    <tr style=\"text-align: right;\">\n",
       "      <th></th>\n",
       "      <th>timestamp</th>\n",
       "      <th>heartrate</th>\n",
       "      <th>steps</th>\n",
       "      <th>calories</th>\n",
       "      <th>gsr</th>\n",
       "      <th>skintemp</th>\n",
       "      <th>airtemp</th>\n",
       "      <th>excitement</th>\n",
       "      <th>happy</th>\n",
       "      <th>calm</th>\n",
       "      <th>...</th>\n",
       "      <th>tired</th>\n",
       "      <th>bored</th>\n",
       "      <th>exercise</th>\n",
       "      <th>thesis</th>\n",
       "      <th>sally</th>\n",
       "      <th>barb</th>\n",
       "      <th>sol</th>\n",
       "      <th>arash</th>\n",
       "      <th>work</th>\n",
       "      <th>home</th>\n",
       "    </tr>\n",
       "  </thead>\n",
       "  <tbody>\n",
       "    <tr>\n",
       "      <th>0</th>\n",
       "      <td>2016-04-22 00:00:00</td>\n",
       "      <td>0</td>\n",
       "      <td>0</td>\n",
       "      <td>0</td>\n",
       "      <td>0</td>\n",
       "      <td>0</td>\n",
       "      <td>0</td>\n",
       "      <td>False</td>\n",
       "      <td>False</td>\n",
       "      <td>False</td>\n",
       "      <td>...</td>\n",
       "      <td>False</td>\n",
       "      <td>False</td>\n",
       "      <td>False</td>\n",
       "      <td>False</td>\n",
       "      <td>False</td>\n",
       "      <td>False</td>\n",
       "      <td>False</td>\n",
       "      <td>False</td>\n",
       "      <td>False</td>\n",
       "      <td>False</td>\n",
       "    </tr>\n",
       "    <tr>\n",
       "      <th>1</th>\n",
       "      <td>2016-04-22 00:01:00</td>\n",
       "      <td>0</td>\n",
       "      <td>0</td>\n",
       "      <td>0</td>\n",
       "      <td>0</td>\n",
       "      <td>0</td>\n",
       "      <td>0</td>\n",
       "      <td>False</td>\n",
       "      <td>False</td>\n",
       "      <td>False</td>\n",
       "      <td>...</td>\n",
       "      <td>False</td>\n",
       "      <td>False</td>\n",
       "      <td>False</td>\n",
       "      <td>False</td>\n",
       "      <td>False</td>\n",
       "      <td>False</td>\n",
       "      <td>False</td>\n",
       "      <td>False</td>\n",
       "      <td>False</td>\n",
       "      <td>False</td>\n",
       "    </tr>\n",
       "    <tr>\n",
       "      <th>2</th>\n",
       "      <td>2016-04-22 00:02:00</td>\n",
       "      <td>0</td>\n",
       "      <td>0</td>\n",
       "      <td>0</td>\n",
       "      <td>0</td>\n",
       "      <td>0</td>\n",
       "      <td>0</td>\n",
       "      <td>False</td>\n",
       "      <td>False</td>\n",
       "      <td>False</td>\n",
       "      <td>...</td>\n",
       "      <td>False</td>\n",
       "      <td>False</td>\n",
       "      <td>False</td>\n",
       "      <td>False</td>\n",
       "      <td>False</td>\n",
       "      <td>False</td>\n",
       "      <td>False</td>\n",
       "      <td>False</td>\n",
       "      <td>False</td>\n",
       "      <td>False</td>\n",
       "    </tr>\n",
       "    <tr>\n",
       "      <th>3</th>\n",
       "      <td>2016-04-22 00:03:00</td>\n",
       "      <td>0</td>\n",
       "      <td>0</td>\n",
       "      <td>0</td>\n",
       "      <td>0</td>\n",
       "      <td>0</td>\n",
       "      <td>0</td>\n",
       "      <td>False</td>\n",
       "      <td>False</td>\n",
       "      <td>False</td>\n",
       "      <td>...</td>\n",
       "      <td>False</td>\n",
       "      <td>False</td>\n",
       "      <td>False</td>\n",
       "      <td>False</td>\n",
       "      <td>False</td>\n",
       "      <td>False</td>\n",
       "      <td>False</td>\n",
       "      <td>False</td>\n",
       "      <td>False</td>\n",
       "      <td>False</td>\n",
       "    </tr>\n",
       "    <tr>\n",
       "      <th>4</th>\n",
       "      <td>2016-04-22 00:04:00</td>\n",
       "      <td>0</td>\n",
       "      <td>0</td>\n",
       "      <td>0</td>\n",
       "      <td>0</td>\n",
       "      <td>0</td>\n",
       "      <td>0</td>\n",
       "      <td>False</td>\n",
       "      <td>False</td>\n",
       "      <td>False</td>\n",
       "      <td>...</td>\n",
       "      <td>False</td>\n",
       "      <td>False</td>\n",
       "      <td>False</td>\n",
       "      <td>False</td>\n",
       "      <td>False</td>\n",
       "      <td>False</td>\n",
       "      <td>False</td>\n",
       "      <td>False</td>\n",
       "      <td>False</td>\n",
       "      <td>False</td>\n",
       "    </tr>\n",
       "  </tbody>\n",
       "</table>\n",
       "<p>5 rows × 24 columns</p>\n",
       "</div>"
      ],
      "text/plain": [
       "            timestamp  heartrate  steps  calories  gsr  skintemp  airtemp  \\\n",
       "0 2016-04-22 00:00:00          0      0         0    0         0        0   \n",
       "1 2016-04-22 00:01:00          0      0         0    0         0        0   \n",
       "2 2016-04-22 00:02:00          0      0         0    0         0        0   \n",
       "3 2016-04-22 00:03:00          0      0         0    0         0        0   \n",
       "4 2016-04-22 00:04:00          0      0         0    0         0        0   \n",
       "\n",
       "  excitement  happy   calm  ...    tired  bored exercise thesis  sally   barb  \\\n",
       "0      False  False  False  ...    False  False    False  False  False  False   \n",
       "1      False  False  False  ...    False  False    False  False  False  False   \n",
       "2      False  False  False  ...    False  False    False  False  False  False   \n",
       "3      False  False  False  ...    False  False    False  False  False  False   \n",
       "4      False  False  False  ...    False  False    False  False  False  False   \n",
       "\n",
       "     sol  arash   work   home  \n",
       "0  False  False  False  False  \n",
       "1  False  False  False  False  \n",
       "2  False  False  False  False  \n",
       "3  False  False  False  False  \n",
       "4  False  False  False  False  \n",
       "\n",
       "[5 rows x 24 columns]"
      ]
     },
     "execution_count": 22,
     "metadata": {},
     "output_type": "execute_result"
    }
   ],
   "source": [
    "totalData.head(5)"
   ]
  },
  {
   "cell_type": "code",
   "execution_count": 23,
   "metadata": {
    "collapsed": false
   },
   "outputs": [
    {
     "name": "stdout",
     "output_type": "stream",
     "text": [
      "(18540, 28)\n",
      "            timestamp  heartrate  steps  calories  gsr  skintemp  airtemp  \\\n",
      "0 2016-04-22 00:00:00          0      0         0    0         0        0   \n",
      "1 2016-04-22 00:01:00          0      0         0    0         0        0   \n",
      "2 2016-04-22 00:02:00          0      0         0    0         0        0   \n",
      "3 2016-04-22 00:03:00          0      0         0    0         0        0   \n",
      "4 2016-04-22 00:04:00          0      0         0    0         0        0   \n",
      "\n",
      "  excitement  happy   calm ...  sally   barb    sol  arash   work   home  \\\n",
      "0      False  False  False ...  False  False  False  False  False  False   \n",
      "1      False  False  False ...  False  False  False  False  False  False   \n",
      "2      False  False  False ...  False  False  False  False  False  False   \n",
      "3      False  False  False ...  False  False  False  False  False  False   \n",
      "4      False  False  False ...  False  False  False  False  False  False   \n",
      "\n",
      "  weekday month hour min  \n",
      "0       4     4    0   0  \n",
      "1       4     4    0   1  \n",
      "2       4     4    0   2  \n",
      "3       4     4    0   3  \n",
      "4       4     4    0   4  \n",
      "\n",
      "[5 rows x 28 columns]\n"
     ]
    }
   ],
   "source": [
    "# find day of week (0-6, Mon-Sun)\n",
    "totalData['weekday'] = totalData['timestamp'].dt.weekday\n",
    "totalData['month'] = totalData['timestamp'].dt.month\n",
    "totalData['hour'] = totalData['timestamp'].dt.hour\n",
    "totalData['min'] = totalData['timestamp'].dt.minute\n",
    "\n",
    "\n",
    "print(totalData.shape)\n",
    "print(totalData.head(5))"
   ]
  },
  {
   "cell_type": "code",
   "execution_count": 24,
   "metadata": {
    "collapsed": false
   },
   "outputs": [],
   "source": [
    "heartrate = totalData.iloc[:, 1].values.reshape(totalData.shape[0], 1)\n",
    "steps = totalData.iloc[:, 2].values.reshape(totalData.shape[0], 1)\n",
    "calories = totalData.iloc[:, 3].values.reshape(totalData.shape[0], 1)\n",
    "gsr = totalData.iloc[:, 4].values.reshape(totalData.shape[0], 1)\n",
    "skintemp = totalData.iloc[:, 5].values.reshape(totalData.shape[0], 1)\n",
    "airtemp = totalData.iloc[:, 6].values.reshape(totalData.shape[0], 1)\n",
    "# activity = totalData.iloc[:, 17].values.reshape(totalData.shape[0], 1)\n",
    "exercise = totalData.iloc[:, 17].values.reshape(totalData.shape[0], 1)\n",
    "thesis = totalData.iloc[:, 18].values.reshape(totalData.shape[0], 1)\n",
    "sally = totalData.iloc[:, 19].values.reshape(totalData.shape[0], 1)\n",
    "barb = totalData.iloc[:, 20].values.reshape(totalData.shape[0], 1)\n",
    "sol = totalData.iloc[:, 21].values.reshape(totalData.shape[0], 1)\n",
    "arash = totalData.iloc[:, 22].values.reshape(totalData.shape[0], 1)\n",
    "work = totalData.iloc[:, 23].values.reshape(totalData.shape[0], 1)\n",
    "home = totalData.iloc[:, 24].values.reshape(totalData.shape[0], 1)\n",
    "# DayOfWeek = totalData.iloc[:, 25].values.reshape(totalData.shape[0], 1)\n",
    "# Month = totalData.iloc[:, 26].values.reshape(totalData.shape[0], 1)\n",
    "weekday = totalData.iloc[:, 25].values.reshape(totalData.shape[0], 1)\n",
    "# month = totalData.iloc[:, 29].values.reshape(totalData.shape[0], 1)\n",
    "hour = totalData.iloc[:, 26].values.reshape(totalData.shape[0], 1)\n",
    "curmin = totalData.iloc[:, 27].values.reshape(totalData.shape[0], 1)"
   ]
  },
  {
   "cell_type": "code",
   "execution_count": 25,
   "metadata": {
    "collapsed": false
   },
   "outputs": [
    {
     "data": {
      "text/plain": [
       "(18540, 9)"
      ]
     },
     "execution_count": 25,
     "metadata": {},
     "output_type": "execute_result"
    }
   ],
   "source": [
    "# concatenate to numpy dataset\n",
    "X = np.concatenate((\n",
    "        heartrate, \n",
    "        steps, \n",
    "        calories, \n",
    "        gsr, \n",
    "        skintemp, \n",
    "        airtemp, \n",
    "#         exercise, \n",
    "#         thesis, \n",
    "#         sally, \n",
    "#         barb, \n",
    "#         sol, \n",
    "#         arash, \n",
    "#         work, \n",
    "#         home, \n",
    "        weekday, \n",
    "        hour, \n",
    "        curmin\n",
    "    ), axis=1)\n",
    "\n",
    "X.shape"
   ]
  },
  {
   "cell_type": "code",
   "execution_count": 26,
   "metadata": {
    "collapsed": false
   },
   "outputs": [
    {
     "data": {
      "text/plain": [
       "(18540,)"
      ]
     },
     "execution_count": 26,
     "metadata": {},
     "output_type": "execute_result"
    }
   ],
   "source": [
    "# define y\n",
    "y = totalData.excitement.values\n",
    "y.shape"
   ]
  },
  {
   "cell_type": "code",
   "execution_count": 27,
   "metadata": {
    "collapsed": true
   },
   "outputs": [],
   "source": [
    "# create training and test sets\n",
    "from sklearn.cross_validation import train_test_split\n",
    "\n",
    "X_train, X_test, y_train, y_test = train_test_split(\n",
    "         X, y, test_size=0.3, random_state=0)"
   ]
  },
  {
   "cell_type": "code",
   "execution_count": 28,
   "metadata": {
    "collapsed": true
   },
   "outputs": [],
   "source": [
    "# feature scaling\n",
    "from sklearn.preprocessing import StandardScaler\n",
    "sc = StandardScaler(with_mean=False)\n",
    "sc.fit(X_train)\n",
    "X_train_std = sc.transform(X_train)\n",
    "X_test_std = sc.transform(X_test)"
   ]
  },
  {
   "cell_type": "code",
   "execution_count": 29,
   "metadata": {
    "collapsed": true
   },
   "outputs": [],
   "source": [
    "# report on training and test sets\n",
    "global SVMerror, SVMacc, SVMtp, SVMtn, LRerror, LRacc, LRtp, LRtn, NBerror, NBacc, NBtp, NBtn, Perror, Pacc, Ptp, Ptn\n",
    "\n",
    "\n",
    "\n",
    "def print_results(model):\n",
    "    #print('Error rate on training set: ')\n",
    "    erTRAIN = ((y_train != y_pred).sum() / X_train.shape[0])\n",
    "    #print('Accuracy rate on training set: ')\n",
    "    AccTRAIN = (1 - (y_train != y_pred).sum() / X_train.shape[0])\n",
    "    #print('True positive rate on training tet:')\n",
    "    TruPosTRAIN = ((y_train==True) & (y_pred==True)).sum() / y_train.sum()\n",
    "    #TruNegTEST = (((y_train==False) & (y_pred_train==False)).sum() / (y_train.shape[0] - y_train.sum()))\n",
    "    #print('**************')\n",
    "    #('Error rate on test set: ')\n",
    "    erTEST = ((y_test != y_pred_test).sum() / X_test.shape[0])\n",
    "    #print('Accuracy rate on test set: ')\n",
    "    AccTEST = (1 - (y_test != y_pred_test).sum() / X_test.shape[0])\n",
    "    #print('True positive rate on test set')\n",
    "    TruPosTEST = (((y_test==True) & (y_pred_test==True)).sum() / y_test.sum())\n",
    "    #print('True negative rate on test set')\n",
    "    TruNegTEST = (((y_test==False) & (y_pred_test==False)).sum() / (y_test.shape[0] - y_test.sum()))\n",
    "    data_rows = [('Error Rate', erTRAIN, erTEST),\n",
    "                 ('Accuracy Rate', AccTRAIN, AccTEST),\n",
    "                 ('True Positives', TruPosTRAIN, TruPosTEST),\n",
    "                 ('True Negatives', '--', TruNegTEST)]\n",
    "    t = Table(rows=data_rows, names=(model, 'Training Set', 'Test Set'), meta={'name': model + ': Training and Test Set Results'})\n",
    "    print(t)\n",
    "    if model == 'SVM':\n",
    "        SVMerror = erTEST\n",
    "        SVMacc = AccTEST\n",
    "        SVMtp = TruPosTEST\n",
    "        SVMtn = TruNegTEST\n",
    "        return(SVMerror, SVMacc, SVMtp, SVMtn)\n",
    "    elif model == 'Logistic Regression':\n",
    "        LRerror = erTEST\n",
    "        LRacc = AccTEST\n",
    "        LRtp = TruPosTEST\n",
    "        LRtn = TruNegTEST\n",
    "        return(LRerror, LRacc, LRtp, LRtn)\n",
    "    elif model == 'Naive Bayes':\n",
    "        NBerror = erTEST\n",
    "        NBacc = AccTEST\n",
    "        NBtp = TruPosTEST\n",
    "        NBtn = TruNegTEST\n",
    "        return(NBerror, NBacc, NBtp, NBtn)\n",
    "    elif model == 'Perceptron':\n",
    "        Perror = erTEST\n",
    "        Pacc = AccTEST\n",
    "        Ptp = TruPosTEST\n",
    "        Ptn = TruNegTEST\n",
    "        return(Perror, Pacc, Ptp, Ptn)\n",
    "    print('done')\n",
    "      \n",
    "    #t.show_in_browser(jsviewer=True) \n",
    "    \n",
    "    \n",
    "def all_models_table():\n",
    "    all_rows = [('SVM', SVMerror, SVMacc, SVMtp, SVMtn),\n",
    "            ('Logistic Regression', LRerror, LRacc, LRtp, LRtn),\n",
    "            ('Naive Bayes', NBerror, NBacc, NBtp, NBtn),\n",
    "            ('Perceptron', Perror, Pacc, Ptp, Ptn)]\n",
    "    tt = Table(rows=all_rows, names=('', 'Error Rate', 'Accuracy', 'True +', 'True -'), meta={'3/15/2016'})\n",
    "    print(tt)"
   ]
  },
  {
   "cell_type": "markdown",
   "metadata": {},
   "source": [
    "# Excited Model Results"
   ]
  },
  {
   "cell_type": "code",
   "execution_count": 30,
   "metadata": {
    "collapsed": false
   },
   "outputs": [
    {
     "name": "stdout",
     "output_type": "stream",
     "text": [
      "     SVM         Training Set      Test Set   \n",
      "-------------- --------------- ---------------\n",
      "    Error Rate 0.0150254276468  0.014742898238\n",
      " Accuracy Rate  0.984974572353  0.985257101762\n",
      "True Positives 0.0620689655172 0.0357142857143\n",
      "True Negatives              --  0.994914638576\n"
     ]
    },
    {
     "data": {
      "text/plain": [
       "(0.014742898238043868,\n",
       " 0.98525710176195613,\n",
       " 0.035714285714285712,\n",
       " 0.99491463857609885)"
      ]
     },
     "execution_count": 30,
     "metadata": {},
     "output_type": "execute_result"
    }
   ],
   "source": [
    "# MODEL: SVM, linear\n",
    "from sklearn import linear_model\n",
    "clf = linear_model.SGDClassifier()\n",
    "clf.fit(X_train_std, y_train)\n",
    "y_pred = clf.fit(X_train_std, y_train).predict(X_train_std)\n",
    "y_pred_test = clf.predict(X_test_std)\n",
    "print_results('SVM')"
   ]
  },
  {
   "cell_type": "code",
   "execution_count": 31,
   "metadata": {
    "collapsed": false
   },
   "outputs": [
    {
     "name": "stdout",
     "output_type": "stream",
     "text": [
      "Logistic Regression   Training Set       Test Set   \n",
      "------------------- ---------------- ---------------\n",
      "         Error Rate  0.0110957004161 0.0100683207479\n",
      "      Accuracy Rate   0.988904299584  0.989931679252\n",
      "     True Positives 0.00689655172414             0.0\n",
      "     True Negatives               --             1.0\n"
     ]
    },
    {
     "data": {
      "text/plain": [
       "(0.010068320747932399, 0.9899316792520676, 0.0, 1.0)"
      ]
     },
     "execution_count": 31,
     "metadata": {},
     "output_type": "execute_result"
    }
   ],
   "source": [
    "# MODEL: logistic regression\n",
    "from sklearn import linear_model\n",
    "clf = linear_model.SGDClassifier(loss='log', n_iter=50, alpha=0.00001)\n",
    "clf.fit(X_train_std, y_train)\n",
    "y_pred = clf.fit(X_train_std, y_train).predict(X_train_std)\n",
    "y_pred_test = clf.predict(X_test_std)\n",
    "print_results('Logistic Regression')"
   ]
  },
  {
   "cell_type": "code",
   "execution_count": 32,
   "metadata": {
    "collapsed": false
   },
   "outputs": [
    {
     "name": "stdout",
     "output_type": "stream",
     "text": [
      " Naive Bayes    Training Set      Test Set   \n",
      "-------------- -------------- ---------------\n",
      "    Error Rate 0.022037293882 0.0208558072636\n",
      " Accuracy Rate 0.977962706118  0.979144192736\n",
      "True Positives 0.124137931034 0.0357142857143\n",
      "True Negatives             --  0.988739556847\n"
     ]
    },
    {
     "data": {
      "text/plain": [
       "(0.020855807263574253,\n",
       " 0.97914419273642572,\n",
       " 0.035714285714285712,\n",
       " 0.98873955684707593)"
      ]
     },
     "execution_count": 32,
     "metadata": {},
     "output_type": "execute_result"
    }
   ],
   "source": [
    "# MODEL: Naive Bayes\n",
    "from sklearn.naive_bayes import MultinomialNB\n",
    "clf = MultinomialNB()\n",
    "clf.fit(X_train_std, y_train)\n",
    "y_pred = clf.fit(X_train_std, y_train).predict(X_train_std)\n",
    "y_pred_test = clf.predict(X_test_std)\n",
    "print_results('Naive Bayes')"
   ]
  },
  {
   "cell_type": "code",
   "execution_count": 33,
   "metadata": {
    "collapsed": false
   },
   "outputs": [
    {
     "name": "stdout",
     "output_type": "stream",
     "text": [
      "  Perceptron     Training Set      Test Set   \n",
      "-------------- --------------- ---------------\n",
      "    Error Rate 0.0127138233934 0.0115066522834\n",
      " Accuracy Rate  0.987286176607  0.988493347717\n",
      "True Positives 0.0275862068966             0.0\n",
      "True Negatives              --  0.998547039593\n"
     ]
    },
    {
     "data": {
      "text/plain": [
       "(0.011506652283351312, 0.98849334771664865, 0.0, 0.99854703959317104)"
      ]
     },
     "execution_count": 33,
     "metadata": {},
     "output_type": "execute_result"
    }
   ],
   "source": [
    "# Perceptron\n",
    "from sklearn import linear_model\n",
    "clf = linear_model.SGDClassifier(loss='perceptron')\n",
    "clf.fit(X_train_std, y_train)\n",
    "y_pred = clf.fit(X_train_std, y_train).predict(X_train_std)\n",
    "y_pred_test = clf.predict(X_test_std)\n",
    "print_results('Perceptron')"
   ]
  },
  {
   "cell_type": "code",
   "execution_count": 34,
   "metadata": {
    "collapsed": false
   },
   "outputs": [
    {
     "data": {
      "text/plain": [
       "(18540,)"
      ]
     },
     "execution_count": 34,
     "metadata": {},
     "output_type": "execute_result"
    }
   ],
   "source": [
    "# define y\n",
    "y = totalData.happy.values\n",
    "y.shape"
   ]
  },
  {
   "cell_type": "code",
   "execution_count": 35,
   "metadata": {
    "collapsed": true
   },
   "outputs": [],
   "source": [
    "# create training and test sets\n",
    "from sklearn.cross_validation import train_test_split\n",
    "\n",
    "X_train, X_test, y_train, y_test = train_test_split(\n",
    "         X, y, test_size=0.3, random_state=0)"
   ]
  },
  {
   "cell_type": "code",
   "execution_count": 36,
   "metadata": {
    "collapsed": true
   },
   "outputs": [],
   "source": [
    "# feature scaling\n",
    "from sklearn.preprocessing import StandardScaler\n",
    "sc = StandardScaler(with_mean=False)\n",
    "sc.fit(X_train)\n",
    "X_train_std = sc.transform(X_train)\n",
    "X_test_std = sc.transform(X_test)"
   ]
  },
  {
   "cell_type": "markdown",
   "metadata": {},
   "source": [
    "# Happy Model Results"
   ]
  },
  {
   "cell_type": "code",
   "execution_count": 37,
   "metadata": {
    "collapsed": false
   },
   "outputs": [
    {
     "name": "stdout",
     "output_type": "stream",
     "text": [
      "     SVM        Training Set      Test Set   \n",
      "-------------- -------------- ---------------\n",
      "    Error Rate 0.030359069194 0.0316432937792\n",
      " Accuracy Rate 0.969640930806  0.968356706221\n",
      "True Positives            0.0             0.0\n",
      "True Negatives             --             1.0\n"
     ]
    },
    {
     "data": {
      "text/plain": [
       "(0.031643293779216111, 0.96835670622078385, 0.0, 1.0)"
      ]
     },
     "execution_count": 37,
     "metadata": {},
     "output_type": "execute_result"
    }
   ],
   "source": [
    "# MODEL: SVM, linear\n",
    "from sklearn import linear_model\n",
    "clf = linear_model.SGDClassifier()\n",
    "clf.fit(X_train_std, y_train)\n",
    "y_pred = clf.fit(X_train_std, y_train).predict(X_train_std)\n",
    "y_pred_test = clf.predict(X_test_std)\n",
    "print_results('SVM')"
   ]
  },
  {
   "cell_type": "code",
   "execution_count": 38,
   "metadata": {
    "collapsed": false
   },
   "outputs": [
    {
     "name": "stdout",
     "output_type": "stream",
     "text": [
      "Logistic Regression   Training Set      Test Set   \n",
      "------------------- --------------- ---------------\n",
      "         Error Rate 0.0402219140083 0.0440489032722\n",
      "      Accuracy Rate  0.959778085992  0.955951096728\n",
      "     True Positives 0.0380710659898 0.0340909090909\n",
      "     True Negatives              --  0.986075009283\n"
     ]
    },
    {
     "data": {
      "text/plain": [
       "(0.044048903272204246,\n",
       " 0.95595109672779577,\n",
       " 0.034090909090909088,\n",
       " 0.98607500928332714)"
      ]
     },
     "execution_count": 38,
     "metadata": {},
     "output_type": "execute_result"
    }
   ],
   "source": [
    "# MODEL: logistic regression\n",
    "from sklearn import linear_model\n",
    "clf = linear_model.SGDClassifier(loss='log', n_iter=50, alpha=0.00001)\n",
    "clf.fit(X_train_std, y_train)\n",
    "y_pred = clf.fit(X_train_std, y_train).predict(X_train_std)\n",
    "y_pred_test = clf.predict(X_test_std)\n",
    "print_results('Logistic Regression')"
   ]
  },
  {
   "cell_type": "code",
   "execution_count": 39,
   "metadata": {
    "collapsed": false
   },
   "outputs": [
    {
     "name": "stdout",
     "output_type": "stream",
     "text": [
      " Naive Bayes     Training Set      Test Set    \n",
      "-------------- --------------- ----------------\n",
      "    Error Rate 0.0329018338727  0.0363178712693\n",
      " Accuracy Rate  0.967098166127   0.963682128731\n",
      "True Positives 0.0203045685279 0.00568181818182\n",
      "True Negatives              --   0.994987003342\n"
     ]
    },
    {
     "data": {
      "text/plain": [
       "(0.036317871269327583,\n",
       " 0.96368212873067238,\n",
       " 0.005681818181818182,\n",
       " 0.99498700334199774)"
      ]
     },
     "execution_count": 39,
     "metadata": {},
     "output_type": "execute_result"
    }
   ],
   "source": [
    "# MODEL: Naive Bayes\n",
    "from sklearn.naive_bayes import MultinomialNB\n",
    "clf = MultinomialNB()\n",
    "clf.fit(X_train_std, y_train)\n",
    "y_pred = clf.fit(X_train_std, y_train).predict(X_train_std)\n",
    "y_pred_test = clf.predict(X_test_std)\n",
    "print_results('Naive Bayes')"
   ]
  },
  {
   "cell_type": "code",
   "execution_count": 40,
   "metadata": {
    "collapsed": false
   },
   "outputs": [
    {
     "name": "stdout",
     "output_type": "stream",
     "text": [
      "  Perceptron     Training Set      Test Set   \n",
      "-------------- --------------- ---------------\n",
      "    Error Rate 0.0516258283249 0.0546565983459\n",
      " Accuracy Rate  0.948374171675  0.945343401654\n",
      "True Positives 0.0532994923858 0.0568181818182\n",
      "True Negatives              --  0.974378017081\n"
     ]
    },
    {
     "data": {
      "text/plain": [
       "(0.054656598345918732,\n",
       " 0.94534340165408126,\n",
       " 0.056818181818181816,\n",
       " 0.97437801708132199)"
      ]
     },
     "execution_count": 40,
     "metadata": {},
     "output_type": "execute_result"
    }
   ],
   "source": [
    "# Perceptron\n",
    "from sklearn import linear_model\n",
    "clf = linear_model.SGDClassifier(loss='perceptron')\n",
    "clf.fit(X_train_std, y_train)\n",
    "y_pred = clf.fit(X_train_std, y_train).predict(X_train_std)\n",
    "y_pred_test = clf.predict(X_test_std)\n",
    "print_results('Perceptron')"
   ]
  },
  {
   "cell_type": "code",
   "execution_count": 41,
   "metadata": {
    "collapsed": false
   },
   "outputs": [
    {
     "data": {
      "text/plain": [
       "(18540,)"
      ]
     },
     "execution_count": 41,
     "metadata": {},
     "output_type": "execute_result"
    }
   ],
   "source": [
    "# define y\n",
    "y = totalData.calm.values\n",
    "y.shape"
   ]
  },
  {
   "cell_type": "code",
   "execution_count": 42,
   "metadata": {
    "collapsed": true
   },
   "outputs": [],
   "source": [
    "# create training and test sets\n",
    "from sklearn.cross_validation import train_test_split\n",
    "\n",
    "X_train, X_test, y_train, y_test = train_test_split(\n",
    "         X, y, test_size=0.3, random_state=0)"
   ]
  },
  {
   "cell_type": "code",
   "execution_count": 43,
   "metadata": {
    "collapsed": true
   },
   "outputs": [],
   "source": [
    "# feature scaling\n",
    "from sklearn.preprocessing import StandardScaler\n",
    "sc = StandardScaler(with_mean=False)\n",
    "sc.fit(X_train)\n",
    "X_train_std = sc.transform(X_train)\n",
    "X_test_std = sc.transform(X_test)"
   ]
  },
  {
   "cell_type": "markdown",
   "metadata": {},
   "source": [
    "# Calm Model Results"
   ]
  },
  {
   "cell_type": "code",
   "execution_count": 44,
   "metadata": {
    "collapsed": false
   },
   "outputs": [
    {
     "name": "stdout",
     "output_type": "stream",
     "text": [
      "     SVM        Training Set     Test Set   \n",
      "-------------- -------------- --------------\n",
      "    Error Rate 0.133918939744 0.140776699029\n",
      " Accuracy Rate 0.866081060256 0.859223300971\n",
      "True Positives            0.0            0.0\n",
      "True Negatives             -- 0.999581677473\n"
     ]
    },
    {
     "data": {
      "text/plain": [
       "(0.14077669902912621, 0.85922330097087385, 0.0, 0.99958167747333193)"
      ]
     },
     "execution_count": 44,
     "metadata": {},
     "output_type": "execute_result"
    }
   ],
   "source": [
    "# MODEL: SVM, linear\n",
    "from sklearn import linear_model\n",
    "clf = linear_model.SGDClassifier()\n",
    "clf.fit(X_train_std, y_train)\n",
    "y_pred = clf.fit(X_train_std, y_train).predict(X_train_std)\n",
    "y_pred_test = clf.predict(X_test_std)\n",
    "print_results('SVM')"
   ]
  },
  {
   "cell_type": "code",
   "execution_count": 45,
   "metadata": {
    "collapsed": false
   },
   "outputs": [
    {
     "name": "stdout",
     "output_type": "stream",
     "text": [
      "Logistic Regression   Training Set       Test Set    \n",
      "------------------- ---------------- ----------------\n",
      "         Error Rate   0.140468485129   0.145810859403\n",
      "      Accuracy Rate   0.859531514871   0.854189140597\n",
      "     True Positives 0.00633640552995 0.00768245838668\n",
      "     True Negatives               --    0.99247019452\n"
     ]
    },
    {
     "data": {
      "text/plain": [
       "(0.14581085940309241,\n",
       " 0.85418914059690754,\n",
       " 0.0076824583866837385,\n",
       " 0.99247019451997487)"
      ]
     },
     "execution_count": 45,
     "metadata": {},
     "output_type": "execute_result"
    }
   ],
   "source": [
    "# MODEL: logistic regression\n",
    "from sklearn import linear_model\n",
    "clf = linear_model.SGDClassifier(loss='log', n_iter=50, alpha=0.00001)\n",
    "clf.fit(X_train_std, y_train)\n",
    "y_pred = clf.fit(X_train_std, y_train).predict(X_train_std)\n",
    "y_pred_test = clf.predict(X_test_std)\n",
    "print_results('Logistic Regression')"
   ]
  },
  {
   "cell_type": "code",
   "execution_count": 46,
   "metadata": {
    "collapsed": false
   },
   "outputs": [
    {
     "name": "stdout",
     "output_type": "stream",
     "text": [
      " Naive Bayes    Training Set     Test Set   \n",
      "-------------- -------------- --------------\n",
      "    Error Rate 0.133764832794 0.140417116145\n",
      " Accuracy Rate 0.866235167206 0.859582883855\n",
      "True Positives            0.0            0.0\n",
      "True Negatives             --            1.0\n"
     ]
    },
    {
     "data": {
      "text/plain": [
       "(0.1404171161452715, 0.85958288385472847, 0.0, 1.0)"
      ]
     },
     "execution_count": 46,
     "metadata": {},
     "output_type": "execute_result"
    }
   ],
   "source": [
    "# MODEL: Naive Bayes\n",
    "from sklearn.naive_bayes import MultinomialNB\n",
    "clf = MultinomialNB()\n",
    "clf.fit(X_train_std, y_train)\n",
    "y_pred = clf.fit(X_train_std, y_train).predict(X_train_std)\n",
    "y_pred_test = clf.predict(X_test_std)\n",
    "print_results('Naive Bayes')"
   ]
  },
  {
   "cell_type": "code",
   "execution_count": 47,
   "metadata": {
    "collapsed": false
   },
   "outputs": [
    {
     "name": "stdout",
     "output_type": "stream",
     "text": [
      "  Perceptron    Training Set     Test Set   \n",
      "-------------- -------------- --------------\n",
      "    Error Rate 0.133764832794 0.140417116145\n",
      " Accuracy Rate 0.866235167206 0.859582883855\n",
      "True Positives            0.0            0.0\n",
      "True Negatives             --            1.0\n"
     ]
    },
    {
     "data": {
      "text/plain": [
       "(0.1404171161452715, 0.85958288385472847, 0.0, 1.0)"
      ]
     },
     "execution_count": 47,
     "metadata": {},
     "output_type": "execute_result"
    }
   ],
   "source": [
    "# Perceptron\n",
    "from sklearn import linear_model\n",
    "clf = linear_model.SGDClassifier(loss='perceptron')\n",
    "clf.fit(X_train_std, y_train)\n",
    "y_pred = clf.fit(X_train_std, y_train).predict(X_train_std)\n",
    "y_pred_test = clf.predict(X_test_std)\n",
    "print_results('Perceptron')"
   ]
  },
  {
   "cell_type": "code",
   "execution_count": 48,
   "metadata": {
    "collapsed": false
   },
   "outputs": [
    {
     "data": {
      "text/plain": [
       "(18540,)"
      ]
     },
     "execution_count": 48,
     "metadata": {},
     "output_type": "execute_result"
    }
   ],
   "source": [
    "# define y\n",
    "y = totalData.anxious.values\n",
    "y.shape"
   ]
  },
  {
   "cell_type": "code",
   "execution_count": 49,
   "metadata": {
    "collapsed": true
   },
   "outputs": [],
   "source": [
    "# create training and test sets\n",
    "from sklearn.cross_validation import train_test_split\n",
    "\n",
    "X_train, X_test, y_train, y_test = train_test_split(\n",
    "         X, y, test_size=0.3, random_state=0)"
   ]
  },
  {
   "cell_type": "code",
   "execution_count": 50,
   "metadata": {
    "collapsed": true
   },
   "outputs": [],
   "source": [
    "# feature scaling\n",
    "from sklearn.preprocessing import StandardScaler\n",
    "sc = StandardScaler(with_mean=False)\n",
    "sc.fit(X_train)\n",
    "X_train_std = sc.transform(X_train)\n",
    "X_test_std = sc.transform(X_test)"
   ]
  },
  {
   "cell_type": "markdown",
   "metadata": {},
   "source": [
    "# Anxious Model Results"
   ]
  },
  {
   "cell_type": "code",
   "execution_count": 51,
   "metadata": {
    "collapsed": false
   },
   "outputs": [
    {
     "name": "stdout",
     "output_type": "stream",
     "text": [
      "     SVM        Training Set     Test Set   \n",
      "-------------- -------------- --------------\n",
      "    Error Rate 0.211742949607 0.215929521755\n",
      " Accuracy Rate 0.788257050393 0.784070478245\n",
      "True Positives 0.444925255704 0.433392539964\n",
      "True Negatives             -- 0.873083859333\n"
     ]
    },
    {
     "data": {
      "text/plain": [
       "(0.21592952175476449,\n",
       " 0.78407047824523546,\n",
       " 0.43339253996447602,\n",
       " 0.87308385933273214)"
      ]
     },
     "execution_count": 51,
     "metadata": {},
     "output_type": "execute_result"
    }
   ],
   "source": [
    "# MODEL: SVM, linear\n",
    "from sklearn import linear_model\n",
    "clf = linear_model.SGDClassifier()\n",
    "clf.fit(X_train_std, y_train)\n",
    "y_pred = clf.fit(X_train_std, y_train).predict(X_train_std)\n",
    "y_pred_test = clf.predict(X_test_std)\n",
    "print_results('SVM')"
   ]
  },
  {
   "cell_type": "code",
   "execution_count": 52,
   "metadata": {
    "collapsed": false
   },
   "outputs": [
    {
     "name": "stdout",
     "output_type": "stream",
     "text": [
      "Logistic Regression   Training Set       Test Set    \n",
      "------------------- ---------------- ----------------\n",
      "         Error Rate   0.197102789336    0.20334412082\n",
      "      Accuracy Rate   0.802897210664    0.79665587918\n",
      "     True Positives 0.00157356412274 0.00177619893428\n",
      "     True Negatives               --   0.998422001803\n"
     ]
    },
    {
     "data": {
      "text/plain": [
       "(0.20334412081984898,\n",
       " 0.79665587918015102,\n",
       " 0.0017761989342806395,\n",
       " 0.99842200180342655)"
      ]
     },
     "execution_count": 52,
     "metadata": {},
     "output_type": "execute_result"
    }
   ],
   "source": [
    "# MODEL: logistic regression\n",
    "from sklearn import linear_model\n",
    "clf = linear_model.SGDClassifier(loss='log', n_iter=50, alpha=0.00001)\n",
    "clf.fit(X_train_std, y_train)\n",
    "y_pred = clf.fit(X_train_std, y_train).predict(X_train_std)\n",
    "y_pred_test = clf.predict(X_test_std)\n",
    "print_results('Logistic Regression')"
   ]
  },
  {
   "cell_type": "code",
   "execution_count": 53,
   "metadata": {
    "collapsed": false
   },
   "outputs": [
    {
     "name": "stdout",
     "output_type": "stream",
     "text": [
      " Naive Bayes     Training Set      Test Set    \n",
      "-------------- --------------- ----------------\n",
      "    Error Rate  0.197950377562   0.205321826681\n",
      " Accuracy Rate  0.802049622438   0.794678173319\n",
      "True Positives 0.0051140833989 0.00088809946714\n",
      "True Negatives              --   0.996167718665\n"
     ]
    },
    {
     "data": {
      "text/plain": [
       "(0.20532182668104998,\n",
       " 0.79467817331895008,\n",
       " 0.00088809946714031975,\n",
       " 0.99616771866546439)"
      ]
     },
     "execution_count": 53,
     "metadata": {},
     "output_type": "execute_result"
    }
   ],
   "source": [
    "# MODEL: Naive Bayes\n",
    "from sklearn.naive_bayes import MultinomialNB\n",
    "clf = MultinomialNB()\n",
    "clf.fit(X_train_std, y_train)\n",
    "y_pred = clf.fit(X_train_std, y_train).predict(X_train_std)\n",
    "y_pred_test = clf.predict(X_test_std)\n",
    "print_results('Naive Bayes')"
   ]
  },
  {
   "cell_type": "code",
   "execution_count": 54,
   "metadata": {
    "collapsed": false
   },
   "outputs": [
    {
     "name": "stdout",
     "output_type": "stream",
     "text": [
      "  Perceptron    Training Set     Test Set   \n",
      "-------------- -------------- --------------\n",
      "    Error Rate 0.212744644783 0.215030564545\n",
      " Accuracy Rate 0.787255355217 0.784969435455\n",
      "True Positives 0.285995279308 0.284191829485\n",
      "True Negatives             -- 0.912082957619\n"
     ]
    },
    {
     "data": {
      "text/plain": [
       "(0.21503056454512764,\n",
       " 0.78496943545487241,\n",
       " 0.28419182948490229,\n",
       " 0.912082957619477)"
      ]
     },
     "execution_count": 54,
     "metadata": {},
     "output_type": "execute_result"
    }
   ],
   "source": [
    "# Perceptron\n",
    "from sklearn import linear_model\n",
    "clf = linear_model.SGDClassifier(loss='perceptron')\n",
    "clf.fit(X_train_std, y_train)\n",
    "y_pred = clf.fit(X_train_std, y_train).predict(X_train_std)\n",
    "y_pred_test = clf.predict(X_test_std)\n",
    "print_results('Perceptron')"
   ]
  },
  {
   "cell_type": "code",
   "execution_count": 55,
   "metadata": {
    "collapsed": false
   },
   "outputs": [
    {
     "data": {
      "text/plain": [
       "(18540,)"
      ]
     },
     "execution_count": 55,
     "metadata": {},
     "output_type": "execute_result"
    }
   ],
   "source": [
    "# define y\n",
    "y = totalData.sad.values\n",
    "y.shape"
   ]
  },
  {
   "cell_type": "code",
   "execution_count": 56,
   "metadata": {
    "collapsed": true
   },
   "outputs": [],
   "source": [
    "# create training and test sets\n",
    "from sklearn.cross_validation import train_test_split\n",
    "\n",
    "X_train, X_test, y_train, y_test = train_test_split(\n",
    "         X, y, test_size=0.3, random_state=0)"
   ]
  },
  {
   "cell_type": "code",
   "execution_count": 57,
   "metadata": {
    "collapsed": true
   },
   "outputs": [],
   "source": [
    "# feature scaling\n",
    "from sklearn.preprocessing import StandardScaler\n",
    "sc = StandardScaler(with_mean=False)\n",
    "sc.fit(X_train)\n",
    "X_train_std = sc.transform(X_train)\n",
    "X_test_std = sc.transform(X_test)"
   ]
  },
  {
   "cell_type": "markdown",
   "metadata": {},
   "source": [
    "# Sad Model Values"
   ]
  },
  {
   "cell_type": "code",
   "execution_count": 58,
   "metadata": {
    "collapsed": false
   },
   "outputs": [
    {
     "name": "stdout",
     "output_type": "stream",
     "text": [
      "     SVM        Training Set      Test Set   \n",
      "-------------- -------------- ---------------\n",
      "    Error Rate 0.040684234859 0.0400934915498\n",
      " Accuracy Rate 0.959315765141   0.95990650845\n",
      "True Positives            0.0             0.0\n",
      "True Negatives             --             1.0\n"
     ]
    },
    {
     "data": {
      "text/plain": [
       "(0.040093491549802227, 0.95990650845019776, 0.0, 1.0)"
      ]
     },
     "execution_count": 58,
     "metadata": {},
     "output_type": "execute_result"
    }
   ],
   "source": [
    "# MODEL: SVM, linear\n",
    "from sklearn import linear_model\n",
    "clf = linear_model.SGDClassifier()\n",
    "clf.fit(X_train_std, y_train)\n",
    "y_pred = clf.fit(X_train_std, y_train).predict(X_train_std)\n",
    "y_pred_test = clf.predict(X_test_std)\n",
    "print_results('SVM')"
   ]
  },
  {
   "cell_type": "code",
   "execution_count": 59,
   "metadata": {
    "collapsed": false
   },
   "outputs": [
    {
     "name": "stdout",
     "output_type": "stream",
     "text": [
      "Logistic Regression  Training Set      Test Set   \n",
      "------------------- -------------- ---------------\n",
      "         Error Rate 0.040684234859 0.0402732829917\n",
      "      Accuracy Rate 0.959315765141  0.959726717008\n",
      "     True Positives            0.0             0.0\n",
      "     True Negatives             --  0.999812699007\n"
     ]
    },
    {
     "data": {
      "text/plain": [
       "(0.040273282991729595, 0.95972671700827039, 0.0, 0.99981269900730474)"
      ]
     },
     "execution_count": 59,
     "metadata": {},
     "output_type": "execute_result"
    }
   ],
   "source": [
    "# MODEL: logistic regression\n",
    "from sklearn import linear_model\n",
    "clf = linear_model.SGDClassifier(loss='log', n_iter=50, alpha=0.00001)\n",
    "clf.fit(X_train_std, y_train)\n",
    "y_pred = clf.fit(X_train_std, y_train).predict(X_train_std)\n",
    "y_pred_test = clf.predict(X_test_std)\n",
    "print_results('Logistic Regression')"
   ]
  },
  {
   "cell_type": "code",
   "execution_count": 60,
   "metadata": {
    "collapsed": false
   },
   "outputs": [
    {
     "name": "stdout",
     "output_type": "stream",
     "text": [
      " Naive Bayes     Training Set      Test Set   \n",
      "-------------- --------------- ---------------\n",
      "    Error Rate 0.0456927107413 0.0447680690399\n",
      " Accuracy Rate  0.954307289259   0.95523193096\n",
      "True Positives 0.0152091254753 0.0179372197309\n",
      "True Negatives              --  0.994380970219\n"
     ]
    },
    {
     "data": {
      "text/plain": [
       "(0.044768069039913698,\n",
       " 0.9552319309600863,\n",
       " 0.017937219730941704,\n",
       " 0.99438097021914218)"
      ]
     },
     "execution_count": 60,
     "metadata": {},
     "output_type": "execute_result"
    }
   ],
   "source": [
    "# MODEL: Naive Bayes\n",
    "from sklearn.naive_bayes import MultinomialNB\n",
    "clf = MultinomialNB()\n",
    "clf.fit(X_train_std, y_train)\n",
    "y_pred = clf.fit(X_train_std, y_train).predict(X_train_std)\n",
    "y_pred_test = clf.predict(X_test_std)\n",
    "print_results('Naive Bayes')"
   ]
  },
  {
   "cell_type": "code",
   "execution_count": 61,
   "metadata": {
    "collapsed": false
   },
   "outputs": [
    {
     "name": "stdout",
     "output_type": "stream",
     "text": [
      "  Perceptron     Training Set      Test Set   \n",
      "-------------- --------------- ---------------\n",
      "    Error Rate 0.0407612883341 0.0388349514563\n",
      " Accuracy Rate  0.959238711666  0.961165048544\n",
      "True Positives 0.0551330798479 0.0717488789238\n",
      "True Negatives              --  0.998314291066\n"
     ]
    },
    {
     "data": {
      "text/plain": [
       "(0.038834951456310676,\n",
       " 0.96116504854368934,\n",
       " 0.071748878923766815,\n",
       " 0.99831429106574265)"
      ]
     },
     "execution_count": 61,
     "metadata": {},
     "output_type": "execute_result"
    }
   ],
   "source": [
    "# Perceptron\n",
    "from sklearn import linear_model\n",
    "clf = linear_model.SGDClassifier(loss='perceptron')\n",
    "clf.fit(X_train_std, y_train)\n",
    "y_pred = clf.fit(X_train_std, y_train).predict(X_train_std)\n",
    "y_pred_test = clf.predict(X_test_std)\n",
    "print_results('Perceptron')"
   ]
  },
  {
   "cell_type": "code",
   "execution_count": 62,
   "metadata": {
    "collapsed": false
   },
   "outputs": [
    {
     "data": {
      "text/plain": [
       "(18540,)"
      ]
     },
     "execution_count": 62,
     "metadata": {},
     "output_type": "execute_result"
    }
   ],
   "source": [
    "# define y\n",
    "y = totalData.angry.values\n",
    "y.shape"
   ]
  },
  {
   "cell_type": "code",
   "execution_count": 63,
   "metadata": {
    "collapsed": true
   },
   "outputs": [],
   "source": [
    "# create training and test sets\n",
    "from sklearn.cross_validation import train_test_split\n",
    "\n",
    "X_train, X_test, y_train, y_test = train_test_split(\n",
    "         X, y, test_size=0.3, random_state=0)"
   ]
  },
  {
   "cell_type": "code",
   "execution_count": 64,
   "metadata": {
    "collapsed": true
   },
   "outputs": [],
   "source": [
    "# feature scaling\n",
    "from sklearn.preprocessing import StandardScaler\n",
    "sc = StandardScaler(with_mean=False)\n",
    "sc.fit(X_train)\n",
    "X_train_std = sc.transform(X_train)\n",
    "X_test_std = sc.transform(X_test)"
   ]
  },
  {
   "cell_type": "markdown",
   "metadata": {},
   "source": [
    "# Angry Model Results"
   ]
  },
  {
   "cell_type": "code",
   "execution_count": 65,
   "metadata": {
    "collapsed": false
   },
   "outputs": [
    {
     "name": "stdout",
     "output_type": "stream",
     "text": [
      "     SVM         Training Set      Test Set   \n",
      "-------------- --------------- ---------------\n",
      "    Error Rate 0.0591770688858 0.0667026249551\n",
      " Accuracy Rate  0.940822931114  0.933297375045\n",
      "True Positives             0.0             0.0\n",
      "True Negatives              --             1.0\n"
     ]
    },
    {
     "data": {
      "text/plain": [
       "(0.066702624955052137, 0.93329737504494781, 0.0, 1.0)"
      ]
     },
     "execution_count": 65,
     "metadata": {},
     "output_type": "execute_result"
    }
   ],
   "source": [
    "# MODEL: SVM, linear\n",
    "from sklearn import linear_model\n",
    "clf = linear_model.SGDClassifier()\n",
    "clf.fit(X_train_std, y_train)\n",
    "y_pred = clf.fit(X_train_std, y_train).predict(X_train_std)\n",
    "y_pred_test = clf.predict(X_test_std)\n",
    "print_results('SVM')"
   ]
  },
  {
   "cell_type": "code",
   "execution_count": 66,
   "metadata": {
    "collapsed": false
   },
   "outputs": [
    {
     "name": "stdout",
     "output_type": "stream",
     "text": [
      "Logistic Regression   Training Set     Test Set   \n",
      "------------------- --------------- --------------\n",
      "         Error Rate  0.130913854215 0.130348795397\n",
      "      Accuracy Rate  0.869086145785 0.869651204603\n",
      "     True Positives 0.0950520833333  0.11320754717\n",
      "     True Negatives              -- 0.923714120593\n"
     ]
    },
    {
     "data": {
      "text/plain": [
       "(0.1303487953973391,\n",
       " 0.86965120460266088,\n",
       " 0.11320754716981132,\n",
       " 0.92371412059333458)"
      ]
     },
     "execution_count": 66,
     "metadata": {},
     "output_type": "execute_result"
    }
   ],
   "source": [
    "# MODEL: logistic regression\n",
    "from sklearn import linear_model\n",
    "clf = linear_model.SGDClassifier(loss='log', n_iter=50, alpha=0.00001)\n",
    "clf.fit(X_train_std, y_train)\n",
    "y_pred = clf.fit(X_train_std, y_train).predict(X_train_std)\n",
    "y_pred_test = clf.predict(X_test_std)\n",
    "print_results('Logistic Regression')"
   ]
  },
  {
   "cell_type": "code",
   "execution_count": 67,
   "metadata": {
    "collapsed": false
   },
   "outputs": [
    {
     "name": "stdout",
     "output_type": "stream",
     "text": [
      " Naive Bayes     Training Set      Test Set   \n",
      "-------------- --------------- ---------------\n",
      "    Error Rate 0.0591770688858 0.0667026249551\n",
      " Accuracy Rate  0.940822931114  0.933297375045\n",
      "True Positives             0.0             0.0\n",
      "True Negatives              --             1.0\n"
     ]
    },
    {
     "data": {
      "text/plain": [
       "(0.066702624955052137, 0.93329737504494781, 0.0, 1.0)"
      ]
     },
     "execution_count": 67,
     "metadata": {},
     "output_type": "execute_result"
    }
   ],
   "source": [
    "# MODEL: Naive Bayes\n",
    "from sklearn.naive_bayes import MultinomialNB\n",
    "clf = MultinomialNB()\n",
    "clf.fit(X_train_std, y_train)\n",
    "y_pred = clf.fit(X_train_std, y_train).predict(X_train_std)\n",
    "y_pred_test = clf.predict(X_test_std)\n",
    "print_results('Naive Bayes')"
   ]
  },
  {
   "cell_type": "code",
   "execution_count": 68,
   "metadata": {
    "collapsed": false
   },
   "outputs": [
    {
     "name": "stdout",
     "output_type": "stream",
     "text": [
      "  Perceptron    Training Set     Test Set   \n",
      "-------------- -------------- --------------\n",
      "    Error Rate 0.192402527354 0.190758719885\n",
      " Accuracy Rate 0.807597472646 0.809241280115\n",
      "True Positives      0.6484375 0.630727762803\n",
      "True Negatives             -- 0.821999614718\n"
     ]
    },
    {
     "data": {
      "text/plain": [
       "(0.19075871988493348,\n",
       " 0.80924128011506657,\n",
       " 0.6307277628032345,\n",
       " 0.82199961471778082)"
      ]
     },
     "execution_count": 68,
     "metadata": {},
     "output_type": "execute_result"
    }
   ],
   "source": [
    "# Perceptron\n",
    "from sklearn import linear_model\n",
    "clf = linear_model.SGDClassifier(loss='perceptron')\n",
    "clf.fit(X_train_std, y_train)\n",
    "y_pred = clf.fit(X_train_std, y_train).predict(X_train_std)\n",
    "y_pred_test = clf.predict(X_test_std)\n",
    "print_results('Perceptron')"
   ]
  },
  {
   "cell_type": "code",
   "execution_count": 69,
   "metadata": {
    "collapsed": false
   },
   "outputs": [
    {
     "data": {
      "text/plain": [
       "(18540,)"
      ]
     },
     "execution_count": 69,
     "metadata": {},
     "output_type": "execute_result"
    }
   ],
   "source": [
    "# define y\n",
    "y = totalData.hungry.values\n",
    "y.shape"
   ]
  },
  {
   "cell_type": "code",
   "execution_count": 70,
   "metadata": {
    "collapsed": true
   },
   "outputs": [],
   "source": [
    "# create training and test sets\n",
    "from sklearn.cross_validation import train_test_split\n",
    "\n",
    "X_train, X_test, y_train, y_test = train_test_split(\n",
    "         X, y, test_size=0.3, random_state=0)"
   ]
  },
  {
   "cell_type": "code",
   "execution_count": 71,
   "metadata": {
    "collapsed": true
   },
   "outputs": [],
   "source": [
    "# feature scaling\n",
    "from sklearn.preprocessing import StandardScaler\n",
    "sc = StandardScaler(with_mean=False)\n",
    "sc.fit(X_train)\n",
    "X_train_std = sc.transform(X_train)\n",
    "X_test_std = sc.transform(X_test)"
   ]
  },
  {
   "cell_type": "markdown",
   "metadata": {},
   "source": [
    "# Hungry Model Results"
   ]
  },
  {
   "cell_type": "code",
   "execution_count": 72,
   "metadata": {
    "collapsed": false
   },
   "outputs": [
    {
     "name": "stdout",
     "output_type": "stream",
     "text": [
      "     SVM          Training Set       Test Set   \n",
      "-------------- ----------------- ---------------\n",
      "    Error Rate   0.0803667745415 0.0832434376124\n",
      " Accuracy Rate    0.919633225458  0.916756562388\n",
      "True Positives 0.000958772770853             0.0\n",
      "True Negatives                --             1.0\n"
     ]
    },
    {
     "data": {
      "text/plain": [
       "(0.083243437612369645, 0.91675656238763037, 0.0, 1.0)"
      ]
     },
     "execution_count": 72,
     "metadata": {},
     "output_type": "execute_result"
    }
   ],
   "source": [
    "# MODEL: SVM, linear\n",
    "from sklearn import linear_model\n",
    "clf = linear_model.SGDClassifier()\n",
    "clf.fit(X_train_std, y_train)\n",
    "y_pred = clf.fit(X_train_std, y_train).predict(X_train_std)\n",
    "y_pred_test = clf.predict(X_test_std)\n",
    "print_results('SVM')"
   ]
  },
  {
   "cell_type": "code",
   "execution_count": 73,
   "metadata": {
    "collapsed": false
   },
   "outputs": [
    {
     "name": "stdout",
     "output_type": "stream",
     "text": [
      "Logistic Regression   Training Set     Test Set   \n",
      "------------------- --------------- --------------\n",
      "         Error Rate 0.0859146247496 0.086659475009\n",
      "      Accuracy Rate   0.91408537525 0.913340524991\n",
      "     True Positives    0.1907957814 0.166306695464\n",
      "     True Negatives              -- 0.981172778976\n"
     ]
    },
    {
     "data": {
      "text/plain": [
       "(0.086659475008989573,\n",
       " 0.91334052499101048,\n",
       " 0.16630669546436286,\n",
       " 0.98117277897626987)"
      ]
     },
     "execution_count": 73,
     "metadata": {},
     "output_type": "execute_result"
    }
   ],
   "source": [
    "# MODEL: logistic regression\n",
    "from sklearn import linear_model\n",
    "clf = linear_model.SGDClassifier(loss='log', n_iter=50, alpha=0.00001)\n",
    "clf.fit(X_train_std, y_train)\n",
    "y_pred = clf.fit(X_train_std, y_train).predict(X_train_std)\n",
    "y_pred_test = clf.predict(X_test_std)\n",
    "print_results('Logistic Regression')"
   ]
  },
  {
   "cell_type": "code",
   "execution_count": 74,
   "metadata": {
    "collapsed": false
   },
   "outputs": [
    {
     "name": "stdout",
     "output_type": "stream",
     "text": [
      " Naive Bayes     Training Set      Test Set   \n",
      "-------------- --------------- ---------------\n",
      "    Error Rate 0.0804438280166 0.0832434376124\n",
      " Accuracy Rate  0.919556171983  0.916756562388\n",
      "True Positives             0.0             0.0\n",
      "True Negatives              --             1.0\n"
     ]
    },
    {
     "data": {
      "text/plain": [
       "(0.083243437612369645, 0.91675656238763037, 0.0, 1.0)"
      ]
     },
     "execution_count": 74,
     "metadata": {},
     "output_type": "execute_result"
    }
   ],
   "source": [
    "# MODEL: Naive Bayes\n",
    "from sklearn.naive_bayes import MultinomialNB\n",
    "clf = MultinomialNB()\n",
    "clf.fit(X_train_std, y_train)\n",
    "y_pred = clf.fit(X_train_std, y_train).predict(X_train_std)\n",
    "y_pred_test = clf.predict(X_test_std)\n",
    "print_results('Naive Bayes')"
   ]
  },
  {
   "cell_type": "code",
   "execution_count": 75,
   "metadata": {
    "collapsed": false
   },
   "outputs": [
    {
     "name": "stdout",
     "output_type": "stream",
     "text": [
      "  Perceptron    Training Set     Test Set   \n",
      "-------------- -------------- --------------\n",
      "    Error Rate 0.260440745878 0.266091334052\n",
      " Accuracy Rate 0.739559254122 0.733908665948\n",
      "True Positives 0.666347075743 0.643628509719\n",
      "True Negatives             -- 0.742106295352\n"
     ]
    },
    {
     "data": {
      "text/plain": [
       "(0.26609133405249907,\n",
       " 0.73390866594750093,\n",
       " 0.64362850971922247,\n",
       " 0.74210629535202977)"
      ]
     },
     "execution_count": 75,
     "metadata": {},
     "output_type": "execute_result"
    }
   ],
   "source": [
    "# Perceptron\n",
    "from sklearn import linear_model\n",
    "clf = linear_model.SGDClassifier(loss='perceptron')\n",
    "clf.fit(X_train_std, y_train)\n",
    "y_pred = clf.fit(X_train_std, y_train).predict(X_train_std)\n",
    "y_pred_test = clf.predict(X_test_std)\n",
    "print_results('Perceptron')"
   ]
  },
  {
   "cell_type": "code",
   "execution_count": 76,
   "metadata": {
    "collapsed": false
   },
   "outputs": [
    {
     "data": {
      "text/plain": [
       "(18540,)"
      ]
     },
     "execution_count": 76,
     "metadata": {},
     "output_type": "execute_result"
    }
   ],
   "source": [
    "# define y\n",
    "y = totalData.tired.values\n",
    "y.shape"
   ]
  },
  {
   "cell_type": "code",
   "execution_count": 77,
   "metadata": {
    "collapsed": true
   },
   "outputs": [],
   "source": [
    "# create training and test sets\n",
    "from sklearn.cross_validation import train_test_split\n",
    "\n",
    "X_train, X_test, y_train, y_test = train_test_split(\n",
    "         X, y, test_size=0.3, random_state=0)"
   ]
  },
  {
   "cell_type": "code",
   "execution_count": 78,
   "metadata": {
    "collapsed": true
   },
   "outputs": [],
   "source": [
    "# feature scaling\n",
    "from sklearn.preprocessing import StandardScaler\n",
    "sc = StandardScaler(with_mean=False)\n",
    "sc.fit(X_train)\n",
    "X_train_std = sc.transform(X_train)\n",
    "X_test_std = sc.transform(X_test)"
   ]
  },
  {
   "cell_type": "markdown",
   "metadata": {},
   "source": [
    "# Tired Model Results"
   ]
  },
  {
   "cell_type": "code",
   "execution_count": 79,
   "metadata": {
    "collapsed": false
   },
   "outputs": [
    {
     "name": "stdout",
     "output_type": "stream",
     "text": [
      "     SVM         Training Set       Test Set    \n",
      "-------------- ---------------- ----------------\n",
      "    Error Rate 0.00924641701341 0.00970873786408\n",
      " Accuracy Rate   0.990753582987   0.990291262136\n",
      "True Positives              0.0              0.0\n",
      "True Negatives               --              1.0\n"
     ]
    },
    {
     "data": {
      "text/plain": [
       "(0.0097087378640776691, 0.99029126213592233, 0.0, 1.0)"
      ]
     },
     "execution_count": 79,
     "metadata": {},
     "output_type": "execute_result"
    }
   ],
   "source": [
    "# MODEL: SVM, linear\n",
    "from sklearn import linear_model\n",
    "clf = linear_model.SGDClassifier()\n",
    "clf.fit(X_train_std, y_train)\n",
    "y_pred = clf.fit(X_train_std, y_train).predict(X_train_std)\n",
    "y_pred_test = clf.predict(X_test_std)\n",
    "print_results('SVM')"
   ]
  },
  {
   "cell_type": "code",
   "execution_count": 80,
   "metadata": {
    "collapsed": false
   },
   "outputs": [
    {
     "name": "stdout",
     "output_type": "stream",
     "text": [
      "Logistic Regression   Training Set       Test Set    \n",
      "------------------- ---------------- ----------------\n",
      "         Error Rate 0.00947757743874 0.00988852930601\n",
      "      Accuracy Rate   0.990522422561   0.990111470694\n",
      "     True Positives              0.0              0.0\n",
      "     True Negatives               --   0.999818445897\n"
     ]
    },
    {
     "data": {
      "text/plain": [
       "(0.0098885293060050339, 0.99011147069399497, 0.0, 0.99981844589687729)"
      ]
     },
     "execution_count": 80,
     "metadata": {},
     "output_type": "execute_result"
    }
   ],
   "source": [
    "# MODEL: logistic regression\n",
    "from sklearn import linear_model\n",
    "clf = linear_model.SGDClassifier(loss='log', n_iter=50, alpha=0.00001)\n",
    "clf.fit(X_train_std, y_train)\n",
    "y_pred = clf.fit(X_train_std, y_train).predict(X_train_std)\n",
    "y_pred_test = clf.predict(X_test_std)\n",
    "print_results('Logistic Regression')"
   ]
  },
  {
   "cell_type": "code",
   "execution_count": 81,
   "metadata": {
    "collapsed": false
   },
   "outputs": [
    {
     "name": "stdout",
     "output_type": "stream",
     "text": [
      " Naive Bayes     Training Set       Test Set    \n",
      "-------------- ---------------- ----------------\n",
      "    Error Rate 0.00940052396363 0.00970873786408\n",
      " Accuracy Rate   0.990599476036   0.990291262136\n",
      "True Positives              0.0              0.0\n",
      "True Negatives               --              1.0\n"
     ]
    },
    {
     "data": {
      "text/plain": [
       "(0.0097087378640776691, 0.99029126213592233, 0.0, 1.0)"
      ]
     },
     "execution_count": 81,
     "metadata": {},
     "output_type": "execute_result"
    }
   ],
   "source": [
    "# MODEL: Naive Bayes\n",
    "from sklearn.naive_bayes import MultinomialNB\n",
    "clf = MultinomialNB()\n",
    "clf.fit(X_train_std, y_train)\n",
    "y_pred = clf.fit(X_train_std, y_train).predict(X_train_std)\n",
    "y_pred_test = clf.predict(X_test_std)\n",
    "print_results('Naive Bayes')"
   ]
  },
  {
   "cell_type": "code",
   "execution_count": 82,
   "metadata": {
    "collapsed": false
   },
   "outputs": [
    {
     "name": "stdout",
     "output_type": "stream",
     "text": [
      "  Perceptron     Training Set       Test Set    \n",
      "-------------- ---------------- ----------------\n",
      "    Error Rate 0.00924641701341 0.00970873786408\n",
      " Accuracy Rate   0.990753582987   0.990291262136\n",
      "True Positives              0.0              0.0\n",
      "True Negatives               --              1.0\n"
     ]
    },
    {
     "data": {
      "text/plain": [
       "(0.0097087378640776691, 0.99029126213592233, 0.0, 1.0)"
      ]
     },
     "execution_count": 82,
     "metadata": {},
     "output_type": "execute_result"
    }
   ],
   "source": [
    "# Perceptron\n",
    "from sklearn import linear_model\n",
    "clf = linear_model.SGDClassifier(loss='perceptron')\n",
    "clf.fit(X_train_std, y_train)\n",
    "y_pred = clf.fit(X_train_std, y_train).predict(X_train_std)\n",
    "y_pred_test = clf.predict(X_test_std)\n",
    "print_results('Perceptron')"
   ]
  },
  {
   "cell_type": "code",
   "execution_count": 83,
   "metadata": {
    "collapsed": false
   },
   "outputs": [
    {
     "data": {
      "text/plain": [
       "(18540,)"
      ]
     },
     "execution_count": 83,
     "metadata": {},
     "output_type": "execute_result"
    }
   ],
   "source": [
    "# define y\n",
    "y = totalData.bored.values\n",
    "y.shape"
   ]
  },
  {
   "cell_type": "code",
   "execution_count": 84,
   "metadata": {
    "collapsed": true
   },
   "outputs": [],
   "source": [
    "# create training and test sets\n",
    "from sklearn.cross_validation import train_test_split\n",
    "\n",
    "X_train, X_test, y_train, y_test = train_test_split(\n",
    "         X, y, test_size=0.3, random_state=0)"
   ]
  },
  {
   "cell_type": "code",
   "execution_count": 85,
   "metadata": {
    "collapsed": true
   },
   "outputs": [],
   "source": [
    "# feature scaling\n",
    "from sklearn.preprocessing import StandardScaler\n",
    "sc = StandardScaler(with_mean=False)\n",
    "sc.fit(X_train)\n",
    "X_train_std = sc.transform(X_train)\n",
    "X_test_std = sc.transform(X_test)"
   ]
  },
  {
   "cell_type": "markdown",
   "metadata": {},
   "source": [
    "# Bored Model Results"
   ]
  },
  {
   "cell_type": "code",
   "execution_count": 86,
   "metadata": {
    "collapsed": false
   },
   "outputs": [
    {
     "name": "stdout",
     "output_type": "stream",
     "text": [
      "     SVM         Training Set       Test Set   \n",
      "-------------- ---------------- ---------------\n",
      "    Error Rate  0.0525504700262 0.0607695073714\n",
      " Accuracy Rate   0.947449529974  0.939230492629\n",
      "True Positives 0.00303951367781             0.0\n",
      "True Negatives               --  0.997136858179\n"
     ]
    },
    {
     "data": {
      "text/plain": [
       "(0.060769507371449122, 0.93923049262855085, 0.0, 0.99713685817904185)"
      ]
     },
     "execution_count": 86,
     "metadata": {},
     "output_type": "execute_result"
    }
   ],
   "source": [
    "# MODEL: SVM, linear\n",
    "from sklearn import linear_model\n",
    "clf = linear_model.SGDClassifier()\n",
    "clf.fit(X_train_std, y_train)\n",
    "y_pred = clf.fit(X_train_std, y_train).predict(X_train_std)\n",
    "y_pred_test = clf.predict(X_test_std)\n",
    "print_results('SVM')"
   ]
  },
  {
   "cell_type": "code",
   "execution_count": 87,
   "metadata": {
    "collapsed": false
   },
   "outputs": [
    {
     "name": "stdout",
     "output_type": "stream",
     "text": [
      "Logistic Regression  Training Set      Test Set   \n",
      "------------------- -------------- ---------------\n",
      "         Error Rate 0.051009400524 0.0584322186264\n",
      "      Accuracy Rate 0.948990599476  0.941567781374\n",
      "     True Positives            0.0             0.0\n",
      "     True Negatives             --  0.999618247757\n"
     ]
    },
    {
     "data": {
      "text/plain": [
       "(0.058432218626393383, 0.94156778137360664, 0.0, 0.99961824775720554)"
      ]
     },
     "execution_count": 87,
     "metadata": {},
     "output_type": "execute_result"
    }
   ],
   "source": [
    "# MODEL: logistic regression\n",
    "from sklearn import linear_model\n",
    "clf = linear_model.SGDClassifier(loss='log', n_iter=50, alpha=0.00001)\n",
    "clf.fit(X_train_std, y_train)\n",
    "y_pred = clf.fit(X_train_std, y_train).predict(X_train_std)\n",
    "y_pred_test = clf.predict(X_test_std)\n",
    "print_results('Logistic Regression')"
   ]
  },
  {
   "cell_type": "code",
   "execution_count": 88,
   "metadata": {
    "collapsed": false
   },
   "outputs": [
    {
     "name": "stdout",
     "output_type": "stream",
     "text": [
      " Naive Bayes     Training Set      Test Set   \n",
      "-------------- --------------- ---------------\n",
      "    Error Rate 0.0507011866235 0.0580726357425\n",
      " Accuracy Rate  0.949298813376  0.941927364257\n",
      "True Positives             0.0             0.0\n",
      "True Negatives              --             1.0\n"
     ]
    },
    {
     "data": {
      "text/plain": [
       "(0.058072635742538653, 0.94192736425746137, 0.0, 1.0)"
      ]
     },
     "execution_count": 88,
     "metadata": {},
     "output_type": "execute_result"
    }
   ],
   "source": [
    "# MODEL: Naive Bayes\n",
    "from sklearn.naive_bayes import MultinomialNB\n",
    "clf = MultinomialNB()\n",
    "clf.fit(X_train_std, y_train)\n",
    "y_pred = clf.fit(X_train_std, y_train).predict(X_train_std)\n",
    "y_pred_test = clf.predict(X_test_std)\n",
    "print_results('Naive Bayes')"
   ]
  },
  {
   "cell_type": "code",
   "execution_count": 89,
   "metadata": {
    "collapsed": false
   },
   "outputs": [
    {
     "name": "stdout",
     "output_type": "stream",
     "text": [
      "  Perceptron     Training Set      Test Set   \n",
      "-------------- --------------- ---------------\n",
      "    Error Rate 0.0507011866235 0.0582524271845\n",
      " Accuracy Rate  0.949298813376  0.941747572816\n",
      "True Positives             0.0             0.0\n",
      "True Negatives              --  0.999809123879\n"
     ]
    },
    {
     "data": {
      "text/plain": [
       "(0.058252427184466021, 0.94174757281553401, 0.0, 0.99980912387860277)"
      ]
     },
     "execution_count": 89,
     "metadata": {},
     "output_type": "execute_result"
    }
   ],
   "source": [
    "# Perceptron\n",
    "from sklearn import linear_model\n",
    "clf = linear_model.SGDClassifier(loss='perceptron')\n",
    "clf.fit(X_train_std, y_train)\n",
    "y_pred = clf.fit(X_train_std, y_train).predict(X_train_std)\n",
    "y_pred_test = clf.predict(X_test_std)\n",
    "print_results('Perceptron')"
   ]
  }
 ],
 "metadata": {
  "kernelspec": {
   "display_name": "Python 3",
   "language": "python",
   "name": "python3"
  },
  "language_info": {
   "codemirror_mode": {
    "name": "ipython",
    "version": 3
   },
   "file_extension": ".py",
   "mimetype": "text/x-python",
   "name": "python",
   "nbconvert_exporter": "python",
   "pygments_lexer": "ipython3",
   "version": "3.5.1"
  }
 },
 "nbformat": 4,
 "nbformat_minor": 0
}
