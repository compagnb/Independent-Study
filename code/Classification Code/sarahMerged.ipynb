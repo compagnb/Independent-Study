{
 "cells": [
  {
   "cell_type": "code",
   "execution_count": 25,
   "metadata": {
    "collapsed": true
   },
   "outputs": [],
   "source": [
    "import numpy as np #import numpy library\n",
    "import pandas as pd #import pandas library\n",
    "import matplotlib.pyplot as plt #import matplot library\n",
    "%matplotlib inline\n",
    "import nltk.classify.util\n",
    "from astropy.table import Table, Column"
   ]
  },
  {
   "cell_type": "code",
   "execution_count": 26,
   "metadata": {
    "collapsed": false
   },
   "outputs": [
    {
     "name": "stderr",
     "output_type": "stream",
     "text": [
      "/Library/Frameworks/Python.framework/Versions/3.5/lib/python3.5/site-packages/IPython/core/interactiveshell.py:2723: DtypeWarning: Columns (35,36) have mixed types. Specify dtype option on import or set low_memory=False.\n",
      "  interactivity=interactivity, compiler=compiler, result=result)\n"
     ]
    }
   ],
   "source": [
    "#import data\n",
    "\n",
    "#load files\n",
    "dataMerge = pd.read_csv('sarahYee/sarahMergedBio.csv')"
   ]
  },
  {
   "cell_type": "code",
   "execution_count": 27,
   "metadata": {
    "collapsed": false
   },
   "outputs": [],
   "source": [
    "#fix time\n",
    "dataMerge['timestamp'] = pd.to_datetime(dataMerge['timestamp'], unit='s')"
   ]
  },
  {
   "cell_type": "code",
   "execution_count": 28,
   "metadata": {
    "collapsed": false
   },
   "outputs": [
    {
     "name": "stdout",
     "output_type": "stream",
     "text": [
      "(18540, 37)\n"
     ]
    },
    {
     "data": {
      "text/html": [
       "<div>\n",
       "<table border=\"1\" class=\"dataframe\">\n",
       "  <thead>\n",
       "    <tr style=\"text-align: right;\">\n",
       "      <th></th>\n",
       "      <th>timestamp</th>\n",
       "      <th>date</th>\n",
       "      <th>month</th>\n",
       "      <th>day</th>\n",
       "      <th>time</th>\n",
       "      <th>hour</th>\n",
       "      <th>min</th>\n",
       "      <th>heartrate</th>\n",
       "      <th>steps</th>\n",
       "      <th>calories</th>\n",
       "      <th>...</th>\n",
       "      <th>angry</th>\n",
       "      <th>angryscore</th>\n",
       "      <th>hungry</th>\n",
       "      <th>hungerscore</th>\n",
       "      <th>tired</th>\n",
       "      <th>tiredscore</th>\n",
       "      <th>bored</th>\n",
       "      <th>boredscore</th>\n",
       "      <th>location</th>\n",
       "      <th>blurb</th>\n",
       "    </tr>\n",
       "  </thead>\n",
       "  <tbody>\n",
       "    <tr>\n",
       "      <th>0</th>\n",
       "      <td>2016-04-22 00:00:00</td>\n",
       "      <td>4/22/16</td>\n",
       "      <td>4</td>\n",
       "      <td>22</td>\n",
       "      <td>12:00:00 AM</td>\n",
       "      <td>0</td>\n",
       "      <td>0:00</td>\n",
       "      <td>NaN</td>\n",
       "      <td>NaN</td>\n",
       "      <td>NaN</td>\n",
       "      <td>...</td>\n",
       "      <td>NaN</td>\n",
       "      <td>NaN</td>\n",
       "      <td>NaN</td>\n",
       "      <td>NaN</td>\n",
       "      <td>NaN</td>\n",
       "      <td>NaN</td>\n",
       "      <td>NaN</td>\n",
       "      <td>NaN</td>\n",
       "      <td>NaN</td>\n",
       "      <td>NaN</td>\n",
       "    </tr>\n",
       "    <tr>\n",
       "      <th>1</th>\n",
       "      <td>2016-04-22 00:01:00</td>\n",
       "      <td>4/22/16</td>\n",
       "      <td>4</td>\n",
       "      <td>22</td>\n",
       "      <td>12:01:00 AM</td>\n",
       "      <td>0</td>\n",
       "      <td>1:00</td>\n",
       "      <td>NaN</td>\n",
       "      <td>NaN</td>\n",
       "      <td>NaN</td>\n",
       "      <td>...</td>\n",
       "      <td>NaN</td>\n",
       "      <td>NaN</td>\n",
       "      <td>NaN</td>\n",
       "      <td>NaN</td>\n",
       "      <td>NaN</td>\n",
       "      <td>NaN</td>\n",
       "      <td>NaN</td>\n",
       "      <td>NaN</td>\n",
       "      <td>NaN</td>\n",
       "      <td>NaN</td>\n",
       "    </tr>\n",
       "    <tr>\n",
       "      <th>2</th>\n",
       "      <td>2016-04-22 00:02:00</td>\n",
       "      <td>4/22/16</td>\n",
       "      <td>4</td>\n",
       "      <td>22</td>\n",
       "      <td>12:02:00 AM</td>\n",
       "      <td>0</td>\n",
       "      <td>2:00</td>\n",
       "      <td>NaN</td>\n",
       "      <td>NaN</td>\n",
       "      <td>NaN</td>\n",
       "      <td>...</td>\n",
       "      <td>NaN</td>\n",
       "      <td>NaN</td>\n",
       "      <td>NaN</td>\n",
       "      <td>NaN</td>\n",
       "      <td>NaN</td>\n",
       "      <td>NaN</td>\n",
       "      <td>NaN</td>\n",
       "      <td>NaN</td>\n",
       "      <td>NaN</td>\n",
       "      <td>NaN</td>\n",
       "    </tr>\n",
       "    <tr>\n",
       "      <th>3</th>\n",
       "      <td>2016-04-22 00:03:00</td>\n",
       "      <td>4/22/16</td>\n",
       "      <td>4</td>\n",
       "      <td>22</td>\n",
       "      <td>12:03:00 AM</td>\n",
       "      <td>0</td>\n",
       "      <td>3:00</td>\n",
       "      <td>NaN</td>\n",
       "      <td>NaN</td>\n",
       "      <td>NaN</td>\n",
       "      <td>...</td>\n",
       "      <td>NaN</td>\n",
       "      <td>NaN</td>\n",
       "      <td>NaN</td>\n",
       "      <td>NaN</td>\n",
       "      <td>NaN</td>\n",
       "      <td>NaN</td>\n",
       "      <td>NaN</td>\n",
       "      <td>NaN</td>\n",
       "      <td>NaN</td>\n",
       "      <td>NaN</td>\n",
       "    </tr>\n",
       "    <tr>\n",
       "      <th>4</th>\n",
       "      <td>2016-04-22 00:04:00</td>\n",
       "      <td>4/22/16</td>\n",
       "      <td>4</td>\n",
       "      <td>22</td>\n",
       "      <td>12:04:00 AM</td>\n",
       "      <td>0</td>\n",
       "      <td>4:00</td>\n",
       "      <td>NaN</td>\n",
       "      <td>NaN</td>\n",
       "      <td>NaN</td>\n",
       "      <td>...</td>\n",
       "      <td>NaN</td>\n",
       "      <td>NaN</td>\n",
       "      <td>NaN</td>\n",
       "      <td>NaN</td>\n",
       "      <td>NaN</td>\n",
       "      <td>NaN</td>\n",
       "      <td>NaN</td>\n",
       "      <td>NaN</td>\n",
       "      <td>NaN</td>\n",
       "      <td>NaN</td>\n",
       "    </tr>\n",
       "  </tbody>\n",
       "</table>\n",
       "<p>5 rows × 37 columns</p>\n",
       "</div>"
      ],
      "text/plain": [
       "            timestamp     date  month  day         time  hour   min  \\\n",
       "0 2016-04-22 00:00:00  4/22/16      4   22  12:00:00 AM     0  0:00   \n",
       "1 2016-04-22 00:01:00  4/22/16      4   22  12:01:00 AM     0  1:00   \n",
       "2 2016-04-22 00:02:00  4/22/16      4   22  12:02:00 AM     0  2:00   \n",
       "3 2016-04-22 00:03:00  4/22/16      4   22  12:03:00 AM     0  3:00   \n",
       "4 2016-04-22 00:04:00  4/22/16      4   22  12:04:00 AM     0  4:00   \n",
       "\n",
       "   heartrate  steps  calories  ...    angry  angryscore  hungry  hungerscore  \\\n",
       "0        NaN    NaN       NaN  ...      NaN         NaN     NaN          NaN   \n",
       "1        NaN    NaN       NaN  ...      NaN         NaN     NaN          NaN   \n",
       "2        NaN    NaN       NaN  ...      NaN         NaN     NaN          NaN   \n",
       "3        NaN    NaN       NaN  ...      NaN         NaN     NaN          NaN   \n",
       "4        NaN    NaN       NaN  ...      NaN         NaN     NaN          NaN   \n",
       "\n",
       "   tired  tiredscore  bored  boredscore  location  blurb  \n",
       "0    NaN         NaN    NaN         NaN       NaN    NaN  \n",
       "1    NaN         NaN    NaN         NaN       NaN    NaN  \n",
       "2    NaN         NaN    NaN         NaN       NaN    NaN  \n",
       "3    NaN         NaN    NaN         NaN       NaN    NaN  \n",
       "4    NaN         NaN    NaN         NaN       NaN    NaN  \n",
       "\n",
       "[5 rows x 37 columns]"
      ]
     },
     "execution_count": 28,
     "metadata": {},
     "output_type": "execute_result"
    }
   ],
   "source": [
    "#make sure all merged properly!\n",
    "print(dataMerge.shape) #print data rows and columns\n",
    "dataMerge.head(5) #limit data to 5 rows including a header row "
   ]
  },
  {
   "cell_type": "code",
   "execution_count": 67,
   "metadata": {
    "collapsed": false
   },
   "outputs": [
    {
     "data": {
      "text/plain": [
       "timestamp       datetime64[ns]\n",
       "date                    object\n",
       "month                    int64\n",
       "day                      int64\n",
       "time                    object\n",
       "hour                     int64\n",
       "min                     object\n",
       "heartrate              float64\n",
       "steps                  float64\n",
       "calories               float64\n",
       "gsr                    float64\n",
       "skintemp               float64\n",
       "airtemp                float64\n",
       "walk                   float64\n",
       "bike                   float64\n",
       "run                    float64\n",
       "sleep                  float64\n",
       "excited                float64\n",
       "excitedscore           float64\n",
       "happy                  float64\n",
       "happyscore             float64\n",
       "calm                   float64\n",
       "calmscore              float64\n",
       "anxious                float64\n",
       "anxiousscore           float64\n",
       "sad                    float64\n",
       "sadscore               float64\n",
       "angry                  float64\n",
       "angryscore             float64\n",
       "hungry                 float64\n",
       "hungerscore            float64\n",
       "tired                  float64\n",
       "tiredscore             float64\n",
       "bored                  float64\n",
       "boredscore             float64\n",
       "location                object\n",
       "blurb                   object\n",
       "tempDiff               float64\n",
       "dtype: object"
      ]
     },
     "execution_count": 67,
     "metadata": {},
     "output_type": "execute_result"
    }
   ],
   "source": [
    "dataMerge.dtypes"
   ]
  },
  {
   "cell_type": "code",
   "execution_count": 36,
   "metadata": {
    "collapsed": false
   },
   "outputs": [],
   "source": [
    "dataMerge.gsr = dataMerge.gsr.fillna(0)\n",
    "dataMerge.heartrate = dataMerge.heartrate.fillna(0)\n",
    "dataMerge.steps = dataMerge.steps.fillna(0)\n",
    "dataMerge.calories = dataMerge.calories.fillna(0)\n",
    "dataMerge.skintemp = dataMerge.skintemp.fillna(0)\n",
    "dataMerge.airtemp = dataMerge.airtemp.fillna(0)\n",
    "\n",
    "dataMerge.excited = dataMerge.excited .fillna(0)\n",
    "dataMerge.excitedscore = dataMerge.excitedscore.fillna(0)\n",
    "dataMerge.happy = dataMerge.happy.fillna(0)\n",
    "dataMerge.happyscore = dataMerge.happyscore.fillna(0)\n",
    "dataMerge.calm = dataMerge.calm.fillna(0)\n",
    "dataMerge.calmscore = dataMerge.calmscore.fillna(0)\n",
    "dataMerge.anxious = dataMerge.anxious.fillna(0)\n",
    "dataMerge.anxiousscore = dataMerge.anxiousscore.fillna(0)\n",
    "dataMerge.sad = dataMerge.sad.fillna(0)\n",
    "dataMerge.sadscore = dataMerge.sadscore.fillna(0)\n",
    "dataMerge.angry = dataMerge.gsr.fillna(0)\n",
    "dataMerge.angryscore = dataMerge.heartrate.fillna(0)\n",
    "\n",
    "dataMerge.hungry = dataMerge.hungry.fillna(0)\n",
    "dataMerge.hungerscore = dataMerge.hungerscore.fillna(0)\n",
    "dataMerge.tired = dataMerge.tired.fillna(0)\n",
    "dataMerge.tiredscore = dataMerge.tiredscore.fillna(0)\n",
    "dataMerge.bored = dataMerge.bored.fillna(0)\n",
    "dataMerge.boredscore = dataMerge.boredscore.fillna(0)"
   ]
  },
  {
   "cell_type": "code",
   "execution_count": 37,
   "metadata": {
    "collapsed": false
   },
   "outputs": [
    {
     "data": {
      "text/plain": [
       "0.012837108953613808"
      ]
     },
     "execution_count": 37,
     "metadata": {},
     "output_type": "execute_result"
    }
   ],
   "source": [
    "dataMerge.excited.mean()"
   ]
  },
  {
   "cell_type": "code",
   "execution_count": 38,
   "metadata": {
    "collapsed": false
   },
   "outputs": [
    {
     "data": {
      "text/plain": [
       "0.038349514563106799"
      ]
     },
     "execution_count": 38,
     "metadata": {},
     "output_type": "execute_result"
    }
   ],
   "source": [
    "dataMerge.happy.mean()"
   ]
  },
  {
   "cell_type": "code",
   "execution_count": 39,
   "metadata": {
    "collapsed": false
   },
   "outputs": [
    {
     "data": {
      "text/plain": [
       "0.16650485436893203"
      ]
     },
     "execution_count": 39,
     "metadata": {},
     "output_type": "execute_result"
    }
   ],
   "source": [
    "dataMerge.calm.mean()"
   ]
  },
  {
   "cell_type": "code",
   "execution_count": 40,
   "metadata": {
    "collapsed": false
   },
   "outputs": [
    {
     "data": {
      "text/plain": [
       "0.20129449838187702"
      ]
     },
     "execution_count": 40,
     "metadata": {},
     "output_type": "execute_result"
    }
   ],
   "source": [
    "dataMerge.anxious.mean()"
   ]
  },
  {
   "cell_type": "code",
   "execution_count": 41,
   "metadata": {
    "collapsed": false
   },
   "outputs": [
    {
     "data": {
      "text/plain": [
       "0.004638619201725998"
      ]
     },
     "execution_count": 41,
     "metadata": {},
     "output_type": "execute_result"
    }
   ],
   "source": [
    "dataMerge.sad.mean()"
   ]
  },
  {
   "cell_type": "code",
   "execution_count": 42,
   "metadata": {
    "collapsed": false
   },
   "outputs": [
    {
     "data": {
      "text/plain": [
       "0.042450277292340889"
      ]
     },
     "execution_count": 42,
     "metadata": {},
     "output_type": "execute_result"
    }
   ],
   "source": [
    "dataMerge.angry.mean()"
   ]
  },
  {
   "cell_type": "code",
   "execution_count": 46,
   "metadata": {
    "collapsed": false
   },
   "outputs": [
    {
     "data": {
      "image/png": "[encoded data removed]",
      "text/plain": [
       "<matplotlib.figure.Figure at 0x10d7fb7f0>"
      ]
     },
     "metadata": {},
     "output_type": "display_data"
    }
   ],
   "source": [
    "# Make a histogram of all the ratings in the average_rating column.\n",
    "plt.hist(dataMerge[\"happy\"])\n",
    "\n",
    "# Show the plot.\n",
    "plt.show()"
   ]
  },
  {
   "cell_type": "code",
   "execution_count": 47,
   "metadata": {
    "collapsed": false
   },
   "outputs": [
    {
     "data": {
      "image/png": "[encoded data removed]",
      "text/plain": [
       "<matplotlib.figure.Figure at 0x10e3fc400>"
      ]
     },
     "metadata": {},
     "output_type": "display_data"
    }
   ],
   "source": [
    "# Make a histogram of all the ratings in the average_rating column.\n",
    "plt.hist(dataMerge[\"happyscore\"])\n",
    "\n",
    "# Show the plot.\n",
    "plt.show()"
   ]
  },
  {
   "cell_type": "code",
   "execution_count": 92,
   "metadata": {
    "collapsed": false
   },
   "outputs": [],
   "source": [
    "dataMerge['tempDiff'] = dataMerge['skintemp'] - dataMerge['airtemp']\n",
    "\n",
    "dataMerge['lowHR'] = dataMerge['heartrate'] < 60\n",
    "dataMerge['highHR'] = dataMerge['heartrate'] > 90\n",
    "\n",
    "dataMerge['lowGSR'] = dataMerge['gsr'] < 1\n",
    "dataMerge['highGSR'] = dataMerge['gsr'] > 5\n",
    "\n",
    "dataMerge['lowCalories'] = dataMerge['calories'] <= 5\n",
    "dataMerge['highCalories'] = dataMerge['calories'] > 10\n",
    "\n",
    "dataMerge['lowSteps'] = dataMerge['steps'] <= 5\n",
    "dataMerge['highStep'] = dataMerge['steps'] > 10\n",
    "\n",
    "dataMerge['lowSteps'] = dataMerge['steps'] <= 5\n",
    "dataMerge['highStep'] = dataMerge['steps'] > 10"
   ]
  },
  {
   "cell_type": "code",
   "execution_count": 93,
   "metadata": {
    "collapsed": false
   },
   "outputs": [
    {
     "name": "stdout",
     "output_type": "stream",
     "text": [
      "[ 0.  0.  0. ...,  0.  0.  0.]\n"
     ]
    }
   ],
   "source": [
    "print(dataMerge['tempDiff'].values)"
   ]
  },
  {
   "cell_type": "code",
   "execution_count": 94,
   "metadata": {
    "collapsed": false
   },
   "outputs": [
    {
     "data": {
      "text/plain": [
       "3.229368932038835"
      ]
     },
     "execution_count": 94,
     "metadata": {},
     "output_type": "execute_result"
    }
   ],
   "source": [
    "dataMerge['tempDiff'].mean()"
   ]
  },
  {
   "cell_type": "code",
   "execution_count": 95,
   "metadata": {
    "collapsed": false
   },
   "outputs": [
    {
     "data": {
      "text/html": [
       "<div>\n",
       "<table border=\"1\" class=\"dataframe\">\n",
       "  <thead>\n",
       "    <tr style=\"text-align: right;\">\n",
       "      <th></th>\n",
       "      <th>timestamp</th>\n",
       "      <th>date</th>\n",
       "      <th>month</th>\n",
       "      <th>day</th>\n",
       "      <th>time</th>\n",
       "      <th>hour</th>\n",
       "      <th>min</th>\n",
       "      <th>heartrate</th>\n",
       "      <th>steps</th>\n",
       "      <th>calories</th>\n",
       "      <th>...</th>\n",
       "      <th>tired</th>\n",
       "      <th>tiredscore</th>\n",
       "      <th>bored</th>\n",
       "      <th>boredscore</th>\n",
       "      <th>location</th>\n",
       "      <th>blurb</th>\n",
       "      <th>tempDiff</th>\n",
       "      <th>lowHR</th>\n",
       "      <th>highHR</th>\n",
       "      <th>lowSteps</th>\n",
       "    </tr>\n",
       "  </thead>\n",
       "  <tbody>\n",
       "    <tr>\n",
       "      <th>0</th>\n",
       "      <td>2016-04-22 00:00:00</td>\n",
       "      <td>4/22/16</td>\n",
       "      <td>4</td>\n",
       "      <td>22</td>\n",
       "      <td>12:00:00 AM</td>\n",
       "      <td>0</td>\n",
       "      <td>0:00</td>\n",
       "      <td>0</td>\n",
       "      <td>0</td>\n",
       "      <td>0</td>\n",
       "      <td>...</td>\n",
       "      <td>0</td>\n",
       "      <td>0</td>\n",
       "      <td>0</td>\n",
       "      <td>0</td>\n",
       "      <td>NaN</td>\n",
       "      <td>NaN</td>\n",
       "      <td>0</td>\n",
       "      <td>True</td>\n",
       "      <td>True</td>\n",
       "      <td>True</td>\n",
       "    </tr>\n",
       "    <tr>\n",
       "      <th>1</th>\n",
       "      <td>2016-04-22 00:01:00</td>\n",
       "      <td>4/22/16</td>\n",
       "      <td>4</td>\n",
       "      <td>22</td>\n",
       "      <td>12:01:00 AM</td>\n",
       "      <td>0</td>\n",
       "      <td>1:00</td>\n",
       "      <td>0</td>\n",
       "      <td>0</td>\n",
       "      <td>0</td>\n",
       "      <td>...</td>\n",
       "      <td>0</td>\n",
       "      <td>0</td>\n",
       "      <td>0</td>\n",
       "      <td>0</td>\n",
       "      <td>NaN</td>\n",
       "      <td>NaN</td>\n",
       "      <td>0</td>\n",
       "      <td>True</td>\n",
       "      <td>True</td>\n",
       "      <td>True</td>\n",
       "    </tr>\n",
       "    <tr>\n",
       "      <th>2</th>\n",
       "      <td>2016-04-22 00:02:00</td>\n",
       "      <td>4/22/16</td>\n",
       "      <td>4</td>\n",
       "      <td>22</td>\n",
       "      <td>12:02:00 AM</td>\n",
       "      <td>0</td>\n",
       "      <td>2:00</td>\n",
       "      <td>0</td>\n",
       "      <td>0</td>\n",
       "      <td>0</td>\n",
       "      <td>...</td>\n",
       "      <td>0</td>\n",
       "      <td>0</td>\n",
       "      <td>0</td>\n",
       "      <td>0</td>\n",
       "      <td>NaN</td>\n",
       "      <td>NaN</td>\n",
       "      <td>0</td>\n",
       "      <td>True</td>\n",
       "      <td>True</td>\n",
       "      <td>True</td>\n",
       "    </tr>\n",
       "    <tr>\n",
       "      <th>3</th>\n",
       "      <td>2016-04-22 00:03:00</td>\n",
       "      <td>4/22/16</td>\n",
       "      <td>4</td>\n",
       "      <td>22</td>\n",
       "      <td>12:03:00 AM</td>\n",
       "      <td>0</td>\n",
       "      <td>3:00</td>\n",
       "      <td>0</td>\n",
       "      <td>0</td>\n",
       "      <td>0</td>\n",
       "      <td>...</td>\n",
       "      <td>0</td>\n",
       "      <td>0</td>\n",
       "      <td>0</td>\n",
       "      <td>0</td>\n",
       "      <td>NaN</td>\n",
       "      <td>NaN</td>\n",
       "      <td>0</td>\n",
       "      <td>True</td>\n",
       "      <td>True</td>\n",
       "      <td>True</td>\n",
       "    </tr>\n",
       "    <tr>\n",
       "      <th>4</th>\n",
       "      <td>2016-04-22 00:04:00</td>\n",
       "      <td>4/22/16</td>\n",
       "      <td>4</td>\n",
       "      <td>22</td>\n",
       "      <td>12:04:00 AM</td>\n",
       "      <td>0</td>\n",
       "      <td>4:00</td>\n",
       "      <td>0</td>\n",
       "      <td>0</td>\n",
       "      <td>0</td>\n",
       "      <td>...</td>\n",
       "      <td>0</td>\n",
       "      <td>0</td>\n",
       "      <td>0</td>\n",
       "      <td>0</td>\n",
       "      <td>NaN</td>\n",
       "      <td>NaN</td>\n",
       "      <td>0</td>\n",
       "      <td>True</td>\n",
       "      <td>True</td>\n",
       "      <td>True</td>\n",
       "    </tr>\n",
       "  </tbody>\n",
       "</table>\n",
       "<p>5 rows × 41 columns</p>\n",
       "</div>"
      ],
      "text/plain": [
       "            timestamp     date  month  day         time  hour   min  \\\n",
       "0 2016-04-22 00:00:00  4/22/16      4   22  12:00:00 AM     0  0:00   \n",
       "1 2016-04-22 00:01:00  4/22/16      4   22  12:01:00 AM     0  1:00   \n",
       "2 2016-04-22 00:02:00  4/22/16      4   22  12:02:00 AM     0  2:00   \n",
       "3 2016-04-22 00:03:00  4/22/16      4   22  12:03:00 AM     0  3:00   \n",
       "4 2016-04-22 00:04:00  4/22/16      4   22  12:04:00 AM     0  4:00   \n",
       "\n",
       "   heartrate  steps  calories    ...     tired  tiredscore  bored  boredscore  \\\n",
       "0          0      0         0    ...         0           0      0           0   \n",
       "1          0      0         0    ...         0           0      0           0   \n",
       "2          0      0         0    ...         0           0      0           0   \n",
       "3          0      0         0    ...         0           0      0           0   \n",
       "4          0      0         0    ...         0           0      0           0   \n",
       "\n",
       "   location  blurb  tempDiff  lowHR  highHR  lowSteps  \n",
       "0       NaN    NaN         0   True    True      True  \n",
       "1       NaN    NaN         0   True    True      True  \n",
       "2       NaN    NaN         0   True    True      True  \n",
       "3       NaN    NaN         0   True    True      True  \n",
       "4       NaN    NaN         0   True    True      True  \n",
       "\n",
       "[5 rows x 41 columns]"
      ]
     },
     "execution_count": 95,
     "metadata": {},
     "output_type": "execute_result"
    }
   ],
   "source": [
    "tempDiff = dataMerge.iloc[:, 37].values.reshape(dataMerge.shape[0], 1)\n",
    "\n",
    "lowHR = dataMerge.iloc[:, 38].values.reshape(dataMerge.shape[0], 1)\n",
    "highHR = dataMerge.iloc[:, 39].values.reshape(dataMerge.shape[0], 1)\n",
    "\n",
    "lowGSR = dataMerge.iloc[:, 40].values.reshape(dataMerge.shape[0], 1)\n",
    "highGSR= dataMerge.iloc[:, 41].values.reshape(dataMerge.shape[0], 1)\n",
    "\n",
    "\n",
    "dataMerge.head()"
   ]
  },
  {
   "cell_type": "code",
   "execution_count": 66,
   "metadata": {
    "collapsed": false
   },
   "outputs": [
    {
     "ename": "IndexError",
     "evalue": "axis 1 out of bounds [0, 1)",
     "output_type": "error",
     "traceback": [
      "\u001b[0;31m---------------------------------------------------------------------------\u001b[0m",
      "\u001b[0;31mIndexError\u001b[0m                                Traceback (most recent call last)",
      "\u001b[0;32m<ipython-input-66-592839219991>\u001b[0m in \u001b[0;36m<module>\u001b[0;34m()\u001b[0m\n\u001b[0;32m----> 1\u001b[0;31m \u001b[0mXtoadd\u001b[0m \u001b[0;34m=\u001b[0m \u001b[0mnp\u001b[0m\u001b[0;34m.\u001b[0m\u001b[0mconcatenate\u001b[0m\u001b[0;34m(\u001b[0m\u001b[0;34m(\u001b[0m \u001b[0mtempDiff\u001b[0m \u001b[0;34m)\u001b[0m\u001b[0;34m,\u001b[0m \u001b[0maxis\u001b[0m\u001b[0;34m=\u001b[0m\u001b[0;36m1\u001b[0m\u001b[0;34m)\u001b[0m\u001b[0;34m\u001b[0m\u001b[0m\n\u001b[0m\u001b[1;32m      2\u001b[0m \u001b[0;34m\u001b[0m\u001b[0m\n\u001b[1;32m      3\u001b[0m \u001b[0mdataMerge\u001b[0m\u001b[0;34m.\u001b[0m\u001b[0mhead\u001b[0m\u001b[0;34m(\u001b[0m\u001b[0;34m)\u001b[0m\u001b[0;34m\u001b[0m\u001b[0m\n",
      "\u001b[0;31mIndexError\u001b[0m: axis 1 out of bounds [0, 1)"
     ]
    }
   ],
   "source": [
    "\n",
    "Xtoadd = np.concatenate(( tempDiff ), axis=1)\n",
    "\n",
    "dataMerge.head()"
   ]
  },
  {
   "cell_type": "code",
   "execution_count": 62,
   "metadata": {
    "collapsed": true
   },
   "outputs": [],
   "source": [
    "# report on training and test sets\n",
    "global SVMerror, SVMacc, SVMtp, SVMtn, LRerror, LRacc, LRtp, LRtn, NBerror, NBacc, NBtp, NBtn, Perror, Pacc, Ptp, Ptn\n",
    "\n",
    "\n",
    "\n",
    "def print_results(model):\n",
    "    #print('Error rate on training set: ')\n",
    "    erTRAIN = ((y_train != y_pred).sum() / X_train.shape[0])\n",
    "    #print('Accuracy rate on training set: ')\n",
    "    AccTRAIN = (1 - (y_train != y_pred).sum() / X_train.shape[0])\n",
    "    #print('True positive rate on training tet:')\n",
    "    TruPosTRAIN = ((y_train==True) & (y_pred==True)).sum() / y_train.sum()\n",
    "    #TruNegTEST = (((y_train==False) & (y_pred_train==False)).sum() / (y_train.shape[0] - y_train.sum()))\n",
    "    #print('**************')\n",
    "    #('Error rate on test set: ')\n",
    "    erTEST = ((y_test != y_pred_test).sum() / X_test.shape[0])\n",
    "    #print('Accuracy rate on test set: ')\n",
    "    AccTEST = (1 - (y_test != y_pred_test).sum() / X_test.shape[0])\n",
    "    #print('True positive rate on test set')\n",
    "    TruPosTEST = (((y_test==True) & (y_pred_test==True)).sum() / y_test.sum())\n",
    "    #print('True negative rate on test set')\n",
    "    TruNegTEST = (((y_test==False) & (y_pred_test==False)).sum() / (y_test.shape[0] - y_test.sum()))\n",
    "    data_rows = [('Error Rate', erTRAIN, erTEST),\n",
    "                 ('Accuracy Rate', AccTRAIN, AccTEST),\n",
    "                 ('True Positives', TruPosTRAIN, TruPosTEST),\n",
    "                 ('True Negatives', '--', TruNegTEST)]\n",
    "    t = Table(rows=data_rows, names=(model, 'Training Set', 'Test Set'), meta={'name': model + ': Training and Test Set Results'})\n",
    "    print(t)\n",
    "    if model == 'SVM':\n",
    "        SVMerror = erTEST\n",
    "        SVMacc = AccTEST\n",
    "        SVMtp = TruPosTEST\n",
    "        SVMtn = TruNegTEST\n",
    "        return(SVMerror, SVMacc, SVMtp, SVMtn)\n",
    "    elif model == 'Logistic Regression':\n",
    "        LRerror = erTEST\n",
    "        LRacc = AccTEST\n",
    "        LRtp = TruPosTEST\n",
    "        LRtn = TruNegTEST\n",
    "        return(LRerror, LRacc, LRtp, LRtn)\n",
    "    elif model == 'Naive Bayes':\n",
    "        NBerror = erTEST\n",
    "        NBacc = AccTEST\n",
    "        NBtp = TruPosTEST\n",
    "        NBtn = TruNegTEST\n",
    "        return(NBerror, NBacc, NBtp, NBtn)\n",
    "    elif model == 'Perceptron':\n",
    "        Perror = erTEST\n",
    "        Pacc = AccTEST\n",
    "        Ptp = TruPosTEST\n",
    "        Ptn = TruNegTEST\n",
    "        return(Perror, Pacc, Ptp, Ptn)\n",
    "    print('done')\n",
    "      \n",
    "    #t.show_in_browser(jsviewer=True) \n",
    "    \n",
    "    \n",
    "def all_models_table():\n",
    "    all_rows = [('SVM', SVMerror, SVMacc, SVMtp, SVMtn),\n",
    "            ('Logistic Regression', LRerror, LRacc, LRtp, LRtn),\n",
    "            ('Naive Bayes', NBerror, NBacc, NBtp, NBtn),\n",
    "            ('Perceptron', Perror, Pacc, Ptp, Ptn)]\n",
    "    tt = Table(rows=all_rows, names=('', 'Error Rate', 'Accuracy', 'True +', 'True -'), meta={'3/15/2016'})\n",
    "    print(tt)"
   ]
  },
  {
   "cell_type": "code",
   "execution_count": null,
   "metadata": {
    "collapsed": true
   },
   "outputs": [],
   "source": []
  }
 ],
 "metadata": {
  "kernelspec": {
   "display_name": "Python 3",
   "language": "python",
   "name": "python3"
  },
  "language_info": {
   "codemirror_mode": {
    "name": "ipython",
    "version": 3
   },
   "file_extension": ".py",
   "mimetype": "text/x-python",
   "name": "python",
   "nbconvert_exporter": "python",
   "pygments_lexer": "ipython3",
   "version": "3.5.1"
  }
 },
 "nbformat": 4,
 "nbformat_minor": 0
}
