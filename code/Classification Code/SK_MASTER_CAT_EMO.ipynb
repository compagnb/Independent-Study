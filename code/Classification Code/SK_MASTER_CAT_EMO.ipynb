{
 "cells": [
  {
   "cell_type": "code",
   "execution_count": 71,
   "metadata": {
    "collapsed": true
   },
   "outputs": [],
   "source": [
    "import numpy as np #import numpy library\n",
    "import pandas as pd #import pandas library\n",
    "import matplotlib.pyplot as plt #import matplot library\n",
    "%matplotlib inline\n",
    "\n",
    "import glob\n",
    "import os\n",
    "\n",
    "import nltk.classify.util\n",
    "from astropy.table import Table, Column\n",
    "\n",
    "import string\n",
    "\n",
    "from sklearn import svm\n",
    "from sklearn import metrics"
   ]
  },
  {
   "cell_type": "code",
   "execution_count": 72,
   "metadata": {
    "collapsed": false
   },
   "outputs": [],
   "source": [
    " def loadMetricData(user, directory):\n",
    "    path =  user + \"/\" + directory + \"/\"\n",
    "#     print(path)\n",
    "    all_files = glob.glob(os.path.join(path, \"*.csv\")) \n",
    "#     print(all_files)\n",
    "    data = pd.DataFrame()\n",
    "    list_ = []\n",
    "    for file_ in all_files:\n",
    "        data = pd.read_csv(file_,index_col=None, header=0)\n",
    "        list_.append(data)\n",
    "        data = pd.concat(list_)\n",
    "    return data"
   ]
  },
  {
   "cell_type": "code",
   "execution_count": 73,
   "metadata": {
    "collapsed": false
   },
   "outputs": [],
   "source": [
    "# # clean times function\n",
    "def cleanTime(df, col):\n",
    "    df.col = pd.to_datetime(df.col)"
   ]
  },
  {
   "cell_type": "code",
   "execution_count": 74,
   "metadata": {
    "collapsed": false
   },
   "outputs": [
    {
     "data": {
      "text/html": [
       "<div>\n",
       "<table border=\"1\" class=\"dataframe\">\n",
       "  <thead>\n",
       "    <tr style=\"text-align: right;\">\n",
       "      <th></th>\n",
       "      <th>timestamp</th>\n",
       "      <th>heartrate</th>\n",
       "      <th>steps</th>\n",
       "      <th>calories</th>\n",
       "      <th>gsr</th>\n",
       "      <th>skintemp</th>\n",
       "      <th>airtemp</th>\n",
       "    </tr>\n",
       "  </thead>\n",
       "  <tbody>\n",
       "    <tr>\n",
       "      <th>1435</th>\n",
       "      <td>2016-05-09 23:55:00</td>\n",
       "      <td>NaN</td>\n",
       "      <td>NaN</td>\n",
       "      <td>NaN</td>\n",
       "      <td>NaN</td>\n",
       "      <td>NaN</td>\n",
       "      <td>NaN</td>\n",
       "    </tr>\n",
       "    <tr>\n",
       "      <th>1436</th>\n",
       "      <td>2016-05-09 23:56:00</td>\n",
       "      <td>NaN</td>\n",
       "      <td>NaN</td>\n",
       "      <td>NaN</td>\n",
       "      <td>NaN</td>\n",
       "      <td>NaN</td>\n",
       "      <td>NaN</td>\n",
       "    </tr>\n",
       "    <tr>\n",
       "      <th>1437</th>\n",
       "      <td>2016-05-09 23:57:00</td>\n",
       "      <td>NaN</td>\n",
       "      <td>NaN</td>\n",
       "      <td>NaN</td>\n",
       "      <td>NaN</td>\n",
       "      <td>NaN</td>\n",
       "      <td>NaN</td>\n",
       "    </tr>\n",
       "    <tr>\n",
       "      <th>1438</th>\n",
       "      <td>2016-05-09 23:58:00</td>\n",
       "      <td>NaN</td>\n",
       "      <td>NaN</td>\n",
       "      <td>NaN</td>\n",
       "      <td>NaN</td>\n",
       "      <td>NaN</td>\n",
       "      <td>NaN</td>\n",
       "    </tr>\n",
       "    <tr>\n",
       "      <th>1439</th>\n",
       "      <td>2016-05-09 23:59:00</td>\n",
       "      <td>NaN</td>\n",
       "      <td>NaN</td>\n",
       "      <td>NaN</td>\n",
       "      <td>NaN</td>\n",
       "      <td>NaN</td>\n",
       "      <td>NaN</td>\n",
       "    </tr>\n",
       "  </tbody>\n",
       "</table>\n",
       "</div>"
      ],
      "text/plain": [
       "                timestamp  heartrate  steps  calories  gsr  skintemp  airtemp\n",
       "1435  2016-05-09 23:55:00        NaN    NaN       NaN  NaN       NaN      NaN\n",
       "1436  2016-05-09 23:56:00        NaN    NaN       NaN  NaN       NaN      NaN\n",
       "1437  2016-05-09 23:57:00        NaN    NaN       NaN  NaN       NaN      NaN\n",
       "1438  2016-05-09 23:58:00        NaN    NaN       NaN  NaN       NaN      NaN\n",
       "1439  2016-05-09 23:59:00        NaN    NaN       NaN  NaN       NaN      NaN"
      ]
     },
     "execution_count": 74,
     "metadata": {},
     "output_type": "execute_result"
    }
   ],
   "source": [
    "metrics = loadMetricData('sallyKung', \"metrics\")\n",
    "metrics.tail(5)"
   ]
  },
  {
   "cell_type": "code",
   "execution_count": 75,
   "metadata": {
    "collapsed": false
   },
   "outputs": [
    {
     "data": {
      "text/plain": [
       "timestamp     object\n",
       "heartrate    float64\n",
       "steps        float64\n",
       "calories     float64\n",
       "gsr          float64\n",
       "skintemp     float64\n",
       "airtemp      float64\n",
       "dtype: object"
      ]
     },
     "execution_count": 75,
     "metadata": {},
     "output_type": "execute_result"
    }
   ],
   "source": [
    "metrics.dtypes"
   ]
  },
  {
   "cell_type": "code",
   "execution_count": 76,
   "metadata": {
    "collapsed": false
   },
   "outputs": [],
   "source": [
    "# clean metric data\n",
    "\n",
    "metrics.timestamp = pd.to_datetime(metrics.timestamp)\n",
    "\n",
    "metrics.heartrate = metrics.heartrate.fillna(0)\n",
    "metrics.steps = metrics.steps.fillna(0)\n",
    "metrics.calories = metrics.calories.fillna(0)\n",
    "metrics.gsr = metrics.gsr.fillna(0)\n",
    "metrics.skintemp = metrics.skintemp.fillna(0)\n",
    "metrics.airtemp = metrics.airtemp.fillna(0)\n",
    "\n",
    "# metrics.head(5)"
   ]
  },
  {
   "cell_type": "code",
   "execution_count": 77,
   "metadata": {
    "collapsed": false
   },
   "outputs": [
    {
     "data": {
      "text/html": [
       "<div>\n",
       "<table border=\"1\" class=\"dataframe\">\n",
       "  <thead>\n",
       "    <tr style=\"text-align: right;\">\n",
       "      <th></th>\n",
       "      <th>timestamp</th>\n",
       "      <th>heartrate</th>\n",
       "      <th>steps</th>\n",
       "      <th>calories</th>\n",
       "      <th>gsr</th>\n",
       "      <th>skintemp</th>\n",
       "      <th>airtemp</th>\n",
       "    </tr>\n",
       "  </thead>\n",
       "  <tbody>\n",
       "    <tr>\n",
       "      <th>842</th>\n",
       "      <td>2016-05-02 14:02:00</td>\n",
       "      <td>93</td>\n",
       "      <td>4</td>\n",
       "      <td>1.709</td>\n",
       "      <td>0.000000</td>\n",
       "      <td>0.0</td>\n",
       "      <td>0.0</td>\n",
       "    </tr>\n",
       "    <tr>\n",
       "      <th>843</th>\n",
       "      <td>2016-05-02 14:03:00</td>\n",
       "      <td>99</td>\n",
       "      <td>18</td>\n",
       "      <td>2.000</td>\n",
       "      <td>0.000052</td>\n",
       "      <td>84.2</td>\n",
       "      <td>82.4</td>\n",
       "    </tr>\n",
       "    <tr>\n",
       "      <th>844</th>\n",
       "      <td>2016-05-02 14:04:00</td>\n",
       "      <td>91</td>\n",
       "      <td>12</td>\n",
       "      <td>1.800</td>\n",
       "      <td>0.000054</td>\n",
       "      <td>84.2</td>\n",
       "      <td>82.4</td>\n",
       "    </tr>\n",
       "    <tr>\n",
       "      <th>845</th>\n",
       "      <td>2016-05-02 14:05:00</td>\n",
       "      <td>93</td>\n",
       "      <td>0</td>\n",
       "      <td>1.500</td>\n",
       "      <td>0.000054</td>\n",
       "      <td>84.2</td>\n",
       "      <td>82.4</td>\n",
       "    </tr>\n",
       "    <tr>\n",
       "      <th>846</th>\n",
       "      <td>2016-05-02 14:06:00</td>\n",
       "      <td>80</td>\n",
       "      <td>0</td>\n",
       "      <td>1.100</td>\n",
       "      <td>0.000053</td>\n",
       "      <td>84.2</td>\n",
       "      <td>82.4</td>\n",
       "    </tr>\n",
       "  </tbody>\n",
       "</table>\n",
       "</div>"
      ],
      "text/plain": [
       "              timestamp  heartrate  steps  calories       gsr  skintemp  \\\n",
       "842 2016-05-02 14:02:00         93      4     1.709  0.000000       0.0   \n",
       "843 2016-05-02 14:03:00         99     18     2.000  0.000052      84.2   \n",
       "844 2016-05-02 14:04:00         91     12     1.800  0.000054      84.2   \n",
       "845 2016-05-02 14:05:00         93      0     1.500  0.000054      84.2   \n",
       "846 2016-05-02 14:06:00         80      0     1.100  0.000053      84.2   \n",
       "\n",
       "     airtemp  \n",
       "842      0.0  \n",
       "843     82.4  \n",
       "844     82.4  \n",
       "845     82.4  \n",
       "846     82.4  "
      ]
     },
     "execution_count": 77,
     "metadata": {},
     "output_type": "execute_result"
    }
   ],
   "source": [
    "metrics = metrics[metrics.heartrate != 0]\n",
    "metrics.head(5)"
   ]
  },
  {
   "cell_type": "code",
   "execution_count": 78,
   "metadata": {
    "collapsed": false
   },
   "outputs": [],
   "source": [
    "activities = loadMetricData('sallyKung', \"activities\")\n",
    "# activities.tail(5)"
   ]
  },
  {
   "cell_type": "code",
   "execution_count": 79,
   "metadata": {
    "collapsed": false
   },
   "outputs": [],
   "source": [
    "sleep = loadMetricData('sallyKung', \"sleep\")\n",
    "# sleep.tail(5)"
   ]
  },
  {
   "cell_type": "code",
   "execution_count": 80,
   "metadata": {
    "collapsed": false
   },
   "outputs": [],
   "source": [
    "# sleep.dtypes"
   ]
  },
  {
   "cell_type": "code",
   "execution_count": 81,
   "metadata": {
    "collapsed": false
   },
   "outputs": [],
   "source": [
    "journal = loadMetricData('sallyKung', \"journal\")\n",
    "# journal.tail(5)"
   ]
  },
  {
   "cell_type": "code",
   "execution_count": 82,
   "metadata": {
    "collapsed": false
   },
   "outputs": [],
   "source": [
    "# journal.dtypes"
   ]
  },
  {
   "cell_type": "code",
   "execution_count": 83,
   "metadata": {
    "collapsed": false,
    "scrolled": true
   },
   "outputs": [
    {
     "name": "stdout",
     "output_type": "stream",
     "text": [
      "(46, 24)\n"
     ]
    },
    {
     "data": {
      "text/html": [
       "<div>\n",
       "<table border=\"1\" class=\"dataframe\">\n",
       "  <thead>\n",
       "    <tr style=\"text-align: right;\">\n",
       "      <th></th>\n",
       "      <th>starttime</th>\n",
       "      <th>endtime</th>\n",
       "      <th>date</th>\n",
       "      <th>start</th>\n",
       "      <th>end</th>\n",
       "      <th>activity</th>\n",
       "      <th>location</th>\n",
       "      <th>generalemo</th>\n",
       "      <th>qualitative</th>\n",
       "      <th>excited</th>\n",
       "      <th>...</th>\n",
       "      <th>angry</th>\n",
       "      <th>hungry</th>\n",
       "      <th>tired</th>\n",
       "      <th>bored</th>\n",
       "      <th>exhaca</th>\n",
       "      <th>ansaan</th>\n",
       "      <th>exha</th>\n",
       "      <th>haca</th>\n",
       "      <th>anan</th>\n",
       "      <th>ansa</th>\n",
       "    </tr>\n",
       "  </thead>\n",
       "  <tbody>\n",
       "    <tr>\n",
       "      <th>0</th>\n",
       "      <td>2016-05-02 13:25:00</td>\n",
       "      <td>2016-05-02 13:28:00</td>\n",
       "      <td>5/2/16</td>\n",
       "      <td>1:25 PM</td>\n",
       "      <td>1:28 PM</td>\n",
       "      <td>Trying on watch</td>\n",
       "      <td>Barb's Office</td>\n",
       "      <td>Excited</td>\n",
       "      <td>8</td>\n",
       "      <td>8</td>\n",
       "      <td>...</td>\n",
       "      <td>0</td>\n",
       "      <td>0</td>\n",
       "      <td>0</td>\n",
       "      <td>0</td>\n",
       "      <td>16</td>\n",
       "      <td>0</td>\n",
       "      <td>16</td>\n",
       "      <td>8</td>\n",
       "      <td>0</td>\n",
       "      <td>0</td>\n",
       "    </tr>\n",
       "    <tr>\n",
       "      <th>1</th>\n",
       "      <td>2016-05-02 13:40:00</td>\n",
       "      <td>2016-05-02 00:00:00</td>\n",
       "      <td>5/2/16</td>\n",
       "      <td>1:40 PM</td>\n",
       "      <td>NaN</td>\n",
       "      <td>Editing photos for work</td>\n",
       "      <td>Barb's Office</td>\n",
       "      <td>Streeeeeessed</td>\n",
       "      <td>6</td>\n",
       "      <td>0</td>\n",
       "      <td>...</td>\n",
       "      <td>0</td>\n",
       "      <td>0</td>\n",
       "      <td>0</td>\n",
       "      <td>0</td>\n",
       "      <td>0</td>\n",
       "      <td>0</td>\n",
       "      <td>0</td>\n",
       "      <td>0</td>\n",
       "      <td>0</td>\n",
       "      <td>0</td>\n",
       "    </tr>\n",
       "    <tr>\n",
       "      <th>2</th>\n",
       "      <td>2016-05-02 13:48:00</td>\n",
       "      <td>2016-05-02 13:48:00</td>\n",
       "      <td>5/2/16</td>\n",
       "      <td>1:48 PM</td>\n",
       "      <td>1:48 PM</td>\n",
       "      <td>Wafer fit perfectly on top of cup</td>\n",
       "      <td>Barb's Office</td>\n",
       "      <td>HAPPY</td>\n",
       "      <td>10</td>\n",
       "      <td>10</td>\n",
       "      <td>...</td>\n",
       "      <td>0</td>\n",
       "      <td>0</td>\n",
       "      <td>0</td>\n",
       "      <td>0</td>\n",
       "      <td>20</td>\n",
       "      <td>0</td>\n",
       "      <td>20</td>\n",
       "      <td>10</td>\n",
       "      <td>0</td>\n",
       "      <td>0</td>\n",
       "    </tr>\n",
       "    <tr>\n",
       "      <th>3</th>\n",
       "      <td>2016-05-02 14:31:00</td>\n",
       "      <td>2016-05-02 14:50:00</td>\n",
       "      <td>5/2/16</td>\n",
       "      <td>2:31 PM</td>\n",
       "      <td>2:50 PM</td>\n",
       "      <td>Sorting through magnetic pins</td>\n",
       "      <td>Barb's Office</td>\n",
       "      <td>Anxious</td>\n",
       "      <td>5</td>\n",
       "      <td>0</td>\n",
       "      <td>...</td>\n",
       "      <td>6</td>\n",
       "      <td>0</td>\n",
       "      <td>0</td>\n",
       "      <td>0</td>\n",
       "      <td>0</td>\n",
       "      <td>11</td>\n",
       "      <td>0</td>\n",
       "      <td>0</td>\n",
       "      <td>11</td>\n",
       "      <td>5</td>\n",
       "    </tr>\n",
       "    <tr>\n",
       "      <th>4</th>\n",
       "      <td>2016-05-02 15:10:00</td>\n",
       "      <td>2016-05-02 15:14:00</td>\n",
       "      <td>5/2/16</td>\n",
       "      <td>3:10 PM</td>\n",
       "      <td>3:14 PM</td>\n",
       "      <td>Trying to figure out where photos went</td>\n",
       "      <td>Barb's Office</td>\n",
       "      <td>ANXIOUS, CONFUSED</td>\n",
       "      <td>9</td>\n",
       "      <td>0</td>\n",
       "      <td>...</td>\n",
       "      <td>0</td>\n",
       "      <td>0</td>\n",
       "      <td>0</td>\n",
       "      <td>0</td>\n",
       "      <td>0</td>\n",
       "      <td>9</td>\n",
       "      <td>0</td>\n",
       "      <td>0</td>\n",
       "      <td>9</td>\n",
       "      <td>9</td>\n",
       "    </tr>\n",
       "  </tbody>\n",
       "</table>\n",
       "<p>5 rows × 24 columns</p>\n",
       "</div>"
      ],
      "text/plain": [
       "            starttime             endtime    date    start      end  \\\n",
       "0 2016-05-02 13:25:00 2016-05-02 13:28:00  5/2/16  1:25 PM  1:28 PM   \n",
       "1 2016-05-02 13:40:00 2016-05-02 00:00:00  5/2/16  1:40 PM      NaN   \n",
       "2 2016-05-02 13:48:00 2016-05-02 13:48:00  5/2/16  1:48 PM  1:48 PM   \n",
       "3 2016-05-02 14:31:00 2016-05-02 14:50:00  5/2/16  2:31 PM  2:50 PM   \n",
       "4 2016-05-02 15:10:00 2016-05-02 15:14:00  5/2/16  3:10 PM  3:14 PM   \n",
       "\n",
       "                                 activity       location         generalemo  \\\n",
       "0                         Trying on watch  Barb's Office            Excited   \n",
       "1                 Editing photos for work  Barb's Office      Streeeeeessed   \n",
       "2       Wafer fit perfectly on top of cup  Barb's Office              HAPPY   \n",
       "3           Sorting through magnetic pins  Barb's Office            Anxious   \n",
       "4  Trying to figure out where photos went  Barb's Office  ANXIOUS, CONFUSED   \n",
       "\n",
       "   qualitative  excited  ...   angry  hungry  tired  bored  exhaca  ansaan  \\\n",
       "0            8        8  ...       0       0      0      0      16       0   \n",
       "1            6        0  ...       0       0      0      0       0       0   \n",
       "2           10       10  ...       0       0      0      0      20       0   \n",
       "3            5        0  ...       6       0      0      0       0      11   \n",
       "4            9        0  ...       0       0      0      0       0       9   \n",
       "\n",
       "   exha  haca  anan  ansa  \n",
       "0    16     8     0     0  \n",
       "1     0     0     0     0  \n",
       "2    20    10     0     0  \n",
       "3     0     0    11     5  \n",
       "4     0     0     9     9  \n",
       "\n",
       "[5 rows x 24 columns]"
      ]
     },
     "execution_count": 83,
     "metadata": {},
     "output_type": "execute_result"
    }
   ],
   "source": [
    "# clean metric data\n",
    "journal.starttime= pd.to_datetime(journal.starttime)\n",
    "journal.endtime= pd.to_datetime(journal.endtime)\n",
    "\n",
    "journal.qualitative = journal.qualitative.fillna(0)\n",
    "journal.excited = journal.excited.fillna(0)\n",
    "journal.happy = journal.happy.fillna(0)\n",
    "journal.calm = journal.calm.fillna(0)\n",
    "journal.anxious = journal.anxious.fillna(0)\n",
    "journal.sad = journal.sad.fillna(0)\n",
    "journal.angry = journal.angry.fillna(0)\n",
    "journal.hungry = journal.hungry.fillna(0)\n",
    "journal.tired = journal.tired.fillna(0)\n",
    "journal.bored = journal.bored.fillna(0)\n",
    "journal.ansaan = journal.ansaan.fillna(0)\n",
    "journal.exhaca = journal.exhaca.fillna(0)\n",
    "\n",
    "print(journal.shape)\n",
    "journal.head(5)\n",
    "# journal.tail(5)"
   ]
  },
  {
   "cell_type": "code",
   "execution_count": 84,
   "metadata": {
    "collapsed": false
   },
   "outputs": [
    {
     "data": {
      "text/html": [
       "<div>\n",
       "<table border=\"1\" class=\"dataframe\">\n",
       "  <thead>\n",
       "    <tr style=\"text-align: right;\">\n",
       "      <th></th>\n",
       "      <th>starttime</th>\n",
       "      <th>endtime</th>\n",
       "      <th>date</th>\n",
       "      <th>start</th>\n",
       "      <th>end</th>\n",
       "      <th>activity</th>\n",
       "      <th>location</th>\n",
       "      <th>generalemo</th>\n",
       "      <th>qualitative</th>\n",
       "      <th>excited</th>\n",
       "      <th>...</th>\n",
       "      <th>ansa</th>\n",
       "      <th>boolexcited</th>\n",
       "      <th>boolhappy</th>\n",
       "      <th>boolcalm</th>\n",
       "      <th>boolanxious</th>\n",
       "      <th>boolsad</th>\n",
       "      <th>boolangry</th>\n",
       "      <th>booltired</th>\n",
       "      <th>boolhungry</th>\n",
       "      <th>boolbored</th>\n",
       "    </tr>\n",
       "  </thead>\n",
       "  <tbody>\n",
       "    <tr>\n",
       "      <th>0</th>\n",
       "      <td>2016-05-02 13:25:00</td>\n",
       "      <td>2016-05-02 13:28:00</td>\n",
       "      <td>5/2/16</td>\n",
       "      <td>1:25 PM</td>\n",
       "      <td>1:28 PM</td>\n",
       "      <td>Trying on watch</td>\n",
       "      <td>Barb's Office</td>\n",
       "      <td>Excited</td>\n",
       "      <td>8</td>\n",
       "      <td>8</td>\n",
       "      <td>...</td>\n",
       "      <td>False</td>\n",
       "      <td>True</td>\n",
       "      <td>True</td>\n",
       "      <td>False</td>\n",
       "      <td>False</td>\n",
       "      <td>False</td>\n",
       "      <td>False</td>\n",
       "      <td>False</td>\n",
       "      <td>False</td>\n",
       "      <td>False</td>\n",
       "    </tr>\n",
       "    <tr>\n",
       "      <th>1</th>\n",
       "      <td>2016-05-02 13:40:00</td>\n",
       "      <td>2016-05-02 00:00:00</td>\n",
       "      <td>5/2/16</td>\n",
       "      <td>1:40 PM</td>\n",
       "      <td>NaN</td>\n",
       "      <td>Editing photos for work</td>\n",
       "      <td>Barb's Office</td>\n",
       "      <td>Streeeeeessed</td>\n",
       "      <td>6</td>\n",
       "      <td>0</td>\n",
       "      <td>...</td>\n",
       "      <td>False</td>\n",
       "      <td>False</td>\n",
       "      <td>False</td>\n",
       "      <td>False</td>\n",
       "      <td>False</td>\n",
       "      <td>False</td>\n",
       "      <td>False</td>\n",
       "      <td>False</td>\n",
       "      <td>False</td>\n",
       "      <td>False</td>\n",
       "    </tr>\n",
       "    <tr>\n",
       "      <th>2</th>\n",
       "      <td>2016-05-02 13:48:00</td>\n",
       "      <td>2016-05-02 13:48:00</td>\n",
       "      <td>5/2/16</td>\n",
       "      <td>1:48 PM</td>\n",
       "      <td>1:48 PM</td>\n",
       "      <td>Wafer fit perfectly on top of cup</td>\n",
       "      <td>Barb's Office</td>\n",
       "      <td>HAPPY</td>\n",
       "      <td>10</td>\n",
       "      <td>10</td>\n",
       "      <td>...</td>\n",
       "      <td>False</td>\n",
       "      <td>True</td>\n",
       "      <td>True</td>\n",
       "      <td>False</td>\n",
       "      <td>False</td>\n",
       "      <td>False</td>\n",
       "      <td>False</td>\n",
       "      <td>False</td>\n",
       "      <td>False</td>\n",
       "      <td>False</td>\n",
       "    </tr>\n",
       "    <tr>\n",
       "      <th>3</th>\n",
       "      <td>2016-05-02 14:31:00</td>\n",
       "      <td>2016-05-02 14:50:00</td>\n",
       "      <td>5/2/16</td>\n",
       "      <td>2:31 PM</td>\n",
       "      <td>2:50 PM</td>\n",
       "      <td>Sorting through magnetic pins</td>\n",
       "      <td>Barb's Office</td>\n",
       "      <td>Anxious</td>\n",
       "      <td>5</td>\n",
       "      <td>0</td>\n",
       "      <td>...</td>\n",
       "      <td>True</td>\n",
       "      <td>False</td>\n",
       "      <td>False</td>\n",
       "      <td>False</td>\n",
       "      <td>True</td>\n",
       "      <td>False</td>\n",
       "      <td>True</td>\n",
       "      <td>False</td>\n",
       "      <td>False</td>\n",
       "      <td>False</td>\n",
       "    </tr>\n",
       "    <tr>\n",
       "      <th>4</th>\n",
       "      <td>2016-05-02 15:10:00</td>\n",
       "      <td>2016-05-02 15:14:00</td>\n",
       "      <td>5/2/16</td>\n",
       "      <td>3:10 PM</td>\n",
       "      <td>3:14 PM</td>\n",
       "      <td>Trying to figure out where photos went</td>\n",
       "      <td>Barb's Office</td>\n",
       "      <td>ANXIOUS, CONFUSED</td>\n",
       "      <td>9</td>\n",
       "      <td>0</td>\n",
       "      <td>...</td>\n",
       "      <td>True</td>\n",
       "      <td>False</td>\n",
       "      <td>False</td>\n",
       "      <td>False</td>\n",
       "      <td>True</td>\n",
       "      <td>False</td>\n",
       "      <td>False</td>\n",
       "      <td>False</td>\n",
       "      <td>False</td>\n",
       "      <td>False</td>\n",
       "    </tr>\n",
       "  </tbody>\n",
       "</table>\n",
       "<p>5 rows × 33 columns</p>\n",
       "</div>"
      ],
      "text/plain": [
       "            starttime             endtime    date    start      end  \\\n",
       "0 2016-05-02 13:25:00 2016-05-02 13:28:00  5/2/16  1:25 PM  1:28 PM   \n",
       "1 2016-05-02 13:40:00 2016-05-02 00:00:00  5/2/16  1:40 PM      NaN   \n",
       "2 2016-05-02 13:48:00 2016-05-02 13:48:00  5/2/16  1:48 PM  1:48 PM   \n",
       "3 2016-05-02 14:31:00 2016-05-02 14:50:00  5/2/16  2:31 PM  2:50 PM   \n",
       "4 2016-05-02 15:10:00 2016-05-02 15:14:00  5/2/16  3:10 PM  3:14 PM   \n",
       "\n",
       "                                 activity       location         generalemo  \\\n",
       "0                         Trying on watch  Barb's Office            Excited   \n",
       "1                 Editing photos for work  Barb's Office      Streeeeeessed   \n",
       "2       Wafer fit perfectly on top of cup  Barb's Office              HAPPY   \n",
       "3           Sorting through magnetic pins  Barb's Office            Anxious   \n",
       "4  Trying to figure out where photos went  Barb's Office  ANXIOUS, CONFUSED   \n",
       "\n",
       "   qualitative  excited    ...      ansa  boolexcited  boolhappy  boolcalm  \\\n",
       "0            8        8    ...     False         True       True     False   \n",
       "1            6        0    ...     False        False      False     False   \n",
       "2           10       10    ...     False         True       True     False   \n",
       "3            5        0    ...      True        False      False     False   \n",
       "4            9        0    ...      True        False      False     False   \n",
       "\n",
       "   boolanxious  boolsad  boolangry  booltired boolhungry boolbored  \n",
       "0        False    False      False      False      False     False  \n",
       "1        False    False      False      False      False     False  \n",
       "2        False    False      False      False      False     False  \n",
       "3         True    False       True      False      False     False  \n",
       "4         True    False      False      False      False     False  \n",
       "\n",
       "[5 rows x 33 columns]"
      ]
     },
     "execution_count": 84,
     "metadata": {},
     "output_type": "execute_result"
    }
   ],
   "source": [
    "\n",
    "journal['boolexcited'] =  journal['excited'] > 0\n",
    "journal['boolhappy'] =  journal['happy'] > 0\n",
    "journal['boolcalm'] =  journal['calm'] > 0\n",
    "journal['boolanxious'] =  journal['anxious'] > 0\n",
    "journal['boolsad'] =  journal['sad'] > 0\n",
    "journal['boolangry'] =  journal['angry'] > 0\n",
    "journal['booltired'] =  journal['tired'] > 0\n",
    "journal['boolhungry'] =  journal['hungry'] > 0\n",
    "journal['boolbored'] =  journal['bored'] > 0\n",
    "journal['exhaca'] =  journal['exhaca'] > 0\n",
    "journal['ansaan'] =  journal['ansaan'] > 0\n",
    "\n",
    "journal['exha'] =  journal['exha'] > 0\n",
    "journal['haca'] =  journal['haca'] > 0\n",
    "journal['anan'] =  journal['anan'] > 0\n",
    "journal['ansa'] =  journal['anan'] > 0\n",
    "\n",
    "    \n",
    "boolexcited = journal.iloc[:, 18].values.reshape(journal.shape[0], 1)\n",
    "boolhappy = journal.iloc[:, 19].values.reshape(journal.shape[0], 1)\n",
    "boolcalm = journal.iloc[:, 20].values.reshape(journal.shape[0], 1)\n",
    "boolanxious = journal.iloc[:, 21].values.reshape(journal.shape[0], 1)\n",
    "boolsad = journal.iloc[:, 22].values.reshape(journal.shape[0], 1)\n",
    "boolangry = journal.iloc[:, 23].values.reshape(journal.shape[0], 1)\n",
    "booltired = journal.iloc[:, 24].values.reshape(journal.shape[0], 1)\n",
    "boolhungry = journal.iloc[:, 25].values.reshape(journal.shape[0], 1)\n",
    "boolbored = journal.iloc[:, 26].values.reshape(journal.shape[0], 1)\n",
    "exhaca = journal.iloc[:, 27].values.reshape(journal.shape[0], 1)\n",
    "ansaan = journal.iloc[:, 28].values.reshape(journal.shape[0], 1)\n",
    "exha = journal.iloc[:, 29].values.reshape(journal.shape[0], 1)\n",
    "haca = journal.iloc[:, 30].values.reshape(journal.shape[0], 1)\n",
    "anan = journal.iloc[:, 31].values.reshape(journal.shape[0], 1)\n",
    "ansa = journal.iloc[:, 32].values.reshape(journal.shape[0], 1)\n",
    "\n",
    "journal.head(5)\n"
   ]
  },
  {
   "cell_type": "code",
   "execution_count": 85,
   "metadata": {
    "collapsed": false
   },
   "outputs": [],
   "source": [
    "# for i in range(0, sarahJournal.shape[0]):\n",
    "#     sarahJournal['ex'] = (0< sarahJournal.iloc[i, 18].astype(int))\n",
    "#     sarahJournal['ha'] = sarahJournal.iloc[i, 19]== True\n",
    "#     sarahJournal['ca'] = sarahJournal.iloc[i, 20]== True\n",
    "#     sarahJournal['ys'] = sarahJournal['ex'].astype(int) + sarahJournal['ha'].astype(int) + sarahJournal['ca'].astype(int)\n",
    "\n",
    "# print(sarahJournal['ex'])\n",
    "    "
   ]
  },
  {
   "cell_type": "code",
   "execution_count": 86,
   "metadata": {
    "collapsed": false
   },
   "outputs": [],
   "source": [
    "# def makeEmoIndicators(newvar, journalData, journal_emo1_loc, journal_emo2_loc, journal_emo3_loc):\n",
    "  \n",
    "#     journalData[newvar] = False\n",
    "    \n",
    "#     for i in range(0, journalData.shape[0]):\n",
    "#         journalData['emo1'] = (journalData.iloc[i, journal_emo1_loc]) == True)\n",
    "#         journalData['emo2'] = (journalData.iloc[i, journal_emo2_loc] == True)\n",
    "#         journalData['emo3'] = (journalData.iloc[i, journal_emo3_loc] == True)\n",
    "#         journalData['ysum'] = journalData['emo1'].astype(int) + journalData['emo2'].astype(int) + journalData['emo3'].astype(int)\n",
    "# #         print(journalData['emo1'].astype(int) + journalData['emo2'].astype(int) + journalData['emo3'].astype(int))\n",
    "#         journalData.loc[journalData['ysum']!=0, newvar] = True\n",
    "        \n",
    "#     print(journalData['emo1'].values)\n",
    "#     journalData = journalData.drop(['emo1', 'emo2', 'emo3', 'ysum'], axis=1)\n",
    "#     return journalData"
   ]
  },
  {
   "cell_type": "code",
   "execution_count": 87,
   "metadata": {
    "collapsed": false
   },
   "outputs": [],
   "source": [
    "# sarahJournal.dtypes"
   ]
  },
  {
   "cell_type": "code",
   "execution_count": 88,
   "metadata": {
    "collapsed": false
   },
   "outputs": [],
   "source": [
    "# testData= makeEmoIndicators('exhaca', sarahJournal, 18, 19, 20)\n",
    "# # print(testData.describe())"
   ]
  },
  {
   "cell_type": "code",
   "execution_count": 89,
   "metadata": {
    "collapsed": false
   },
   "outputs": [],
   "source": [
    "# sarahJournal.boolexhapcal.convert_objects(convert_numeric=True)"
   ]
  },
  {
   "cell_type": "code",
   "execution_count": 90,
   "metadata": {
    "collapsed": false
   },
   "outputs": [],
   "source": [
    "# function that takes any journal or activity data and creates indicators for activities or emotions\n",
    "\n",
    "def makeIndicators(newvar, metricData, journalData, journal_startdatetime_loc, journal_enddatetime_loc, journal_activity_loc):\n",
    "    '''\n",
    "    Create boolean indicator variable for activities or emotions\n",
    "    newvar, string for name of new indicator variable\n",
    "    activity, string that matches the name of the activity or emotion in the journalData data frame\n",
    "    bioData, data frame of input biometric data\n",
    "    journalData, data frame of input journal or activity data\n",
    "    journal_startdatetime_loc, int of position of the start datetime in journalData\n",
    "    journal_enddatetime_loc, int of position of the end datetime in journalData\n",
    "    journal_activity_loc, int of position of the activity or emotion in journalData\n",
    "    '''\n",
    "\n",
    "    metricData[newvar] = False\n",
    "\n",
    "    for i in range(0, journalData.shape[0]):\n",
    "        metricData['xlt'] = (metricData['timestamp'] >= pd.to_datetime(journalData.iloc[i, journal_startdatetime_loc]))\n",
    "        metricData['xgt'] = (metricData['timestamp'] <= pd.to_datetime(journalData.iloc[i, journal_enddatetime_loc]))\n",
    "#         metricData['xw'] = (journalData.iloc[i, journal_activity_loc])\n",
    "        metricData['xw'] = (journalData.iloc[i, journal_activity_loc] == True)\n",
    "        metricData['xsum'] = metricData['xlt'].astype(int) + metricData['xgt'].astype(int) + metricData['xw'].astype(int)\n",
    "        metricData.loc[metricData['xsum']==3, newvar] = True\n",
    "    \n",
    "    metricData = metricData.drop(['xlt', 'xgt', 'xw', 'xsum'], axis=1)\n",
    "    return metricData"
   ]
  },
  {
   "cell_type": "code",
   "execution_count": 91,
   "metadata": {
    "collapsed": false
   },
   "outputs": [],
   "source": [
    "# indicator for walking\n",
    "totalData = makeIndicators('excitement', metrics, journal, 0, 1, 18)\n",
    "totalData = makeIndicators('happy', metrics, journal, 0, 1, 19)\n",
    "totalData = makeIndicators('calm', metrics, journal, 0, 1, 20)\n",
    "totalData = makeIndicators('anxious', metrics, journal, 0, 1, 21)\n",
    "totalData = makeIndicators('sad', metrics, journal, 0, 1, 22)\n",
    "totalData = makeIndicators('angry', metrics, journal, 0, 1, 23)\n",
    "totalData = makeIndicators('hungry', metrics, journal, 0, 1, 24)\n",
    "totalData = makeIndicators('tired', metrics, journal, 0, 1, 25)\n",
    "totalData = makeIndicators('bored', metrics, journal, 0, 1, 26)\n",
    "\n",
    "totalData = makeIndicators('exhaca', metrics, journal, 0, 1, 27)\n",
    "totalData = makeIndicators('ansaan', metrics, journal, 0, 1, 28)\n",
    "\n",
    "totalData = makeIndicators('exha', metrics, journal, 0, 1, 29)\n",
    "totalData = makeIndicators('haca', metrics, journal, 0, 1, 30)\n",
    "totalData = makeIndicators('anan', metrics, journal, 0, 1, 31)\n",
    "totalData = makeIndicators('ansa', metrics, journal, 0, 1, 32)\n",
    "\n",
    "\n"
   ]
  },
  {
   "cell_type": "code",
   "execution_count": 92,
   "metadata": {
    "collapsed": false
   },
   "outputs": [
    {
     "name": "stdout",
     "output_type": "stream",
     "text": [
      "          heartrate         steps      calories           gsr      skintemp  \\\n",
      "count  10055.000000  10055.000000  10055.000000  10055.000000  10055.000000   \n",
      "mean      79.915664      4.050622      1.820627      0.001328     85.704267   \n",
      "std       16.522298     18.208038      1.359876      0.050552      9.483957   \n",
      "min       51.000000      0.000000      0.700000      0.000000      0.000000   \n",
      "25%       66.500000      0.000000      1.200000      0.000053     83.300000   \n",
      "50%       79.000000      0.000000      1.300000      0.000055     86.000000   \n",
      "75%       90.000000      0.000000      1.900000      0.000062     89.600000   \n",
      "max      156.000000    142.000000     11.400000      4.270000     99.500000   \n",
      "\n",
      "            airtemp excitement     happy       calm    anxious     ...      \\\n",
      "count  10055.000000      10055     10055      10055      10055     ...       \n",
      "mean      82.895425  0.0277474  0.082546  0.0016907  0.0277474     ...       \n",
      "std        9.461043   0.164256  0.275208  0.0410854   0.164256     ...       \n",
      "min        0.000000      False     False      False      False     ...       \n",
      "25%       80.600000          0         0          0          0     ...       \n",
      "50%       83.300000          0         0          0          0     ...       \n",
      "75%       86.900000          0         0          0          0     ...       \n",
      "max      100.400000       True      True       True       True     ...       \n",
      "\n",
      "           angry hungry      tired      bored     exhaca      ansaan  \\\n",
      "count      10055  10055      10055      10055      10055       10055   \n",
      "mean   0.0824465      0  0.0016907  0.0260567  0.0798608  9.9453e-05   \n",
      "std     0.275058      0  0.0410854   0.159312   0.271091  0.00997261   \n",
      "min        False  False      False      False      False       False   \n",
      "25%            0      0          0          0          0           0   \n",
      "50%            0      0          0          0          0           0   \n",
      "75%            0      0          0          0          0           0   \n",
      "max         True  False       True       True       True        True   \n",
      "\n",
      "             exha       haca        anan        ansa  \n",
      "count       10055      10055       10055       10055  \n",
      "mean   0.00537046  0.0755843  9.9453e-05  9.9453e-05  \n",
      "std       0.07309   0.264345  0.00997261  0.00997261  \n",
      "min         False      False       False       False  \n",
      "25%             0          0           0           0  \n",
      "50%             0          0           0           0  \n",
      "75%             0          0           0           0  \n",
      "max          True       True        True        True  \n",
      "\n",
      "[8 rows x 21 columns]\n"
     ]
    }
   ],
   "source": [
    "print(totalData.describe())"
   ]
  },
  {
   "cell_type": "code",
   "execution_count": 93,
   "metadata": {
    "collapsed": false
   },
   "outputs": [
    {
     "name": "stdout",
     "output_type": "stream",
     "text": [
      "              timestamp  heartrate  steps  calories       gsr  skintemp  \\\n",
      "842 2016-05-02 14:02:00         93      4     1.709  0.000000       0.0   \n",
      "843 2016-05-02 14:03:00         99     18     2.000  0.000052      84.2   \n",
      "844 2016-05-02 14:04:00         91     12     1.800  0.000054      84.2   \n",
      "845 2016-05-02 14:05:00         93      0     1.500  0.000054      84.2   \n",
      "846 2016-05-02 14:06:00         80      0     1.100  0.000053      84.2   \n",
      "\n",
      "     airtemp excitement  happy   calm  ...    angry hungry  tired  bored  \\\n",
      "842      0.0      False  False  False  ...    False  False  False  False   \n",
      "843     82.4      False  False  False  ...    False  False  False  False   \n",
      "844     82.4      False  False  False  ...    False  False  False  False   \n",
      "845     82.4      False  False  False  ...    False  False  False  False   \n",
      "846     82.4      False  False  False  ...    False  False  False  False   \n",
      "\n",
      "    exhaca ansaan   exha   haca   anan   ansa  \n",
      "842  False  False  False  False  False  False  \n",
      "843  False  False  False  False  False  False  \n",
      "844  False  False  False  False  False  False  \n",
      "845  False  False  False  False  False  False  \n",
      "846  False  False  False  False  False  False  \n",
      "\n",
      "[5 rows x 22 columns]\n"
     ]
    }
   ],
   "source": [
    "print(totalData.head())"
   ]
  },
  {
   "cell_type": "code",
   "execution_count": 94,
   "metadata": {
    "collapsed": false
   },
   "outputs": [],
   "source": [
    "totalData.to_csv('sarahTotal.csv')"
   ]
  },
  {
   "cell_type": "code",
   "execution_count": 95,
   "metadata": {
    "collapsed": false
   },
   "outputs": [
    {
     "data": {
      "text/html": [
       "<div>\n",
       "<table border=\"1\" class=\"dataframe\">\n",
       "  <thead>\n",
       "    <tr style=\"text-align: right;\">\n",
       "      <th></th>\n",
       "      <th>timestamp</th>\n",
       "      <th>heartrate</th>\n",
       "      <th>steps</th>\n",
       "      <th>calories</th>\n",
       "      <th>gsr</th>\n",
       "      <th>skintemp</th>\n",
       "      <th>airtemp</th>\n",
       "      <th>excitement</th>\n",
       "      <th>happy</th>\n",
       "      <th>calm</th>\n",
       "      <th>...</th>\n",
       "      <th>angry</th>\n",
       "      <th>hungry</th>\n",
       "      <th>tired</th>\n",
       "      <th>bored</th>\n",
       "      <th>exhaca</th>\n",
       "      <th>ansaan</th>\n",
       "      <th>exha</th>\n",
       "      <th>haca</th>\n",
       "      <th>anan</th>\n",
       "      <th>ansa</th>\n",
       "    </tr>\n",
       "  </thead>\n",
       "  <tbody>\n",
       "    <tr>\n",
       "      <th>842</th>\n",
       "      <td>2016-05-02 14:02:00</td>\n",
       "      <td>93</td>\n",
       "      <td>4</td>\n",
       "      <td>1.709</td>\n",
       "      <td>0.000000</td>\n",
       "      <td>0.0</td>\n",
       "      <td>0.0</td>\n",
       "      <td>False</td>\n",
       "      <td>False</td>\n",
       "      <td>False</td>\n",
       "      <td>...</td>\n",
       "      <td>False</td>\n",
       "      <td>False</td>\n",
       "      <td>False</td>\n",
       "      <td>False</td>\n",
       "      <td>False</td>\n",
       "      <td>False</td>\n",
       "      <td>False</td>\n",
       "      <td>False</td>\n",
       "      <td>False</td>\n",
       "      <td>False</td>\n",
       "    </tr>\n",
       "    <tr>\n",
       "      <th>843</th>\n",
       "      <td>2016-05-02 14:03:00</td>\n",
       "      <td>99</td>\n",
       "      <td>18</td>\n",
       "      <td>2.000</td>\n",
       "      <td>0.000052</td>\n",
       "      <td>84.2</td>\n",
       "      <td>82.4</td>\n",
       "      <td>False</td>\n",
       "      <td>False</td>\n",
       "      <td>False</td>\n",
       "      <td>...</td>\n",
       "      <td>False</td>\n",
       "      <td>False</td>\n",
       "      <td>False</td>\n",
       "      <td>False</td>\n",
       "      <td>False</td>\n",
       "      <td>False</td>\n",
       "      <td>False</td>\n",
       "      <td>False</td>\n",
       "      <td>False</td>\n",
       "      <td>False</td>\n",
       "    </tr>\n",
       "    <tr>\n",
       "      <th>844</th>\n",
       "      <td>2016-05-02 14:04:00</td>\n",
       "      <td>91</td>\n",
       "      <td>12</td>\n",
       "      <td>1.800</td>\n",
       "      <td>0.000054</td>\n",
       "      <td>84.2</td>\n",
       "      <td>82.4</td>\n",
       "      <td>False</td>\n",
       "      <td>False</td>\n",
       "      <td>False</td>\n",
       "      <td>...</td>\n",
       "      <td>False</td>\n",
       "      <td>False</td>\n",
       "      <td>False</td>\n",
       "      <td>False</td>\n",
       "      <td>False</td>\n",
       "      <td>False</td>\n",
       "      <td>False</td>\n",
       "      <td>False</td>\n",
       "      <td>False</td>\n",
       "      <td>False</td>\n",
       "    </tr>\n",
       "    <tr>\n",
       "      <th>845</th>\n",
       "      <td>2016-05-02 14:05:00</td>\n",
       "      <td>93</td>\n",
       "      <td>0</td>\n",
       "      <td>1.500</td>\n",
       "      <td>0.000054</td>\n",
       "      <td>84.2</td>\n",
       "      <td>82.4</td>\n",
       "      <td>False</td>\n",
       "      <td>False</td>\n",
       "      <td>False</td>\n",
       "      <td>...</td>\n",
       "      <td>False</td>\n",
       "      <td>False</td>\n",
       "      <td>False</td>\n",
       "      <td>False</td>\n",
       "      <td>False</td>\n",
       "      <td>False</td>\n",
       "      <td>False</td>\n",
       "      <td>False</td>\n",
       "      <td>False</td>\n",
       "      <td>False</td>\n",
       "    </tr>\n",
       "    <tr>\n",
       "      <th>846</th>\n",
       "      <td>2016-05-02 14:06:00</td>\n",
       "      <td>80</td>\n",
       "      <td>0</td>\n",
       "      <td>1.100</td>\n",
       "      <td>0.000053</td>\n",
       "      <td>84.2</td>\n",
       "      <td>82.4</td>\n",
       "      <td>False</td>\n",
       "      <td>False</td>\n",
       "      <td>False</td>\n",
       "      <td>...</td>\n",
       "      <td>False</td>\n",
       "      <td>False</td>\n",
       "      <td>False</td>\n",
       "      <td>False</td>\n",
       "      <td>False</td>\n",
       "      <td>False</td>\n",
       "      <td>False</td>\n",
       "      <td>False</td>\n",
       "      <td>False</td>\n",
       "      <td>False</td>\n",
       "    </tr>\n",
       "  </tbody>\n",
       "</table>\n",
       "<p>5 rows × 22 columns</p>\n",
       "</div>"
      ],
      "text/plain": [
       "              timestamp  heartrate  steps  calories       gsr  skintemp  \\\n",
       "842 2016-05-02 14:02:00         93      4     1.709  0.000000       0.0   \n",
       "843 2016-05-02 14:03:00         99     18     2.000  0.000052      84.2   \n",
       "844 2016-05-02 14:04:00         91     12     1.800  0.000054      84.2   \n",
       "845 2016-05-02 14:05:00         93      0     1.500  0.000054      84.2   \n",
       "846 2016-05-02 14:06:00         80      0     1.100  0.000053      84.2   \n",
       "\n",
       "     airtemp excitement  happy   calm  ...    angry hungry  tired  bored  \\\n",
       "842      0.0      False  False  False  ...    False  False  False  False   \n",
       "843     82.4      False  False  False  ...    False  False  False  False   \n",
       "844     82.4      False  False  False  ...    False  False  False  False   \n",
       "845     82.4      False  False  False  ...    False  False  False  False   \n",
       "846     82.4      False  False  False  ...    False  False  False  False   \n",
       "\n",
       "    exhaca ansaan   exha   haca   anan   ansa  \n",
       "842  False  False  False  False  False  False  \n",
       "843  False  False  False  False  False  False  \n",
       "844  False  False  False  False  False  False  \n",
       "845  False  False  False  False  False  False  \n",
       "846  False  False  False  False  False  False  \n",
       "\n",
       "[5 rows x 22 columns]"
      ]
     },
     "execution_count": 95,
     "metadata": {},
     "output_type": "execute_result"
    }
   ],
   "source": [
    "totalData.head(5)"
   ]
  },
  {
   "cell_type": "code",
   "execution_count": 96,
   "metadata": {
    "collapsed": false
   },
   "outputs": [
    {
     "name": "stdout",
     "output_type": "stream",
     "text": [
      "(10055, 26)\n",
      "              timestamp  heartrate  steps  calories       gsr  skintemp  \\\n",
      "842 2016-05-02 14:02:00         93      4     1.709  0.000000       0.0   \n",
      "843 2016-05-02 14:03:00         99     18     2.000  0.000052      84.2   \n",
      "844 2016-05-02 14:04:00         91     12     1.800  0.000054      84.2   \n",
      "845 2016-05-02 14:05:00         93      0     1.500  0.000054      84.2   \n",
      "846 2016-05-02 14:06:00         80      0     1.100  0.000053      84.2   \n",
      "\n",
      "     airtemp excitement  happy   calm ... exhaca ansaan   exha   haca   anan  \\\n",
      "842      0.0      False  False  False ...  False  False  False  False  False   \n",
      "843     82.4      False  False  False ...  False  False  False  False  False   \n",
      "844     82.4      False  False  False ...  False  False  False  False  False   \n",
      "845     82.4      False  False  False ...  False  False  False  False  False   \n",
      "846     82.4      False  False  False ...  False  False  False  False  False   \n",
      "\n",
      "      ansa weekday month hour min  \n",
      "842  False       0     5   14   2  \n",
      "843  False       0     5   14   3  \n",
      "844  False       0     5   14   4  \n",
      "845  False       0     5   14   5  \n",
      "846  False       0     5   14   6  \n",
      "\n",
      "[5 rows x 26 columns]\n"
     ]
    }
   ],
   "source": [
    "# find day of week (0-6, Mon-Sun)\n",
    "totalData['weekday'] = totalData['timestamp'].dt.weekday\n",
    "totalData['month'] = totalData['timestamp'].dt.month\n",
    "totalData['hour'] = totalData['timestamp'].dt.hour\n",
    "totalData['min'] = totalData['timestamp'].dt.minute\n",
    "\n",
    "\n",
    "print(totalData.shape)\n",
    "print(totalData.head(5))"
   ]
  },
  {
   "cell_type": "code",
   "execution_count": 97,
   "metadata": {
    "collapsed": false
   },
   "outputs": [],
   "source": [
    "heartrate = totalData.iloc[:, 1].values.reshape(totalData.shape[0], 1)\n",
    "steps = totalData.iloc[:, 2].values.reshape(totalData.shape[0], 1)\n",
    "calories = totalData.iloc[:, 3].values.reshape(totalData.shape[0], 1)\n",
    "gsr = totalData.iloc[:, 4].values.reshape(totalData.shape[0], 1)\n",
    "skintemp = totalData.iloc[:, 5].values.reshape(totalData.shape[0], 1)\n",
    "airtemp = totalData.iloc[:, 6].values.reshape(totalData.shape[0], 1)\n",
    "# activity = totalData.iloc[:, 17].values.reshape(totalData.shape[0], 1)\n",
    "# exercise = totalData.iloc[:, 17].values.reshape(totalData.shape[0], 1)\n",
    "# thesis = totalData.iloc[:, 18].values.reshape(totalData.shape[0], 1)\n",
    "# sally = totalData.iloc[:, 19].values.reshape(totalData.shape[0], 1)\n",
    "# barb = totalData.iloc[:, 20].values.reshape(totalData.shape[0], 1)\n",
    "# sol = totalData.iloc[:, 21].values.reshape(totalData.shape[0], 1)\n",
    "# arash = totalData.iloc[:, 22].values.reshape(totalData.shape[0], 1)\n",
    "# work = totalData.iloc[:, 23].values.reshape(totalData.shape[0], 1)\n",
    "# home = totalData.iloc[:, 24].values.reshape(totalData.shape[0], 1)\n",
    "# DayOfWeek = totalData.iloc[:, 25].values.reshape(totalData.shape[0], 1)\n",
    "# Month = totalData.iloc[:, 26].values.reshape(totalData.shape[0], 1)\n",
    "weekday = totalData.iloc[:, 7].values.reshape(totalData.shape[0], 1)\n",
    "# month = totalData.iloc[:, 29].values.reshape(totalData.shape[0], 1)\n",
    "hour = totalData.iloc[:, 8].values.reshape(totalData.shape[0], 1)\n",
    "curmin = totalData.iloc[:, 9].values.reshape(totalData.shape[0], 1)"
   ]
  },
  {
   "cell_type": "code",
   "execution_count": 98,
   "metadata": {
    "collapsed": false
   },
   "outputs": [
    {
     "data": {
      "text/plain": [
       "(10055, 9)"
      ]
     },
     "execution_count": 98,
     "metadata": {},
     "output_type": "execute_result"
    }
   ],
   "source": [
    "# concatenate to numpy dataset\n",
    "X = np.concatenate((\n",
    "        heartrate, \n",
    "        steps, \n",
    "        calories, \n",
    "        gsr, \n",
    "        skintemp, \n",
    "        airtemp, \n",
    "#         exercise, \n",
    "#         thesis, \n",
    "#         sally, \n",
    "#         barb, \n",
    "#         sol, \n",
    "#         arash, \n",
    "#         work, \n",
    "#         home, \n",
    "        weekday, \n",
    "        hour, \n",
    "        curmin\n",
    "    ), axis=1)\n",
    "\n",
    "X.shape"
   ]
  },
  {
   "cell_type": "markdown",
   "metadata": {},
   "source": [
    "# Positive ( Excited, Happy, Calm)"
   ]
  },
  {
   "cell_type": "code",
   "execution_count": 99,
   "metadata": {
    "collapsed": false
   },
   "outputs": [
    {
     "data": {
      "text/plain": [
       "(10055,)"
      ]
     },
     "execution_count": 99,
     "metadata": {},
     "output_type": "execute_result"
    }
   ],
   "source": [
    "# define y\n",
    "\n",
    "\n",
    "y = totalData.exhaca.values\n",
    "\n",
    "# y = totalData.excitement.values\n",
    "y.shape"
   ]
  },
  {
   "cell_type": "code",
   "execution_count": 100,
   "metadata": {
    "collapsed": false
   },
   "outputs": [],
   "source": [
    "# create training and test sets\n",
    "from sklearn.cross_validation import train_test_split\n",
    "\n",
    "X_train, X_test, y_train, y_test = train_test_split(\n",
    "         X, y, test_size=0.3, random_state=0)"
   ]
  },
  {
   "cell_type": "code",
   "execution_count": 101,
   "metadata": {
    "collapsed": false
   },
   "outputs": [],
   "source": [
    "# feature scaling\n",
    "from sklearn.preprocessing import StandardScaler\n",
    "sc = StandardScaler(with_mean=False)\n",
    "sc.fit(X_train)\n",
    "X_train_std = sc.transform(X_train)\n",
    "X_test_std = sc.transform(X_test)"
   ]
  },
  {
   "cell_type": "code",
   "execution_count": 102,
   "metadata": {
    "collapsed": true
   },
   "outputs": [],
   "source": [
    "# report on training and test sets\n",
    "global SVMerror, SVMacc, SVMtp, SVMtn, LRerror, LRacc, LRtp, LRtn, NBerror, NBacc, NBtp, NBtn, Perror, Pacc, Ptp, Ptn\n",
    "\n",
    "\n",
    "\n",
    "def print_results(model):\n",
    "    #print('Error rate on training set: ')\n",
    "    erTRAIN = ((y_train != y_pred).sum() / X_train.shape[0])\n",
    "    #print('Accuracy rate on training set: ')\n",
    "    AccTRAIN = (1 - (y_train != y_pred).sum() / X_train.shape[0])\n",
    "    #print('True positive rate on training tet:')\n",
    "    TruPosTRAIN = ((y_train==True) & (y_pred==True)).sum() / y_train.sum()\n",
    "    #TruNegTEST = (((y_train==False) & (y_pred_train==False)).sum() / (y_train.shape[0] - y_train.sum()))\n",
    "    #print('**************')\n",
    "    #('Error rate on test set: ')\n",
    "    erTEST = ((y_test != y_pred_test).sum() / X_test.shape[0])\n",
    "    #print('Accuracy rate on test set: ')\n",
    "    AccTEST = (1 - (y_test != y_pred_test).sum() / X_test.shape[0])\n",
    "    #print('True positive rate on test set')\n",
    "    TruPosTEST = (((y_test==True) & (y_pred_test==True)).sum() / y_test.sum())\n",
    "    #print('True negative rate on test set')\n",
    "    TruNegTEST = (((y_test==False) & (y_pred_test==False)).sum() / (y_test.shape[0] - y_test.sum()))\n",
    "    data_rows = [('Error Rate', erTRAIN, erTEST),\n",
    "                 ('Accuracy Rate', AccTRAIN, AccTEST),\n",
    "                 ('True Positives', TruPosTRAIN, TruPosTEST),\n",
    "                 ('True Negatives', '--', TruNegTEST)]\n",
    "    t = Table(rows=data_rows, names=(model, 'Training Set', 'Test Set'), meta={'name': model + ': Training and Test Set Results'})\n",
    "    print(t)\n",
    "    if model == 'SVM':\n",
    "        SVMerror = erTEST\n",
    "        SVMacc = AccTEST\n",
    "        SVMtp = TruPosTEST\n",
    "        SVMtn = TruNegTEST\n",
    "        return(SVMerror, SVMacc, SVMtp, SVMtn)\n",
    "    elif model == 'Logistic Regression':\n",
    "        LRerror = erTEST\n",
    "        LRacc = AccTEST\n",
    "        LRtp = TruPosTEST\n",
    "        LRtn = TruNegTEST\n",
    "        return(LRerror, LRacc, LRtp, LRtn)\n",
    "    elif model == 'Naive Bayes':\n",
    "        NBerror = erTEST\n",
    "        NBacc = AccTEST\n",
    "        NBtp = TruPosTEST\n",
    "        NBtn = TruNegTEST\n",
    "        return(NBerror, NBacc, NBtp, NBtn)\n",
    "    elif model == 'Perceptron':\n",
    "        Perror = erTEST\n",
    "        Pacc = AccTEST\n",
    "        Ptp = TruPosTEST\n",
    "        Ptn = TruNegTEST\n",
    "        return(Perror, Pacc, Ptp, Ptn)\n",
    "    print('done')\n",
    "      \n",
    "    #t.show_in_browser(jsviewer=True) \n",
    "    \n",
    "    \n",
    "def all_models_table():\n",
    "    all_rows = [('SVM', SVMerror, SVMacc, SVMtp, SVMtn),\n",
    "            ('Logistic Regression', LRerror, LRacc, LRtp, LRtn),\n",
    "            ('Naive Bayes', NBerror, NBacc, NBtp, NBtn),\n",
    "            ('Perceptron', Perror, Pacc, Ptp, Ptn)]\n",
    "    tt = Table(rows=all_rows, names=('', 'Error Rate', 'Accuracy', 'True +', 'True -'), meta={'3/15/2016'})\n",
    "    print(tt)"
   ]
  },
  {
   "cell_type": "markdown",
   "metadata": {},
   "source": [
    "## Positive ( Excited, Happy, Calm) Model Results"
   ]
  },
  {
   "cell_type": "code",
   "execution_count": 103,
   "metadata": {
    "collapsed": false
   },
   "outputs": [
    {
     "name": "stdout",
     "output_type": "stream",
     "text": [
      "     SVM         Training Set       Test Set    \n",
      "-------------- ---------------- ----------------\n",
      "    Error Rate 0.00312588803637 0.00165727543918\n",
      " Accuracy Rate   0.996874111964   0.998342724561\n",
      "True Positives              1.0              1.0\n",
      "True Negatives               --   0.998185117967\n"
     ]
    },
    {
     "data": {
      "text/plain": [
       "(0.0016572754391779914, 0.99834272456082196, 1.0, 0.99818511796733211)"
      ]
     },
     "execution_count": 103,
     "metadata": {},
     "output_type": "execute_result"
    }
   ],
   "source": [
    "# MODEL: SVM, linear\n",
    "from sklearn import linear_model\n",
    "clf = linear_model.SGDClassifier()\n",
    "clf.fit(X_train_std, y_train)\n",
    "y_pred = clf.fit(X_train_std, y_train).predict(X_train_std)\n",
    "y_pred_test = clf.predict(X_test_std)\n",
    "print_results('SVM')"
   ]
  },
  {
   "cell_type": "code",
   "execution_count": 104,
   "metadata": {
    "collapsed": false
   },
   "outputs": [
    {
     "name": "stdout",
     "output_type": "stream",
     "text": [
      "Logistic Regression   Training Set       Test Set    \n",
      "------------------- ---------------- ----------------\n",
      "         Error Rate 0.00312588803637 0.00165727543918\n",
      "      Accuracy Rate   0.996874111964   0.998342724561\n",
      "     True Positives              1.0              1.0\n",
      "     True Negatives               --   0.998185117967\n"
     ]
    },
    {
     "data": {
      "text/plain": [
       "(0.0016572754391779914, 0.99834272456082196, 1.0, 0.99818511796733211)"
      ]
     },
     "execution_count": 104,
     "metadata": {},
     "output_type": "execute_result"
    }
   ],
   "source": [
    "# MODEL: logistic regression\n",
    "from sklearn import linear_model\n",
    "clf = linear_model.SGDClassifier(loss='log', n_iter=50, alpha=0.00001)\n",
    "clf.fit(X_train_std, y_train)\n",
    "y_pred = clf.fit(X_train_std, y_train).predict(X_train_std)\n",
    "y_pred_test = clf.predict(X_test_std)\n",
    "print_results('Logistic Regression')"
   ]
  },
  {
   "cell_type": "code",
   "execution_count": 105,
   "metadata": {
    "collapsed": false
   },
   "outputs": [
    {
     "name": "stdout",
     "output_type": "stream",
     "text": [
      " Naive Bayes     Training Set       Test Set    \n",
      "-------------- ---------------- ----------------\n",
      "    Error Rate 0.00326797385621 0.00165727543918\n",
      " Accuracy Rate   0.996732026144   0.998342724561\n",
      "True Positives              1.0              1.0\n",
      "True Negatives               --   0.998185117967\n"
     ]
    },
    {
     "data": {
      "text/plain": [
       "(0.0016572754391779914, 0.99834272456082196, 1.0, 0.99818511796733211)"
      ]
     },
     "execution_count": 105,
     "metadata": {},
     "output_type": "execute_result"
    }
   ],
   "source": [
    "# MODEL: Naive Bayes\n",
    "from sklearn.naive_bayes import MultinomialNB\n",
    "clf = MultinomialNB()\n",
    "clf.fit(X_train_std, y_train)\n",
    "y_pred = clf.fit(X_train_std, y_train).predict(X_train_std)\n",
    "y_pred_test = clf.predict(X_test_std)\n",
    "print_results('Naive Bayes')"
   ]
  },
  {
   "cell_type": "code",
   "execution_count": 106,
   "metadata": {
    "collapsed": false
   },
   "outputs": [
    {
     "name": "stdout",
     "output_type": "stream",
     "text": [
      "  Perceptron     Training Set       Test Set    \n",
      "-------------- ---------------- ----------------\n",
      "    Error Rate 0.00312588803637 0.00165727543918\n",
      " Accuracy Rate   0.996874111964   0.998342724561\n",
      "True Positives              1.0              1.0\n",
      "True Negatives               --   0.998185117967\n"
     ]
    },
    {
     "data": {
      "text/plain": [
       "(0.0016572754391779914, 0.99834272456082196, 1.0, 0.99818511796733211)"
      ]
     },
     "execution_count": 106,
     "metadata": {},
     "output_type": "execute_result"
    }
   ],
   "source": [
    "# Perceptron\n",
    "from sklearn import linear_model\n",
    "clf = linear_model.SGDClassifier(loss='perceptron')\n",
    "clf.fit(X_train_std, y_train)\n",
    "y_pred = clf.fit(X_train_std, y_train).predict(X_train_std)\n",
    "y_pred_test = clf.predict(X_test_std)\n",
    "print_results('Perceptron')"
   ]
  },
  {
   "cell_type": "markdown",
   "metadata": {},
   "source": [
    "# Negative ( Anxious, Sad, Angry)"
   ]
  },
  {
   "cell_type": "code",
   "execution_count": 107,
   "metadata": {
    "collapsed": false
   },
   "outputs": [
    {
     "data": {
      "text/plain": [
       "(10055,)"
      ]
     },
     "execution_count": 107,
     "metadata": {},
     "output_type": "execute_result"
    }
   ],
   "source": [
    "# define y\n",
    "y = totalData.ansaan.values\n",
    "y.shape"
   ]
  },
  {
   "cell_type": "code",
   "execution_count": 108,
   "metadata": {
    "collapsed": true
   },
   "outputs": [],
   "source": [
    "# create training and test sets\n",
    "from sklearn.cross_validation import train_test_split\n",
    "\n",
    "X_train, X_test, y_train, y_test = train_test_split(\n",
    "         X, y, test_size=0.3, random_state=0)"
   ]
  },
  {
   "cell_type": "code",
   "execution_count": 109,
   "metadata": {
    "collapsed": true
   },
   "outputs": [],
   "source": [
    "# feature scaling\n",
    "from sklearn.preprocessing import StandardScaler\n",
    "sc = StandardScaler(with_mean=False)\n",
    "sc.fit(X_train)\n",
    "X_train_std = sc.transform(X_train)\n",
    "X_test_std = sc.transform(X_test)"
   ]
  },
  {
   "cell_type": "markdown",
   "metadata": {},
   "source": [
    "## Negative ( Anxious, Sad, Angry) Model Results"
   ]
  },
  {
   "cell_type": "code",
   "execution_count": 110,
   "metadata": {
    "collapsed": false
   },
   "outputs": [
    {
     "name": "stdout",
     "output_type": "stream",
     "text": [
      "     SVM          Training Set   Test Set\n",
      "-------------- ----------------- --------\n",
      "    Error Rate 0.000142085819835      0.0\n",
      " Accuracy Rate     0.99985791418      1.0\n",
      "True Positives               0.0      nan\n",
      "True Negatives                --      1.0\n"
     ]
    },
    {
     "data": {
      "text/plain": [
       "(0.0, 1.0, nan, 1.0)"
      ]
     },
     "execution_count": 110,
     "metadata": {},
     "output_type": "execute_result"
    }
   ],
   "source": [
    "# MODEL: SVM, linear\n",
    "from sklearn import linear_model\n",
    "clf = linear_model.SGDClassifier()\n",
    "clf.fit(X_train_std, y_train)\n",
    "y_pred = clf.fit(X_train_std, y_train).predict(X_train_std)\n",
    "y_pred_test = clf.predict(X_test_std)\n",
    "print_results('SVM')"
   ]
  },
  {
   "cell_type": "code",
   "execution_count": 111,
   "metadata": {
    "collapsed": false
   },
   "outputs": [
    {
     "name": "stdout",
     "output_type": "stream",
     "text": [
      "Logistic Regression    Training Set   Test Set\n",
      "------------------- ----------------- --------\n",
      "         Error Rate 0.000142085819835      0.0\n",
      "      Accuracy Rate     0.99985791418      1.0\n",
      "     True Positives               0.0      nan\n",
      "     True Negatives                --      1.0\n"
     ]
    },
    {
     "data": {
      "text/plain": [
       "(0.0, 1.0, nan, 1.0)"
      ]
     },
     "execution_count": 111,
     "metadata": {},
     "output_type": "execute_result"
    }
   ],
   "source": [
    "# MODEL: logistic regression\n",
    "from sklearn import linear_model\n",
    "clf = linear_model.SGDClassifier(loss='log', n_iter=50, alpha=0.00001)\n",
    "clf.fit(X_train_std, y_train)\n",
    "y_pred = clf.fit(X_train_std, y_train).predict(X_train_std)\n",
    "y_pred_test = clf.predict(X_test_std)\n",
    "print_results('Logistic Regression')"
   ]
  },
  {
   "cell_type": "code",
   "execution_count": 112,
   "metadata": {
    "collapsed": false
   },
   "outputs": [
    {
     "name": "stdout",
     "output_type": "stream",
     "text": [
      " Naive Bayes     Training Set       Test Set    \n",
      "-------------- ---------------- ----------------\n",
      "    Error Rate 0.00440466041489 0.00397746105403\n",
      " Accuracy Rate   0.995595339585   0.996022538946\n",
      "True Positives              0.0              nan\n",
      "True Negatives               --   0.996022538946\n"
     ]
    },
    {
     "data": {
      "text/plain": [
       "(0.0039774610540271793, 0.99602253894597281, nan, 0.99602253894597281)"
      ]
     },
     "execution_count": 112,
     "metadata": {},
     "output_type": "execute_result"
    }
   ],
   "source": [
    "# MODEL: Naive Bayes\n",
    "from sklearn.naive_bayes import MultinomialNB\n",
    "clf = MultinomialNB()\n",
    "clf.fit(X_train_std, y_train)\n",
    "y_pred = clf.fit(X_train_std, y_train).predict(X_train_std)\n",
    "y_pred_test = clf.predict(X_test_std)\n",
    "print_results('Naive Bayes')"
   ]
  },
  {
   "cell_type": "code",
   "execution_count": 113,
   "metadata": {
    "collapsed": false
   },
   "outputs": [
    {
     "name": "stdout",
     "output_type": "stream",
     "text": [
      "  Perceptron     Training Set      Test Set   \n",
      "-------------- --------------- ---------------\n",
      "    Error Rate 0.0791418016482 0.0868412330129\n",
      " Accuracy Rate  0.920858198352  0.913158766987\n",
      "True Positives             1.0             nan\n",
      "True Negatives              --  0.913158766987\n"
     ]
    },
    {
     "data": {
      "text/plain": [
       "(0.086841233012926747, 0.91315876698707321, nan, 0.91315876698707321)"
      ]
     },
     "execution_count": 113,
     "metadata": {},
     "output_type": "execute_result"
    }
   ],
   "source": [
    "# Perceptron\n",
    "from sklearn import linear_model\n",
    "clf = linear_model.SGDClassifier(loss='perceptron')\n",
    "clf.fit(X_train_std, y_train)\n",
    "y_pred = clf.fit(X_train_std, y_train).predict(X_train_std)\n",
    "y_pred_test = clf.predict(X_test_std)\n",
    "print_results('Perceptron')"
   ]
  },
  {
   "cell_type": "markdown",
   "metadata": {},
   "source": [
    "# Happy/Calm "
   ]
  },
  {
   "cell_type": "code",
   "execution_count": 114,
   "metadata": {
    "collapsed": false
   },
   "outputs": [
    {
     "data": {
      "text/plain": [
       "(10055,)"
      ]
     },
     "execution_count": 114,
     "metadata": {},
     "output_type": "execute_result"
    }
   ],
   "source": [
    "# define y\n",
    "y = totalData.haca.values\n",
    "y.shape"
   ]
  },
  {
   "cell_type": "code",
   "execution_count": 115,
   "metadata": {
    "collapsed": true
   },
   "outputs": [],
   "source": [
    "# create training and test sets\n",
    "from sklearn.cross_validation import train_test_split\n",
    "\n",
    "X_train, X_test, y_train, y_test = train_test_split(\n",
    "         X, y, test_size=0.3, random_state=0)"
   ]
  },
  {
   "cell_type": "code",
   "execution_count": 116,
   "metadata": {
    "collapsed": true
   },
   "outputs": [],
   "source": [
    "# feature scaling\n",
    "from sklearn.preprocessing import StandardScaler\n",
    "sc = StandardScaler(with_mean=False)\n",
    "sc.fit(X_train)\n",
    "X_train_std = sc.transform(X_train)\n",
    "X_test_std = sc.transform(X_test)"
   ]
  },
  {
   "cell_type": "markdown",
   "metadata": {},
   "source": [
    "## Happy/Calm  Model Results"
   ]
  },
  {
   "cell_type": "code",
   "execution_count": 117,
   "metadata": {
    "collapsed": false
   },
   "outputs": [
    {
     "name": "stdout",
     "output_type": "stream",
     "text": [
      "     SVM         Training Set      Test Set   \n",
      "-------------- --------------- ---------------\n",
      "    Error Rate 0.0390736004547 0.0417633410673\n",
      " Accuracy Rate  0.960926399545  0.958236658933\n",
      "True Positives  0.718336483932  0.744588744589\n",
      "True Negatives              --  0.975951184494\n"
     ]
    },
    {
     "data": {
      "text/plain": [
       "(0.041763341067285381,\n",
       " 0.95823665893271459,\n",
       " 0.74458874458874458,\n",
       " 0.97595118449389806)"
      ]
     },
     "execution_count": 117,
     "metadata": {},
     "output_type": "execute_result"
    }
   ],
   "source": [
    "# MODEL: SVM, linear\n",
    "from sklearn import linear_model\n",
    "clf = linear_model.SGDClassifier()\n",
    "clf.fit(X_train_std, y_train)\n",
    "y_pred = clf.fit(X_train_std, y_train).predict(X_train_std)\n",
    "y_pred_test = clf.predict(X_test_std)\n",
    "print_results('SVM')"
   ]
  },
  {
   "cell_type": "code",
   "execution_count": 118,
   "metadata": {
    "collapsed": false
   },
   "outputs": [
    {
     "name": "stdout",
     "output_type": "stream",
     "text": [
      "Logistic Regression   Training Set      Test Set   \n",
      "------------------- --------------- ---------------\n",
      "         Error Rate 0.0439045183291 0.0467351673848\n",
      "      Accuracy Rate  0.956095481671  0.953264832615\n",
      "     True Positives  0.901701323251  0.878787878788\n",
      "     True Negatives              --   0.95944005743\n"
     ]
    },
    {
     "data": {
      "text/plain": [
       "(0.046735167384819358,\n",
       " 0.95326483261518069,\n",
       " 0.87878787878787878,\n",
       " 0.95944005743000715)"
      ]
     },
     "execution_count": 118,
     "metadata": {},
     "output_type": "execute_result"
    }
   ],
   "source": [
    "# MODEL: logistic regression\n",
    "from sklearn import linear_model\n",
    "clf = linear_model.SGDClassifier(loss='log', n_iter=50, alpha=0.00001)\n",
    "clf.fit(X_train_std, y_train)\n",
    "y_pred = clf.fit(X_train_std, y_train).predict(X_train_std)\n",
    "y_pred_test = clf.predict(X_test_std)\n",
    "print_results('Logistic Regression')"
   ]
  },
  {
   "cell_type": "code",
   "execution_count": 119,
   "metadata": {
    "collapsed": false
   },
   "outputs": [
    {
     "name": "stdout",
     "output_type": "stream",
     "text": [
      " Naive Bayes     Training Set      Test Set   \n",
      "-------------- --------------- ---------------\n",
      "    Error Rate 0.0439045183291 0.0507126284388\n",
      " Accuracy Rate  0.956095481671  0.949287371561\n",
      "True Positives  0.913043478261  0.883116883117\n",
      "True Negatives              --  0.954773869347\n"
     ]
    },
    {
     "data": {
      "text/plain": [
       "(0.050712628438846538,\n",
       " 0.9492873715611535,\n",
       " 0.88311688311688308,\n",
       " 0.95477386934673369)"
      ]
     },
     "execution_count": 119,
     "metadata": {},
     "output_type": "execute_result"
    }
   ],
   "source": [
    "# MODEL: Naive Bayes\n",
    "from sklearn.naive_bayes import MultinomialNB\n",
    "clf = MultinomialNB()\n",
    "clf.fit(X_train_std, y_train)\n",
    "y_pred = clf.fit(X_train_std, y_train).predict(X_train_std)\n",
    "y_pred_test = clf.predict(X_test_std)\n",
    "print_results('Naive Bayes')"
   ]
  },
  {
   "cell_type": "code",
   "execution_count": 120,
   "metadata": {
    "collapsed": false
   },
   "outputs": [
    {
     "name": "stdout",
     "output_type": "stream",
     "text": [
      "  Perceptron     Training Set       Test Set   \n",
      "-------------- ---------------- ---------------\n",
      "    Error Rate  0.0747371412333 0.0772290354657\n",
      " Accuracy Rate   0.925262858767  0.922770964534\n",
      "True Positives 0.00567107750473             0.0\n",
      "True Negatives               --   0.99928212491\n"
     ]
    },
    {
     "data": {
      "text/plain": [
       "(0.077229035465694401, 0.92277096453430563, 0.0, 0.99928212491026558)"
      ]
     },
     "execution_count": 120,
     "metadata": {},
     "output_type": "execute_result"
    }
   ],
   "source": [
    "# Perceptron\n",
    "from sklearn import linear_model\n",
    "clf = linear_model.SGDClassifier(loss='perceptron')\n",
    "clf.fit(X_train_std, y_train)\n",
    "y_pred = clf.fit(X_train_std, y_train).predict(X_train_std)\n",
    "y_pred_test = clf.predict(X_test_std)\n",
    "print_results('Perceptron')"
   ]
  },
  {
   "cell_type": "markdown",
   "metadata": {},
   "source": [
    "# Anxious/Angry"
   ]
  },
  {
   "cell_type": "code",
   "execution_count": 121,
   "metadata": {
    "collapsed": false
   },
   "outputs": [
    {
     "data": {
      "text/plain": [
       "(10055,)"
      ]
     },
     "execution_count": 121,
     "metadata": {},
     "output_type": "execute_result"
    }
   ],
   "source": [
    "# define y\n",
    "y = totalData.anan.values\n",
    "y.shape"
   ]
  },
  {
   "cell_type": "code",
   "execution_count": 122,
   "metadata": {
    "collapsed": true
   },
   "outputs": [],
   "source": [
    "# create training and test sets\n",
    "from sklearn.cross_validation import train_test_split\n",
    "\n",
    "X_train, X_test, y_train, y_test = train_test_split(\n",
    "         X, y, test_size=0.3, random_state=0)"
   ]
  },
  {
   "cell_type": "code",
   "execution_count": 123,
   "metadata": {
    "collapsed": true
   },
   "outputs": [],
   "source": [
    "# feature scaling\n",
    "from sklearn.preprocessing import StandardScaler\n",
    "sc = StandardScaler(with_mean=False)\n",
    "sc.fit(X_train)\n",
    "X_train_std = sc.transform(X_train)\n",
    "X_test_std = sc.transform(X_test)"
   ]
  },
  {
   "cell_type": "markdown",
   "metadata": {},
   "source": [
    "## Anxious/Angry Model Results"
   ]
  },
  {
   "cell_type": "code",
   "execution_count": 124,
   "metadata": {
    "collapsed": false
   },
   "outputs": [
    {
     "name": "stdout",
     "output_type": "stream",
     "text": [
      "     SVM          Training Set   Test Set\n",
      "-------------- ----------------- --------\n",
      "    Error Rate 0.000142085819835      0.0\n",
      " Accuracy Rate     0.99985791418      1.0\n",
      "True Positives               0.0      nan\n",
      "True Negatives                --      1.0\n"
     ]
    },
    {
     "data": {
      "text/plain": [
       "(0.0, 1.0, nan, 1.0)"
      ]
     },
     "execution_count": 124,
     "metadata": {},
     "output_type": "execute_result"
    }
   ],
   "source": [
    "# MODEL: SVM, linear\n",
    "from sklearn import linear_model\n",
    "clf = linear_model.SGDClassifier()\n",
    "clf.fit(X_train_std, y_train)\n",
    "y_pred = clf.fit(X_train_std, y_train).predict(X_train_std)\n",
    "y_pred_test = clf.predict(X_test_std)\n",
    "print_results('SVM')"
   ]
  },
  {
   "cell_type": "code",
   "execution_count": 125,
   "metadata": {
    "collapsed": false
   },
   "outputs": [
    {
     "name": "stdout",
     "output_type": "stream",
     "text": [
      "Logistic Regression    Training Set   Test Set\n",
      "------------------- ----------------- --------\n",
      "         Error Rate 0.000142085819835      0.0\n",
      "      Accuracy Rate     0.99985791418      1.0\n",
      "     True Positives               0.0      nan\n",
      "     True Negatives                --      1.0\n"
     ]
    },
    {
     "data": {
      "text/plain": [
       "(0.0, 1.0, nan, 1.0)"
      ]
     },
     "execution_count": 125,
     "metadata": {},
     "output_type": "execute_result"
    }
   ],
   "source": [
    "# MODEL: logistic regression\n",
    "from sklearn import linear_model\n",
    "clf = linear_model.SGDClassifier(loss='log', n_iter=50, alpha=0.00001)\n",
    "clf.fit(X_train_std, y_train)\n",
    "y_pred = clf.fit(X_train_std, y_train).predict(X_train_std)\n",
    "y_pred_test = clf.predict(X_test_std)\n",
    "print_results('Logistic Regression')"
   ]
  },
  {
   "cell_type": "code",
   "execution_count": 126,
   "metadata": {
    "collapsed": false
   },
   "outputs": [
    {
     "name": "stdout",
     "output_type": "stream",
     "text": [
      " Naive Bayes     Training Set       Test Set    \n",
      "-------------- ---------------- ----------------\n",
      "    Error Rate 0.00440466041489 0.00397746105403\n",
      " Accuracy Rate   0.995595339585   0.996022538946\n",
      "True Positives              0.0              nan\n",
      "True Negatives               --   0.996022538946\n"
     ]
    },
    {
     "data": {
      "text/plain": [
       "(0.0039774610540271793, 0.99602253894597281, nan, 0.99602253894597281)"
      ]
     },
     "execution_count": 126,
     "metadata": {},
     "output_type": "execute_result"
    }
   ],
   "source": [
    "# MODEL: Naive Bayes\n",
    "from sklearn.naive_bayes import MultinomialNB\n",
    "clf = MultinomialNB()\n",
    "clf.fit(X_train_std, y_train)\n",
    "y_pred = clf.fit(X_train_std, y_train).predict(X_train_std)\n",
    "y_pred_test = clf.predict(X_test_std)\n",
    "print_results('Naive Bayes')"
   ]
  },
  {
   "cell_type": "code",
   "execution_count": 127,
   "metadata": {
    "collapsed": false
   },
   "outputs": [
    {
     "name": "stdout",
     "output_type": "stream",
     "text": [
      "  Perceptron      Training Set   Test Set\n",
      "-------------- ----------------- --------\n",
      "    Error Rate 0.000142085819835      0.0\n",
      " Accuracy Rate     0.99985791418      1.0\n",
      "True Positives               0.0      nan\n",
      "True Negatives                --      1.0\n"
     ]
    },
    {
     "data": {
      "text/plain": [
       "(0.0, 1.0, nan, 1.0)"
      ]
     },
     "execution_count": 127,
     "metadata": {},
     "output_type": "execute_result"
    }
   ],
   "source": [
    "# Perceptron\n",
    "from sklearn import linear_model\n",
    "clf = linear_model.SGDClassifier(loss='perceptron')\n",
    "clf.fit(X_train_std, y_train)\n",
    "y_pred = clf.fit(X_train_std, y_train).predict(X_train_std)\n",
    "y_pred_test = clf.predict(X_test_std)\n",
    "print_results('Perceptron')"
   ]
  },
  {
   "cell_type": "markdown",
   "metadata": {},
   "source": [
    "# Excited/Happy"
   ]
  },
  {
   "cell_type": "code",
   "execution_count": 128,
   "metadata": {
    "collapsed": false
   },
   "outputs": [
    {
     "data": {
      "text/plain": [
       "(10055,)"
      ]
     },
     "execution_count": 128,
     "metadata": {},
     "output_type": "execute_result"
    }
   ],
   "source": [
    "# define y\n",
    "y = totalData.exha.values\n",
    "y.shape"
   ]
  },
  {
   "cell_type": "code",
   "execution_count": 129,
   "metadata": {
    "collapsed": true
   },
   "outputs": [],
   "source": [
    "# create training and test sets\n",
    "from sklearn.cross_validation import train_test_split\n",
    "\n",
    "X_train, X_test, y_train, y_test = train_test_split(\n",
    "         X, y, test_size=0.3, random_state=0)"
   ]
  },
  {
   "cell_type": "code",
   "execution_count": 130,
   "metadata": {
    "collapsed": true
   },
   "outputs": [],
   "source": [
    "# feature scaling\n",
    "from sklearn.preprocessing import StandardScaler\n",
    "sc = StandardScaler(with_mean=False)\n",
    "sc.fit(X_train)\n",
    "X_train_std = sc.transform(X_train)\n",
    "X_test_std = sc.transform(X_test)"
   ]
  },
  {
   "cell_type": "markdown",
   "metadata": {},
   "source": [
    "## Excited/Happy Model Values"
   ]
  },
  {
   "cell_type": "code",
   "execution_count": 131,
   "metadata": {
    "collapsed": false
   },
   "outputs": [
    {
     "name": "stdout",
     "output_type": "stream",
     "text": [
      "     SVM         Training Set       Test Set    \n",
      "-------------- ---------------- ----------------\n",
      "    Error Rate 0.00497300369423 0.00629764666888\n",
      " Accuracy Rate   0.995026996306   0.993702353331\n",
      "True Positives              0.0              0.0\n",
      "True Negatives               --              1.0\n"
     ]
    },
    {
     "data": {
      "text/plain": [
       "(0.0062976466688763671, 0.99370235333112367, 0.0, 1.0)"
      ]
     },
     "execution_count": 131,
     "metadata": {},
     "output_type": "execute_result"
    }
   ],
   "source": [
    "# MODEL: SVM, linear\n",
    "from sklearn import linear_model\n",
    "clf = linear_model.SGDClassifier()\n",
    "clf.fit(X_train_std, y_train)\n",
    "y_pred = clf.fit(X_train_std, y_train).predict(X_train_std)\n",
    "y_pred_test = clf.predict(X_test_std)\n",
    "print_results('SVM')"
   ]
  },
  {
   "cell_type": "code",
   "execution_count": 132,
   "metadata": {
    "collapsed": false
   },
   "outputs": [
    {
     "name": "stdout",
     "output_type": "stream",
     "text": [
      "Logistic Regression   Training Set       Test Set    \n",
      "------------------- ---------------- ----------------\n",
      "         Error Rate 0.00497300369423 0.00629764666888\n",
      "      Accuracy Rate   0.995026996306   0.993702353331\n",
      "     True Positives              0.0              0.0\n",
      "     True Negatives               --              1.0\n"
     ]
    },
    {
     "data": {
      "text/plain": [
       "(0.0062976466688763671, 0.99370235333112367, 0.0, 1.0)"
      ]
     },
     "execution_count": 132,
     "metadata": {},
     "output_type": "execute_result"
    }
   ],
   "source": [
    "# MODEL: logistic regression\n",
    "from sklearn import linear_model\n",
    "clf = linear_model.SGDClassifier(loss='log', n_iter=50, alpha=0.00001)\n",
    "clf.fit(X_train_std, y_train)\n",
    "y_pred = clf.fit(X_train_std, y_train).predict(X_train_std)\n",
    "y_pred_test = clf.predict(X_test_std)\n",
    "print_results('Logistic Regression')"
   ]
  },
  {
   "cell_type": "code",
   "execution_count": 133,
   "metadata": {
    "collapsed": false
   },
   "outputs": [
    {
     "name": "stdout",
     "output_type": "stream",
     "text": [
      " Naive Bayes     Training Set      Test Set   \n",
      "-------------- --------------- ---------------\n",
      "    Error Rate 0.0706166524581 0.0759032151144\n",
      " Accuracy Rate  0.929383347542  0.924096784886\n",
      "True Positives  0.971428571429  0.947368421053\n",
      "True Negatives              --  0.923949299533\n"
     ]
    },
    {
     "data": {
      "text/plain": [
       "(0.07590321511435201,\n",
       " 0.92409678488564795,\n",
       " 0.94736842105263153,\n",
       " 0.92394929953302196)"
      ]
     },
     "execution_count": 133,
     "metadata": {},
     "output_type": "execute_result"
    }
   ],
   "source": [
    "# MODEL: Naive Bayes\n",
    "from sklearn.naive_bayes import MultinomialNB\n",
    "clf = MultinomialNB()\n",
    "clf.fit(X_train_std, y_train)\n",
    "y_pred = clf.fit(X_train_std, y_train).predict(X_train_std)\n",
    "y_pred_test = clf.predict(X_test_std)\n",
    "print_results('Naive Bayes')"
   ]
  },
  {
   "cell_type": "code",
   "execution_count": 134,
   "metadata": {
    "collapsed": false
   },
   "outputs": [
    {
     "name": "stdout",
     "output_type": "stream",
     "text": [
      "  Perceptron     Training Set       Test Set    \n",
      "-------------- ---------------- ----------------\n",
      "    Error Rate 0.00596760443308 0.00795492210805\n",
      " Accuracy Rate   0.994032395567   0.992045077892\n",
      "True Positives              0.0              0.0\n",
      "True Negatives               --   0.998332221481\n"
     ]
    },
    {
     "data": {
      "text/plain": [
       "(0.0079549221080543586, 0.99204507789194563, 0.0, 0.99833222148098733)"
      ]
     },
     "execution_count": 134,
     "metadata": {},
     "output_type": "execute_result"
    }
   ],
   "source": [
    "# Perceptron\n",
    "from sklearn import linear_model\n",
    "clf = linear_model.SGDClassifier(loss='perceptron')\n",
    "clf.fit(X_train_std, y_train)\n",
    "y_pred = clf.fit(X_train_std, y_train).predict(X_train_std)\n",
    "y_pred_test = clf.predict(X_test_std)\n",
    "print_results('Perceptron')"
   ]
  },
  {
   "cell_type": "markdown",
   "metadata": {},
   "source": [
    "# Anxious/Sad"
   ]
  },
  {
   "cell_type": "code",
   "execution_count": 135,
   "metadata": {
    "collapsed": false
   },
   "outputs": [
    {
     "data": {
      "text/plain": [
       "(10055,)"
      ]
     },
     "execution_count": 135,
     "metadata": {},
     "output_type": "execute_result"
    }
   ],
   "source": [
    "# define y\n",
    "y = totalData.ansa.values\n",
    "y.shape"
   ]
  },
  {
   "cell_type": "code",
   "execution_count": 136,
   "metadata": {
    "collapsed": true
   },
   "outputs": [],
   "source": [
    "# create training and test sets\n",
    "from sklearn.cross_validation import train_test_split\n",
    "\n",
    "X_train, X_test, y_train, y_test = train_test_split(\n",
    "         X, y, test_size=0.3, random_state=0)"
   ]
  },
  {
   "cell_type": "code",
   "execution_count": 137,
   "metadata": {
    "collapsed": true
   },
   "outputs": [],
   "source": [
    "# feature scaling\n",
    "from sklearn.preprocessing import StandardScaler\n",
    "sc = StandardScaler(with_mean=False)\n",
    "sc.fit(X_train)\n",
    "X_train_std = sc.transform(X_train)\n",
    "X_test_std = sc.transform(X_test)"
   ]
  },
  {
   "cell_type": "markdown",
   "metadata": {},
   "source": [
    "## Anxious/Sad Model Results"
   ]
  },
  {
   "cell_type": "code",
   "execution_count": 138,
   "metadata": {
    "collapsed": false
   },
   "outputs": [
    {
     "name": "stdout",
     "output_type": "stream",
     "text": [
      "     SVM          Training Set   Test Set\n",
      "-------------- ----------------- --------\n",
      "    Error Rate 0.000142085819835      0.0\n",
      " Accuracy Rate     0.99985791418      1.0\n",
      "True Positives               0.0      nan\n",
      "True Negatives                --      1.0\n"
     ]
    },
    {
     "data": {
      "text/plain": [
       "(0.0, 1.0, nan, 1.0)"
      ]
     },
     "execution_count": 138,
     "metadata": {},
     "output_type": "execute_result"
    }
   ],
   "source": [
    "# MODEL: SVM, linear\n",
    "from sklearn import linear_model\n",
    "clf = linear_model.SGDClassifier()\n",
    "clf.fit(X_train_std, y_train)\n",
    "y_pred = clf.fit(X_train_std, y_train).predict(X_train_std)\n",
    "y_pred_test = clf.predict(X_test_std)\n",
    "print_results('SVM')"
   ]
  },
  {
   "cell_type": "code",
   "execution_count": 139,
   "metadata": {
    "collapsed": false
   },
   "outputs": [
    {
     "name": "stdout",
     "output_type": "stream",
     "text": [
      "Logistic Regression    Training Set   Test Set\n",
      "------------------- ----------------- --------\n",
      "         Error Rate 0.000142085819835      0.0\n",
      "      Accuracy Rate     0.99985791418      1.0\n",
      "     True Positives               0.0      nan\n",
      "     True Negatives                --      1.0\n"
     ]
    },
    {
     "data": {
      "text/plain": [
       "(0.0, 1.0, nan, 1.0)"
      ]
     },
     "execution_count": 139,
     "metadata": {},
     "output_type": "execute_result"
    }
   ],
   "source": [
    "# MODEL: logistic regression\n",
    "from sklearn import linear_model\n",
    "clf = linear_model.SGDClassifier(loss='log', n_iter=50, alpha=0.00001)\n",
    "clf.fit(X_train_std, y_train)\n",
    "y_pred = clf.fit(X_train_std, y_train).predict(X_train_std)\n",
    "y_pred_test = clf.predict(X_test_std)\n",
    "print_results('Logistic Regression')"
   ]
  },
  {
   "cell_type": "code",
   "execution_count": 140,
   "metadata": {
    "collapsed": false
   },
   "outputs": [
    {
     "name": "stdout",
     "output_type": "stream",
     "text": [
      " Naive Bayes     Training Set       Test Set    \n",
      "-------------- ---------------- ----------------\n",
      "    Error Rate 0.00440466041489 0.00397746105403\n",
      " Accuracy Rate   0.995595339585   0.996022538946\n",
      "True Positives              0.0              nan\n",
      "True Negatives               --   0.996022538946\n"
     ]
    },
    {
     "data": {
      "text/plain": [
       "(0.0039774610540271793, 0.99602253894597281, nan, 0.99602253894597281)"
      ]
     },
     "execution_count": 140,
     "metadata": {},
     "output_type": "execute_result"
    }
   ],
   "source": [
    "# MODEL: Naive Bayes\n",
    "from sklearn.naive_bayes import MultinomialNB\n",
    "clf = MultinomialNB()\n",
    "clf.fit(X_train_std, y_train)\n",
    "y_pred = clf.fit(X_train_std, y_train).predict(X_train_std)\n",
    "y_pred_test = clf.predict(X_test_std)\n",
    "print_results('Naive Bayes')"
   ]
  },
  {
   "cell_type": "code",
   "execution_count": 141,
   "metadata": {
    "collapsed": false
   },
   "outputs": [
    {
     "name": "stdout",
     "output_type": "stream",
     "text": [
      "  Perceptron      Training Set   Test Set\n",
      "-------------- ----------------- --------\n",
      "    Error Rate 0.000142085819835      0.0\n",
      " Accuracy Rate     0.99985791418      1.0\n",
      "True Positives               0.0      nan\n",
      "True Negatives                --      1.0\n"
     ]
    },
    {
     "data": {
      "text/plain": [
       "(0.0, 1.0, nan, 1.0)"
      ]
     },
     "execution_count": 141,
     "metadata": {},
     "output_type": "execute_result"
    }
   ],
   "source": [
    "# Perceptron\n",
    "from sklearn import linear_model\n",
    "clf = linear_model.SGDClassifier(loss='perceptron')\n",
    "clf.fit(X_train_std, y_train)\n",
    "y_pred = clf.fit(X_train_std, y_train).predict(X_train_std)\n",
    "y_pred_test = clf.predict(X_test_std)\n",
    "print_results('Perceptron')"
   ]
  },
  {
   "cell_type": "code",
   "execution_count": null,
   "metadata": {
    "collapsed": true
   },
   "outputs": [],
   "source": []
  }
 ],
 "metadata": {
  "kernelspec": {
   "display_name": "Python 3",
   "language": "python",
   "name": "python3"
  },
  "language_info": {
   "codemirror_mode": {
    "name": "ipython",
    "version": 3
   },
   "file_extension": ".py",
   "mimetype": "text/x-python",
   "name": "python",
   "nbconvert_exporter": "python",
   "pygments_lexer": "ipython3",
   "version": "3.5.1"
  }
 },
 "nbformat": 4,
 "nbformat_minor": 0
}
