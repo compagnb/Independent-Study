{
 "cells": [
  {
   "cell_type": "code",
   "execution_count": 108,
   "metadata": {
    "collapsed": true
   },
   "outputs": [],
   "source": [
    "import numpy as np #import numpy library\n",
    "import pandas as pd #import pandas library\n",
    "import matplotlib.pyplot as plt #import matplot library\n",
    "%matplotlib inline\n",
    "\n",
    "import glob\n",
    "import os\n",
    "\n",
    "import nltk.classify.util\n",
    "from astropy.table import Table, Column\n",
    "\n",
    "import string\n",
    "\n",
    "from sklearn import svm\n",
    "from sklearn import metrics"
   ]
  },
  {
   "cell_type": "code",
   "execution_count": 109,
   "metadata": {
    "collapsed": false
   },
   "outputs": [],
   "source": [
    " def loadMetricData(user, directory):\n",
    "    path =  user + \"/\" + directory + \"/\"\n",
    "#     print(path)\n",
    "    all_files = glob.glob(os.path.join(path, \"*.csv\")) \n",
    "#     print(all_files)\n",
    "    data = pd.DataFrame()\n",
    "    list_ = []\n",
    "    for file_ in all_files:\n",
    "        data = pd.read_csv(file_,index_col=None, header=0)\n",
    "        list_.append(data)\n",
    "        data = pd.concat(list_)\n",
    "    return data"
   ]
  },
  {
   "cell_type": "code",
   "execution_count": 110,
   "metadata": {
    "collapsed": false
   },
   "outputs": [],
   "source": [
    "# # clean times function\n",
    "def cleanTime(df, col):\n",
    "    df.col = pd.to_datetime(df.col)"
   ]
  },
  {
   "cell_type": "code",
   "execution_count": 111,
   "metadata": {
    "collapsed": false
   },
   "outputs": [
    {
     "data": {
      "text/html": [
       "<div>\n",
       "<table border=\"1\" class=\"dataframe\">\n",
       "  <thead>\n",
       "    <tr style=\"text-align: right;\">\n",
       "      <th></th>\n",
       "      <th>timestamp</th>\n",
       "      <th>heartrate</th>\n",
       "      <th>steps</th>\n",
       "      <th>calories</th>\n",
       "      <th>gsr</th>\n",
       "      <th>skintemp</th>\n",
       "      <th>airtemp</th>\n",
       "    </tr>\n",
       "  </thead>\n",
       "  <tbody>\n",
       "    <tr>\n",
       "      <th>1435</th>\n",
       "      <td>2016-05-04 23:55:00</td>\n",
       "      <td>71</td>\n",
       "      <td>0</td>\n",
       "      <td>0.9</td>\n",
       "      <td>0.000067</td>\n",
       "      <td>93.2</td>\n",
       "      <td>93.2</td>\n",
       "    </tr>\n",
       "    <tr>\n",
       "      <th>1436</th>\n",
       "      <td>2016-05-04 23:56:00</td>\n",
       "      <td>69</td>\n",
       "      <td>0</td>\n",
       "      <td>1.0</td>\n",
       "      <td>0.000067</td>\n",
       "      <td>94.1</td>\n",
       "      <td>94.1</td>\n",
       "    </tr>\n",
       "    <tr>\n",
       "      <th>1437</th>\n",
       "      <td>2016-05-04 23:57:00</td>\n",
       "      <td>68</td>\n",
       "      <td>0</td>\n",
       "      <td>0.9</td>\n",
       "      <td>0.000069</td>\n",
       "      <td>94.1</td>\n",
       "      <td>94.1</td>\n",
       "    </tr>\n",
       "    <tr>\n",
       "      <th>1438</th>\n",
       "      <td>2016-05-04 23:58:00</td>\n",
       "      <td>66</td>\n",
       "      <td>0</td>\n",
       "      <td>1.0</td>\n",
       "      <td>0.000071</td>\n",
       "      <td>94.1</td>\n",
       "      <td>94.1</td>\n",
       "    </tr>\n",
       "    <tr>\n",
       "      <th>1439</th>\n",
       "      <td>2016-05-04 23:59:00</td>\n",
       "      <td>65</td>\n",
       "      <td>0</td>\n",
       "      <td>0.9</td>\n",
       "      <td>0.000067</td>\n",
       "      <td>94.1</td>\n",
       "      <td>94.1</td>\n",
       "    </tr>\n",
       "  </tbody>\n",
       "</table>\n",
       "</div>"
      ],
      "text/plain": [
       "                timestamp  heartrate  steps  calories       gsr  skintemp  \\\n",
       "1435  2016-05-04 23:55:00         71      0       0.9  0.000067      93.2   \n",
       "1436  2016-05-04 23:56:00         69      0       1.0  0.000067      94.1   \n",
       "1437  2016-05-04 23:57:00         68      0       0.9  0.000069      94.1   \n",
       "1438  2016-05-04 23:58:00         66      0       1.0  0.000071      94.1   \n",
       "1439  2016-05-04 23:59:00         65      0       0.9  0.000067      94.1   \n",
       "\n",
       "      airtemp  \n",
       "1435     93.2  \n",
       "1436     94.1  \n",
       "1437     94.1  \n",
       "1438     94.1  \n",
       "1439     94.1  "
      ]
     },
     "execution_count": 111,
     "metadata": {},
     "output_type": "execute_result"
    }
   ],
   "source": [
    "metrics = loadMetricData('sarahYee', \"metrics\")\n",
    "metrics.tail(5)"
   ]
  },
  {
   "cell_type": "code",
   "execution_count": 112,
   "metadata": {
    "collapsed": false
   },
   "outputs": [
    {
     "data": {
      "text/plain": [
       "timestamp     object\n",
       "heartrate    float64\n",
       "steps        float64\n",
       "calories     float64\n",
       "gsr          float64\n",
       "skintemp     float64\n",
       "airtemp      float64\n",
       "dtype: object"
      ]
     },
     "execution_count": 112,
     "metadata": {},
     "output_type": "execute_result"
    }
   ],
   "source": [
    "metrics.dtypes"
   ]
  },
  {
   "cell_type": "code",
   "execution_count": 113,
   "metadata": {
    "collapsed": false
   },
   "outputs": [],
   "source": [
    "# clean metric data\n",
    "\n",
    "metrics.timestamp = pd.to_datetime(metrics.timestamp)\n",
    "\n",
    "metrics.heartrate = metrics.heartrate.fillna(0)\n",
    "metrics.steps = metrics.steps.fillna(0)\n",
    "metrics.calories = metrics.calories.fillna(0)\n",
    "metrics.gsr = metrics.gsr.fillna(0)\n",
    "metrics.skintemp = metrics.skintemp.fillna(0)\n",
    "metrics.airtemp = metrics.airtemp.fillna(0)\n",
    "\n",
    "# metrics.head(5)"
   ]
  },
  {
   "cell_type": "code",
   "execution_count": 183,
   "metadata": {
    "collapsed": false
   },
   "outputs": [
    {
     "data": {
      "text/html": [
       "<div>\n",
       "<table border=\"1\" class=\"dataframe\">\n",
       "  <thead>\n",
       "    <tr style=\"text-align: right;\">\n",
       "      <th></th>\n",
       "      <th>timestamp</th>\n",
       "      <th>heartrate</th>\n",
       "      <th>steps</th>\n",
       "      <th>calories</th>\n",
       "      <th>gsr</th>\n",
       "      <th>skintemp</th>\n",
       "      <th>airtemp</th>\n",
       "      <th>excitement</th>\n",
       "      <th>xlt</th>\n",
       "      <th>xgt</th>\n",
       "      <th>...</th>\n",
       "      <th>angry</th>\n",
       "      <th>hungry</th>\n",
       "      <th>tired</th>\n",
       "      <th>bored</th>\n",
       "      <th>exhaca</th>\n",
       "      <th>ansaan</th>\n",
       "      <th>exha</th>\n",
       "      <th>haca</th>\n",
       "      <th>anan</th>\n",
       "      <th>ansa</th>\n",
       "    </tr>\n",
       "  </thead>\n",
       "  <tbody>\n",
       "    <tr>\n",
       "      <th>706</th>\n",
       "      <td>2016-04-22 11:46:00</td>\n",
       "      <td>80</td>\n",
       "      <td>0</td>\n",
       "      <td>1.6</td>\n",
       "      <td>0.000054</td>\n",
       "      <td>89.6</td>\n",
       "      <td>88.7</td>\n",
       "      <td>False</td>\n",
       "      <td>False</td>\n",
       "      <td>True</td>\n",
       "      <td>...</td>\n",
       "      <td>False</td>\n",
       "      <td>False</td>\n",
       "      <td>False</td>\n",
       "      <td>False</td>\n",
       "      <td>False</td>\n",
       "      <td>False</td>\n",
       "      <td>False</td>\n",
       "      <td>False</td>\n",
       "      <td>False</td>\n",
       "      <td>False</td>\n",
       "    </tr>\n",
       "    <tr>\n",
       "      <th>710</th>\n",
       "      <td>2016-04-22 11:50:00</td>\n",
       "      <td>81</td>\n",
       "      <td>0</td>\n",
       "      <td>1.3</td>\n",
       "      <td>0.000064</td>\n",
       "      <td>88.7</td>\n",
       "      <td>87.8</td>\n",
       "      <td>False</td>\n",
       "      <td>False</td>\n",
       "      <td>True</td>\n",
       "      <td>...</td>\n",
       "      <td>False</td>\n",
       "      <td>False</td>\n",
       "      <td>False</td>\n",
       "      <td>False</td>\n",
       "      <td>False</td>\n",
       "      <td>False</td>\n",
       "      <td>False</td>\n",
       "      <td>False</td>\n",
       "      <td>False</td>\n",
       "      <td>False</td>\n",
       "    </tr>\n",
       "    <tr>\n",
       "      <th>711</th>\n",
       "      <td>2016-04-22 11:51:00</td>\n",
       "      <td>85</td>\n",
       "      <td>0</td>\n",
       "      <td>1.4</td>\n",
       "      <td>0.000067</td>\n",
       "      <td>90.5</td>\n",
       "      <td>87.8</td>\n",
       "      <td>False</td>\n",
       "      <td>False</td>\n",
       "      <td>True</td>\n",
       "      <td>...</td>\n",
       "      <td>False</td>\n",
       "      <td>False</td>\n",
       "      <td>False</td>\n",
       "      <td>False</td>\n",
       "      <td>False</td>\n",
       "      <td>False</td>\n",
       "      <td>False</td>\n",
       "      <td>False</td>\n",
       "      <td>False</td>\n",
       "      <td>False</td>\n",
       "    </tr>\n",
       "    <tr>\n",
       "      <th>712</th>\n",
       "      <td>2016-04-22 11:52:00</td>\n",
       "      <td>82</td>\n",
       "      <td>0</td>\n",
       "      <td>1.5</td>\n",
       "      <td>0.000066</td>\n",
       "      <td>90.5</td>\n",
       "      <td>87.8</td>\n",
       "      <td>False</td>\n",
       "      <td>False</td>\n",
       "      <td>True</td>\n",
       "      <td>...</td>\n",
       "      <td>False</td>\n",
       "      <td>False</td>\n",
       "      <td>False</td>\n",
       "      <td>False</td>\n",
       "      <td>False</td>\n",
       "      <td>False</td>\n",
       "      <td>False</td>\n",
       "      <td>False</td>\n",
       "      <td>False</td>\n",
       "      <td>False</td>\n",
       "    </tr>\n",
       "    <tr>\n",
       "      <th>713</th>\n",
       "      <td>2016-04-22 11:53:00</td>\n",
       "      <td>90</td>\n",
       "      <td>15</td>\n",
       "      <td>2.1</td>\n",
       "      <td>0.000060</td>\n",
       "      <td>90.5</td>\n",
       "      <td>88.7</td>\n",
       "      <td>False</td>\n",
       "      <td>False</td>\n",
       "      <td>True</td>\n",
       "      <td>...</td>\n",
       "      <td>False</td>\n",
       "      <td>False</td>\n",
       "      <td>False</td>\n",
       "      <td>False</td>\n",
       "      <td>False</td>\n",
       "      <td>False</td>\n",
       "      <td>False</td>\n",
       "      <td>False</td>\n",
       "      <td>False</td>\n",
       "      <td>False</td>\n",
       "    </tr>\n",
       "  </tbody>\n",
       "</table>\n",
       "<p>5 rows × 26 columns</p>\n",
       "</div>"
      ],
      "text/plain": [
       "              timestamp  heartrate  steps  calories       gsr  skintemp  \\\n",
       "706 2016-04-22 11:46:00         80      0       1.6  0.000054      89.6   \n",
       "710 2016-04-22 11:50:00         81      0       1.3  0.000064      88.7   \n",
       "711 2016-04-22 11:51:00         85      0       1.4  0.000067      90.5   \n",
       "712 2016-04-22 11:52:00         82      0       1.5  0.000066      90.5   \n",
       "713 2016-04-22 11:53:00         90     15       2.1  0.000060      90.5   \n",
       "\n",
       "     airtemp excitement    xlt   xgt  ...    angry  hungry  tired  bored  \\\n",
       "706     88.7      False  False  True  ...    False   False  False  False   \n",
       "710     87.8      False  False  True  ...    False   False  False  False   \n",
       "711     87.8      False  False  True  ...    False   False  False  False   \n",
       "712     87.8      False  False  True  ...    False   False  False  False   \n",
       "713     88.7      False  False  True  ...    False   False  False  False   \n",
       "\n",
       "    exhaca ansaan   exha   haca   anan   ansa  \n",
       "706  False  False  False  False  False  False  \n",
       "710  False  False  False  False  False  False  \n",
       "711  False  False  False  False  False  False  \n",
       "712  False  False  False  False  False  False  \n",
       "713  False  False  False  False  False  False  \n",
       "\n",
       "[5 rows x 26 columns]"
      ]
     },
     "execution_count": 183,
     "metadata": {},
     "output_type": "execute_result"
    }
   ],
   "source": [
    "metrics = metrics[metrics.heartrate != 0]\n",
    "metrics = metrics[metrics.skintemp != 0]\n",
    "metrics = metrics[metrics.airtemp != 0]\n",
    "\n",
    "metrics.head(5)"
   ]
  },
  {
   "cell_type": "code",
   "execution_count": 184,
   "metadata": {
    "collapsed": false
   },
   "outputs": [],
   "source": [
    "# activities = loadMetricData('sarahYee', \"activities\")\n",
    "# activities.tail(5)"
   ]
  },
  {
   "cell_type": "code",
   "execution_count": 185,
   "metadata": {
    "collapsed": false
   },
   "outputs": [],
   "source": [
    "# sleep = loadMetricData('sarahYee', \"sleep\")\n",
    "# sleep.tail(5)"
   ]
  },
  {
   "cell_type": "code",
   "execution_count": 186,
   "metadata": {
    "collapsed": false
   },
   "outputs": [],
   "source": [
    "# sleep.dtypes"
   ]
  },
  {
   "cell_type": "code",
   "execution_count": 187,
   "metadata": {
    "collapsed": false
   },
   "outputs": [],
   "source": [
    "# journal = loadMetricData('sarahYee', \"journal\")\n",
    "# journal.tail(5)"
   ]
  },
  {
   "cell_type": "code",
   "execution_count": 188,
   "metadata": {
    "collapsed": false
   },
   "outputs": [],
   "source": [
    "# journal.dtypes"
   ]
  },
  {
   "cell_type": "code",
   "execution_count": 189,
   "metadata": {
    "collapsed": false,
    "scrolled": true
   },
   "outputs": [
    {
     "name": "stdout",
     "output_type": "stream",
     "text": [
      "(127, 33)\n"
     ]
    },
    {
     "data": {
      "text/html": [
       "<div>\n",
       "<table border=\"1\" class=\"dataframe\">\n",
       "  <thead>\n",
       "    <tr style=\"text-align: right;\">\n",
       "      <th></th>\n",
       "      <th>starttime</th>\n",
       "      <th>endtime</th>\n",
       "      <th>date</th>\n",
       "      <th>start</th>\n",
       "      <th>end</th>\n",
       "      <th>activity</th>\n",
       "      <th>location</th>\n",
       "      <th>generalemo</th>\n",
       "      <th>qualitative</th>\n",
       "      <th>excited</th>\n",
       "      <th>...</th>\n",
       "      <th>ansa</th>\n",
       "      <th>boolexcited</th>\n",
       "      <th>boolhappy</th>\n",
       "      <th>boolcalm</th>\n",
       "      <th>boolanxious</th>\n",
       "      <th>boolsad</th>\n",
       "      <th>boolangry</th>\n",
       "      <th>booltired</th>\n",
       "      <th>boolhungry</th>\n",
       "      <th>boolbored</th>\n",
       "    </tr>\n",
       "  </thead>\n",
       "  <tbody>\n",
       "    <tr>\n",
       "      <th>0</th>\n",
       "      <td>2016-04-22 13:48:00</td>\n",
       "      <td>2016-04-22 16:12:00</td>\n",
       "      <td>4/22/16</td>\n",
       "      <td>1:48:00 PM</td>\n",
       "      <td>4:12:00 PM</td>\n",
       "      <td>writing thesis</td>\n",
       "      <td>barb's office</td>\n",
       "      <td>anxious</td>\n",
       "      <td>6</td>\n",
       "      <td>0</td>\n",
       "      <td>...</td>\n",
       "      <td>True</td>\n",
       "      <td>False</td>\n",
       "      <td>False</td>\n",
       "      <td>False</td>\n",
       "      <td>True</td>\n",
       "      <td>False</td>\n",
       "      <td>False</td>\n",
       "      <td>False</td>\n",
       "      <td>False</td>\n",
       "      <td>False</td>\n",
       "    </tr>\n",
       "    <tr>\n",
       "      <th>1</th>\n",
       "      <td>2016-04-22 16:12:00</td>\n",
       "      <td>2016-04-22 17:15:00</td>\n",
       "      <td>4/22/16</td>\n",
       "      <td>4:12:00 PM</td>\n",
       "      <td>5:15:00 PM</td>\n",
       "      <td>writing thesis</td>\n",
       "      <td>barb's office</td>\n",
       "      <td>anxious</td>\n",
       "      <td>6</td>\n",
       "      <td>0</td>\n",
       "      <td>...</td>\n",
       "      <td>True</td>\n",
       "      <td>False</td>\n",
       "      <td>False</td>\n",
       "      <td>False</td>\n",
       "      <td>True</td>\n",
       "      <td>False</td>\n",
       "      <td>False</td>\n",
       "      <td>False</td>\n",
       "      <td>False</td>\n",
       "      <td>False</td>\n",
       "    </tr>\n",
       "    <tr>\n",
       "      <th>2</th>\n",
       "      <td>2016-04-22 17:15:00</td>\n",
       "      <td>2016-04-22 19:05:00</td>\n",
       "      <td>4/22/16</td>\n",
       "      <td>5:15:00 PM</td>\n",
       "      <td>7:05:00 PM</td>\n",
       "      <td>eating russian dumplings with annie then watch...</td>\n",
       "      <td>5th floor lounge</td>\n",
       "      <td>happy</td>\n",
       "      <td>10</td>\n",
       "      <td>0</td>\n",
       "      <td>...</td>\n",
       "      <td>False</td>\n",
       "      <td>False</td>\n",
       "      <td>True</td>\n",
       "      <td>False</td>\n",
       "      <td>False</td>\n",
       "      <td>False</td>\n",
       "      <td>False</td>\n",
       "      <td>False</td>\n",
       "      <td>False</td>\n",
       "      <td>False</td>\n",
       "    </tr>\n",
       "    <tr>\n",
       "      <th>3</th>\n",
       "      <td>2016-04-22 19:05:00</td>\n",
       "      <td>2016-04-22 19:15:00</td>\n",
       "      <td>4/22/16</td>\n",
       "      <td>7:05:00 PM</td>\n",
       "      <td>7:15:00 PM</td>\n",
       "      <td>photofeast</td>\n",
       "      <td>3rd floor</td>\n",
       "      <td>excited/anxious</td>\n",
       "      <td>5/3</td>\n",
       "      <td>5</td>\n",
       "      <td>...</td>\n",
       "      <td>True</td>\n",
       "      <td>True</td>\n",
       "      <td>False</td>\n",
       "      <td>False</td>\n",
       "      <td>True</td>\n",
       "      <td>False</td>\n",
       "      <td>False</td>\n",
       "      <td>False</td>\n",
       "      <td>False</td>\n",
       "      <td>False</td>\n",
       "    </tr>\n",
       "    <tr>\n",
       "      <th>4</th>\n",
       "      <td>2016-04-22 19:15:00</td>\n",
       "      <td>2016-04-22 19:25:00</td>\n",
       "      <td>4/22/16</td>\n",
       "      <td>7:15:00 PM</td>\n",
       "      <td>7:25:00 PM</td>\n",
       "      <td>naked picture of charles in photofeast</td>\n",
       "      <td>3rd floor</td>\n",
       "      <td>what can only be described as traumatic shock</td>\n",
       "      <td>10</td>\n",
       "      <td>0</td>\n",
       "      <td>...</td>\n",
       "      <td>False</td>\n",
       "      <td>False</td>\n",
       "      <td>False</td>\n",
       "      <td>False</td>\n",
       "      <td>False</td>\n",
       "      <td>False</td>\n",
       "      <td>False</td>\n",
       "      <td>False</td>\n",
       "      <td>False</td>\n",
       "      <td>False</td>\n",
       "    </tr>\n",
       "  </tbody>\n",
       "</table>\n",
       "<p>5 rows × 33 columns</p>\n",
       "</div>"
      ],
      "text/plain": [
       "            starttime             endtime     date       start         end  \\\n",
       "0 2016-04-22 13:48:00 2016-04-22 16:12:00  4/22/16  1:48:00 PM  4:12:00 PM   \n",
       "1 2016-04-22 16:12:00 2016-04-22 17:15:00  4/22/16  4:12:00 PM  5:15:00 PM   \n",
       "2 2016-04-22 17:15:00 2016-04-22 19:05:00  4/22/16  5:15:00 PM  7:05:00 PM   \n",
       "3 2016-04-22 19:05:00 2016-04-22 19:15:00  4/22/16  7:05:00 PM  7:15:00 PM   \n",
       "4 2016-04-22 19:15:00 2016-04-22 19:25:00  4/22/16  7:15:00 PM  7:25:00 PM   \n",
       "\n",
       "                                            activity          location  \\\n",
       "0                                     writing thesis     barb's office   \n",
       "1                                     writing thesis     barb's office   \n",
       "2  eating russian dumplings with annie then watch...  5th floor lounge   \n",
       "3                                         photofeast         3rd floor   \n",
       "4             naked picture of charles in photofeast         3rd floor   \n",
       "\n",
       "                                      generalemo qualitative  excited  \\\n",
       "0                                        anxious           6        0   \n",
       "1                                        anxious           6        0   \n",
       "2                                          happy          10        0   \n",
       "3                                excited/anxious         5/3        5   \n",
       "4  what can only be described as traumatic shock          10        0   \n",
       "\n",
       "     ...      ansa  boolexcited  boolhappy  boolcalm  boolanxious  boolsad  \\\n",
       "0    ...      True        False      False     False         True    False   \n",
       "1    ...      True        False      False     False         True    False   \n",
       "2    ...     False        False       True     False        False    False   \n",
       "3    ...      True         True      False     False         True    False   \n",
       "4    ...     False        False      False     False        False    False   \n",
       "\n",
       "   boolangry  booltired boolhungry boolbored  \n",
       "0      False      False      False     False  \n",
       "1      False      False      False     False  \n",
       "2      False      False      False     False  \n",
       "3      False      False      False     False  \n",
       "4      False      False      False     False  \n",
       "\n",
       "[5 rows x 33 columns]"
      ]
     },
     "execution_count": 189,
     "metadata": {},
     "output_type": "execute_result"
    }
   ],
   "source": [
    "# clean metric data\n",
    "journal.starttime= pd.to_datetime(journal.starttime)\n",
    "journal.endtime= pd.to_datetime(journal.endtime)\n",
    "\n",
    "journal.qualitative = journal.qualitative.fillna(0)\n",
    "journal.excited = journal.excited.fillna(0)\n",
    "journal.happy = journal.happy.fillna(0)\n",
    "journal.calm = journal.calm.fillna(0)\n",
    "journal.anxious = journal.anxious.fillna(0)\n",
    "journal.sad = journal.sad.fillna(0)\n",
    "journal.angry = journal.angry.fillna(0)\n",
    "journal.hungry = journal.hungry.fillna(0)\n",
    "journal.tired = journal.tired.fillna(0)\n",
    "journal.bored = journal.bored.fillna(0)\n",
    "journal.ansaan = journal.ansaan.fillna(0)\n",
    "journal.exhaca = journal.exhaca.fillna(0)\n",
    "\n",
    "print(journal.shape)\n",
    "journal.head(5)\n",
    "# journal.tail(5)"
   ]
  },
  {
   "cell_type": "code",
   "execution_count": 190,
   "metadata": {
    "collapsed": false
   },
   "outputs": [
    {
     "data": {
      "text/html": [
       "<div>\n",
       "<table border=\"1\" class=\"dataframe\">\n",
       "  <thead>\n",
       "    <tr style=\"text-align: right;\">\n",
       "      <th></th>\n",
       "      <th>starttime</th>\n",
       "      <th>endtime</th>\n",
       "      <th>date</th>\n",
       "      <th>start</th>\n",
       "      <th>end</th>\n",
       "      <th>activity</th>\n",
       "      <th>location</th>\n",
       "      <th>generalemo</th>\n",
       "      <th>qualitative</th>\n",
       "      <th>excited</th>\n",
       "      <th>...</th>\n",
       "      <th>ansa</th>\n",
       "      <th>boolexcited</th>\n",
       "      <th>boolhappy</th>\n",
       "      <th>boolcalm</th>\n",
       "      <th>boolanxious</th>\n",
       "      <th>boolsad</th>\n",
       "      <th>boolangry</th>\n",
       "      <th>booltired</th>\n",
       "      <th>boolhungry</th>\n",
       "      <th>boolbored</th>\n",
       "    </tr>\n",
       "  </thead>\n",
       "  <tbody>\n",
       "    <tr>\n",
       "      <th>0</th>\n",
       "      <td>2016-04-22 13:48:00</td>\n",
       "      <td>2016-04-22 16:12:00</td>\n",
       "      <td>4/22/16</td>\n",
       "      <td>1:48:00 PM</td>\n",
       "      <td>4:12:00 PM</td>\n",
       "      <td>writing thesis</td>\n",
       "      <td>barb's office</td>\n",
       "      <td>anxious</td>\n",
       "      <td>6</td>\n",
       "      <td>0</td>\n",
       "      <td>...</td>\n",
       "      <td>True</td>\n",
       "      <td>False</td>\n",
       "      <td>False</td>\n",
       "      <td>False</td>\n",
       "      <td>True</td>\n",
       "      <td>False</td>\n",
       "      <td>False</td>\n",
       "      <td>False</td>\n",
       "      <td>False</td>\n",
       "      <td>False</td>\n",
       "    </tr>\n",
       "    <tr>\n",
       "      <th>1</th>\n",
       "      <td>2016-04-22 16:12:00</td>\n",
       "      <td>2016-04-22 17:15:00</td>\n",
       "      <td>4/22/16</td>\n",
       "      <td>4:12:00 PM</td>\n",
       "      <td>5:15:00 PM</td>\n",
       "      <td>writing thesis</td>\n",
       "      <td>barb's office</td>\n",
       "      <td>anxious</td>\n",
       "      <td>6</td>\n",
       "      <td>0</td>\n",
       "      <td>...</td>\n",
       "      <td>True</td>\n",
       "      <td>False</td>\n",
       "      <td>False</td>\n",
       "      <td>False</td>\n",
       "      <td>True</td>\n",
       "      <td>False</td>\n",
       "      <td>False</td>\n",
       "      <td>False</td>\n",
       "      <td>False</td>\n",
       "      <td>False</td>\n",
       "    </tr>\n",
       "    <tr>\n",
       "      <th>2</th>\n",
       "      <td>2016-04-22 17:15:00</td>\n",
       "      <td>2016-04-22 19:05:00</td>\n",
       "      <td>4/22/16</td>\n",
       "      <td>5:15:00 PM</td>\n",
       "      <td>7:05:00 PM</td>\n",
       "      <td>eating russian dumplings with annie then watch...</td>\n",
       "      <td>5th floor lounge</td>\n",
       "      <td>happy</td>\n",
       "      <td>10</td>\n",
       "      <td>0</td>\n",
       "      <td>...</td>\n",
       "      <td>False</td>\n",
       "      <td>False</td>\n",
       "      <td>True</td>\n",
       "      <td>False</td>\n",
       "      <td>False</td>\n",
       "      <td>False</td>\n",
       "      <td>False</td>\n",
       "      <td>False</td>\n",
       "      <td>False</td>\n",
       "      <td>False</td>\n",
       "    </tr>\n",
       "    <tr>\n",
       "      <th>3</th>\n",
       "      <td>2016-04-22 19:05:00</td>\n",
       "      <td>2016-04-22 19:15:00</td>\n",
       "      <td>4/22/16</td>\n",
       "      <td>7:05:00 PM</td>\n",
       "      <td>7:15:00 PM</td>\n",
       "      <td>photofeast</td>\n",
       "      <td>3rd floor</td>\n",
       "      <td>excited/anxious</td>\n",
       "      <td>5/3</td>\n",
       "      <td>5</td>\n",
       "      <td>...</td>\n",
       "      <td>True</td>\n",
       "      <td>True</td>\n",
       "      <td>False</td>\n",
       "      <td>False</td>\n",
       "      <td>True</td>\n",
       "      <td>False</td>\n",
       "      <td>False</td>\n",
       "      <td>False</td>\n",
       "      <td>False</td>\n",
       "      <td>False</td>\n",
       "    </tr>\n",
       "    <tr>\n",
       "      <th>4</th>\n",
       "      <td>2016-04-22 19:15:00</td>\n",
       "      <td>2016-04-22 19:25:00</td>\n",
       "      <td>4/22/16</td>\n",
       "      <td>7:15:00 PM</td>\n",
       "      <td>7:25:00 PM</td>\n",
       "      <td>naked picture of charles in photofeast</td>\n",
       "      <td>3rd floor</td>\n",
       "      <td>what can only be described as traumatic shock</td>\n",
       "      <td>10</td>\n",
       "      <td>0</td>\n",
       "      <td>...</td>\n",
       "      <td>False</td>\n",
       "      <td>False</td>\n",
       "      <td>False</td>\n",
       "      <td>False</td>\n",
       "      <td>False</td>\n",
       "      <td>False</td>\n",
       "      <td>False</td>\n",
       "      <td>False</td>\n",
       "      <td>False</td>\n",
       "      <td>False</td>\n",
       "    </tr>\n",
       "  </tbody>\n",
       "</table>\n",
       "<p>5 rows × 33 columns</p>\n",
       "</div>"
      ],
      "text/plain": [
       "            starttime             endtime     date       start         end  \\\n",
       "0 2016-04-22 13:48:00 2016-04-22 16:12:00  4/22/16  1:48:00 PM  4:12:00 PM   \n",
       "1 2016-04-22 16:12:00 2016-04-22 17:15:00  4/22/16  4:12:00 PM  5:15:00 PM   \n",
       "2 2016-04-22 17:15:00 2016-04-22 19:05:00  4/22/16  5:15:00 PM  7:05:00 PM   \n",
       "3 2016-04-22 19:05:00 2016-04-22 19:15:00  4/22/16  7:05:00 PM  7:15:00 PM   \n",
       "4 2016-04-22 19:15:00 2016-04-22 19:25:00  4/22/16  7:15:00 PM  7:25:00 PM   \n",
       "\n",
       "                                            activity          location  \\\n",
       "0                                     writing thesis     barb's office   \n",
       "1                                     writing thesis     barb's office   \n",
       "2  eating russian dumplings with annie then watch...  5th floor lounge   \n",
       "3                                         photofeast         3rd floor   \n",
       "4             naked picture of charles in photofeast         3rd floor   \n",
       "\n",
       "                                      generalemo qualitative  excited  \\\n",
       "0                                        anxious           6        0   \n",
       "1                                        anxious           6        0   \n",
       "2                                          happy          10        0   \n",
       "3                                excited/anxious         5/3        5   \n",
       "4  what can only be described as traumatic shock          10        0   \n",
       "\n",
       "     ...      ansa  boolexcited  boolhappy  boolcalm  boolanxious  boolsad  \\\n",
       "0    ...      True        False      False     False         True    False   \n",
       "1    ...      True        False      False     False         True    False   \n",
       "2    ...     False        False       True     False        False    False   \n",
       "3    ...      True         True      False     False         True    False   \n",
       "4    ...     False        False      False     False        False    False   \n",
       "\n",
       "   boolangry  booltired boolhungry boolbored  \n",
       "0      False      False      False     False  \n",
       "1      False      False      False     False  \n",
       "2      False      False      False     False  \n",
       "3      False      False      False     False  \n",
       "4      False      False      False     False  \n",
       "\n",
       "[5 rows x 33 columns]"
      ]
     },
     "execution_count": 190,
     "metadata": {},
     "output_type": "execute_result"
    }
   ],
   "source": [
    "\n",
    "journal['boolexcited'] =  journal['excited'] > 0\n",
    "journal['boolhappy'] =  journal['happy'] > 0\n",
    "journal['boolcalm'] =  journal['calm'] > 0\n",
    "journal['boolanxious'] =  journal['anxious'] > 0\n",
    "journal['boolsad'] =  journal['sad'] > 0\n",
    "journal['boolangry'] =  journal['angry'] > 0\n",
    "journal['booltired'] =  journal['tired'] > 0\n",
    "journal['boolhungry'] =  journal['hungry'] > 0\n",
    "journal['boolbored'] =  journal['bored'] > 0\n",
    "journal['exhaca'] =  journal['exhaca'] > 0\n",
    "journal['ansaan'] =  journal['ansaan'] > 0\n",
    "\n",
    "journal['exha'] =  journal['exha'] > 0\n",
    "journal['haca'] =  journal['haca'] > 0\n",
    "journal['anan'] =  journal['anan'] > 0\n",
    "journal['ansa'] =  journal['anan'] > 0\n",
    "\n",
    "    \n",
    "boolexcited = journal.iloc[:, 18].values.reshape(journal.shape[0], 1)\n",
    "boolhappy = journal.iloc[:, 19].values.reshape(journal.shape[0], 1)\n",
    "boolcalm = journal.iloc[:, 20].values.reshape(journal.shape[0], 1)\n",
    "boolanxious = journal.iloc[:, 21].values.reshape(journal.shape[0], 1)\n",
    "boolsad = journal.iloc[:, 22].values.reshape(journal.shape[0], 1)\n",
    "boolangry = journal.iloc[:, 23].values.reshape(journal.shape[0], 1)\n",
    "booltired = journal.iloc[:, 24].values.reshape(journal.shape[0], 1)\n",
    "boolhungry = journal.iloc[:, 25].values.reshape(journal.shape[0], 1)\n",
    "boolbored = journal.iloc[:, 26].values.reshape(journal.shape[0], 1)\n",
    "exhaca = journal.iloc[:, 27].values.reshape(journal.shape[0], 1)\n",
    "ansaan = journal.iloc[:, 28].values.reshape(journal.shape[0], 1)\n",
    "exha = journal.iloc[:, 29].values.reshape(journal.shape[0], 1)\n",
    "haca = journal.iloc[:, 30].values.reshape(journal.shape[0], 1)\n",
    "anan = journal.iloc[:, 31].values.reshape(journal.shape[0], 1)\n",
    "ansa = journal.iloc[:, 32].values.reshape(journal.shape[0], 1)\n",
    "\n",
    "journal.head(5)\n"
   ]
  },
  {
   "cell_type": "code",
   "execution_count": 191,
   "metadata": {
    "collapsed": false
   },
   "outputs": [],
   "source": [
    "# for i in range(0, sarahJournal.shape[0]):\n",
    "#     sarahJournal['ex'] = (0< sarahJournal.iloc[i, 18].astype(int))\n",
    "#     sarahJournal['ha'] = sarahJournal.iloc[i, 19]== True\n",
    "#     sarahJournal['ca'] = sarahJournal.iloc[i, 20]== True\n",
    "#     sarahJournal['ys'] = sarahJournal['ex'].astype(int) + sarahJournal['ha'].astype(int) + sarahJournal['ca'].astype(int)\n",
    "\n",
    "# print(sarahJournal['ex'])\n",
    "    "
   ]
  },
  {
   "cell_type": "code",
   "execution_count": 192,
   "metadata": {
    "collapsed": false
   },
   "outputs": [],
   "source": [
    "# def makeEmoIndicators(newvar, journalData, journal_emo1_loc, journal_emo2_loc, journal_emo3_loc):\n",
    "  \n",
    "#     journalData[newvar] = False\n",
    "    \n",
    "#     for i in range(0, journalData.shape[0]):\n",
    "#         journalData['emo1'] = (journalData.iloc[i, journal_emo1_loc]) == True)\n",
    "#         journalData['emo2'] = (journalData.iloc[i, journal_emo2_loc] == True)\n",
    "#         journalData['emo3'] = (journalData.iloc[i, journal_emo3_loc] == True)\n",
    "#         journalData['ysum'] = journalData['emo1'].astype(int) + journalData['emo2'].astype(int) + journalData['emo3'].astype(int)\n",
    "# #         print(journalData['emo1'].astype(int) + journalData['emo2'].astype(int) + journalData['emo3'].astype(int))\n",
    "#         journalData.loc[journalData['ysum']!=0, newvar] = True\n",
    "        \n",
    "#     print(journalData['emo1'].values)\n",
    "#     journalData = journalData.drop(['emo1', 'emo2', 'emo3', 'ysum'], axis=1)\n",
    "#     return journalData"
   ]
  },
  {
   "cell_type": "code",
   "execution_count": 193,
   "metadata": {
    "collapsed": false
   },
   "outputs": [],
   "source": [
    "# sarahJournal.dtypes"
   ]
  },
  {
   "cell_type": "code",
   "execution_count": 194,
   "metadata": {
    "collapsed": false
   },
   "outputs": [],
   "source": [
    "# testData= makeEmoIndicators('exhaca', sarahJournal, 18, 19, 20)\n",
    "# # print(testData.describe())"
   ]
  },
  {
   "cell_type": "code",
   "execution_count": 195,
   "metadata": {
    "collapsed": false
   },
   "outputs": [],
   "source": [
    "# sarahJournal.boolexhapcal.convert_objects(convert_numeric=True)"
   ]
  },
  {
   "cell_type": "code",
   "execution_count": 196,
   "metadata": {
    "collapsed": false
   },
   "outputs": [],
   "source": [
    "# function that takes any journal or activity data and creates indicators for activities or emotions\n",
    "\n",
    "def makeIndicators(newvar, metricData, journalData, journal_startdatetime_loc, journal_enddatetime_loc, journal_activity_loc):\n",
    "    '''\n",
    "    Create boolean indicator variable for activities or emotions\n",
    "    newvar, string for name of new indicator variable\n",
    "    activity, string that matches the name of the activity or emotion in the journalData data frame\n",
    "    bioData, data frame of input biometric data\n",
    "    journalData, data frame of input journal or activity data\n",
    "    journal_startdatetime_loc, int of position of the start datetime in journalData\n",
    "    journal_enddatetime_loc, int of position of the end datetime in journalData\n",
    "    journal_activity_loc, int of position of the activity or emotion in journalData\n",
    "    '''\n",
    "\n",
    "    metricData[newvar] = False\n",
    "\n",
    "    for i in range(0, journalData.shape[0]):\n",
    "        metricData['xlt'] = (metricData['timestamp'] >= pd.to_datetime(journalData.iloc[i, journal_startdatetime_loc]))\n",
    "        metricData['xgt'] = (metricData['timestamp'] <= pd.to_datetime(journalData.iloc[i, journal_enddatetime_loc]))\n",
    "#         metricData['xw'] = (journalData.iloc[i, journal_activity_loc])\n",
    "        metricData['xw'] = (journalData.iloc[i, journal_activity_loc] == True)\n",
    "        metricData['xsum'] = metricData['xlt'].astype(int) + metricData['xgt'].astype(int) + metricData['xw'].astype(int)\n",
    "        metricData.loc[metricData['xsum']==3, newvar] = True\n",
    "    \n",
    "    metricData = metricData.drop(['xlt', 'xgt', 'xw', 'xsum'], axis=1)\n",
    "    return metricData"
   ]
  },
  {
   "cell_type": "code",
   "execution_count": 197,
   "metadata": {
    "collapsed": false
   },
   "outputs": [],
   "source": [
    "# indicator for walking\n",
    "totalData = makeIndicators('excitement', metrics, journal, 0, 1, 18)\n",
    "totalData = makeIndicators('happy', metrics, journal, 0, 1, 19)\n",
    "totalData = makeIndicators('calm', metrics, journal, 0, 1, 20)\n",
    "totalData = makeIndicators('anxious', metrics, journal, 0, 1, 21)\n",
    "totalData = makeIndicators('sad', metrics, journal, 0, 1, 22)\n",
    "totalData = makeIndicators('angry', metrics, journal, 0, 1, 23)\n",
    "totalData = makeIndicators('hungry', metrics, journal, 0, 1, 24)\n",
    "totalData = makeIndicators('tired', metrics, journal, 0, 1, 25)\n",
    "totalData = makeIndicators('bored', metrics, journal, 0, 1, 26)\n",
    "\n",
    "totalData = makeIndicators('exhaca', metrics, journal, 0, 1, 27)\n",
    "totalData = makeIndicators('ansaan', metrics, journal, 0, 1, 28)\n",
    "\n",
    "totalData = makeIndicators('exha', metrics, journal, 0, 1, 29)\n",
    "totalData = makeIndicators('haca', metrics, journal, 0, 1, 30)\n",
    "totalData = makeIndicators('anan', metrics, journal, 0, 1, 31)\n",
    "totalData = makeIndicators('ansa', metrics, journal, 0, 1, 32)\n",
    "\n",
    "\n"
   ]
  },
  {
   "cell_type": "code",
   "execution_count": 198,
   "metadata": {
    "collapsed": false
   },
   "outputs": [
    {
     "name": "stdout",
     "output_type": "stream",
     "text": [
      "          heartrate         steps      calories           gsr      skintemp  \\\n",
      "count  17223.000000  17223.000000  17223.000000  17223.000000  17223.000000   \n",
      "mean      87.653951      8.782152      1.757017      0.045695     89.051054   \n",
      "std       18.064607     25.965310      1.435048      0.418340      3.948830   \n",
      "min       57.000000      0.000000      0.000000      0.000000     68.900000   \n",
      "25%       71.000000      0.000000      1.000000      0.000054     86.900000   \n",
      "50%       87.000000      0.000000      1.200000      0.000062     89.600000   \n",
      "75%       99.000000      0.000000      1.800000      0.000081     91.400000   \n",
      "max      168.000000    695.000000     11.200000     10.500000     97.700000   \n",
      "\n",
      "            airtemp excitement     happy       calm   anxious    ...      \\\n",
      "count  17223.000000      17223     17223      17223     17223    ...       \n",
      "mean      85.575579   0.184463  0.245544  0.0479591  0.178134    ...       \n",
      "std        5.077088   0.387872  0.430422   0.213686  0.382637    ...       \n",
      "min       60.800000      False     False      False     False    ...       \n",
      "25%       82.400000          0         0          0         0    ...       \n",
      "50%       85.100000          0         0          0         0    ...       \n",
      "75%       88.700000          0         0          0         0    ...       \n",
      "max       97.700000       True      True       True      True    ...       \n",
      "\n",
      "          angry     hungry     tired     bored    exhaca     ansaan  \\\n",
      "count     17223      17223     17223     17223     17223      17223   \n",
      "mean   0.245544  0.0122511  0.041282  0.160483  0.227835  0.0434884   \n",
      "std    0.430422   0.110008  0.198947  0.367064  0.419448    0.20396   \n",
      "min       False      False     False     False     False      False   \n",
      "25%           0          0         0         0         0          0   \n",
      "50%           0          0         0         0         0          0   \n",
      "75%           0          0         0         0         0          0   \n",
      "max        True       True      True      True      True       True   \n",
      "\n",
      "            exha       haca       anan       ansa  \n",
      "count      17223      17223      17223      17223  \n",
      "mean   0.0772804  0.0870348  0.0101028  0.0569007  \n",
      "std     0.267044   0.281894   0.100006   0.231659  \n",
      "min        False      False      False      False  \n",
      "25%            0          0          0          0  \n",
      "50%            0          0          0          0  \n",
      "75%            0          0          0          0  \n",
      "max         True       True       True       True  \n",
      "\n",
      "[8 rows x 21 columns]\n"
     ]
    }
   ],
   "source": [
    "print(totalData.describe())"
   ]
  },
  {
   "cell_type": "code",
   "execution_count": 199,
   "metadata": {
    "collapsed": false
   },
   "outputs": [
    {
     "name": "stdout",
     "output_type": "stream",
     "text": [
      "              timestamp  heartrate  steps  calories       gsr  skintemp  \\\n",
      "706 2016-04-22 11:46:00         80      0       1.6  0.000054      89.6   \n",
      "710 2016-04-22 11:50:00         81      0       1.3  0.000064      88.7   \n",
      "711 2016-04-22 11:51:00         85      0       1.4  0.000067      90.5   \n",
      "712 2016-04-22 11:52:00         82      0       1.5  0.000066      90.5   \n",
      "713 2016-04-22 11:53:00         90     15       2.1  0.000060      90.5   \n",
      "\n",
      "     airtemp excitement  happy   calm  ...    angry hungry  tired  bored  \\\n",
      "706     88.7      False  False  False  ...    False  False  False  False   \n",
      "710     87.8      False  False  False  ...    False  False  False  False   \n",
      "711     87.8      False  False  False  ...    False  False  False  False   \n",
      "712     87.8      False  False  False  ...    False  False  False  False   \n",
      "713     88.7      False  False  False  ...    False  False  False  False   \n",
      "\n",
      "    exhaca ansaan   exha   haca   anan   ansa  \n",
      "706  False  False  False  False  False  False  \n",
      "710  False  False  False  False  False  False  \n",
      "711  False  False  False  False  False  False  \n",
      "712  False  False  False  False  False  False  \n",
      "713  False  False  False  False  False  False  \n",
      "\n",
      "[5 rows x 22 columns]\n"
     ]
    }
   ],
   "source": [
    "print(totalData.head())"
   ]
  },
  {
   "cell_type": "code",
   "execution_count": 200,
   "metadata": {
    "collapsed": false
   },
   "outputs": [],
   "source": [
    "totalData.to_csv('sarahTotal.csv')"
   ]
  },
  {
   "cell_type": "code",
   "execution_count": 201,
   "metadata": {
    "collapsed": false
   },
   "outputs": [
    {
     "data": {
      "text/html": [
       "<div>\n",
       "<table border=\"1\" class=\"dataframe\">\n",
       "  <thead>\n",
       "    <tr style=\"text-align: right;\">\n",
       "      <th></th>\n",
       "      <th>timestamp</th>\n",
       "      <th>heartrate</th>\n",
       "      <th>steps</th>\n",
       "      <th>calories</th>\n",
       "      <th>gsr</th>\n",
       "      <th>skintemp</th>\n",
       "      <th>airtemp</th>\n",
       "      <th>excitement</th>\n",
       "      <th>happy</th>\n",
       "      <th>calm</th>\n",
       "      <th>...</th>\n",
       "      <th>angry</th>\n",
       "      <th>hungry</th>\n",
       "      <th>tired</th>\n",
       "      <th>bored</th>\n",
       "      <th>exhaca</th>\n",
       "      <th>ansaan</th>\n",
       "      <th>exha</th>\n",
       "      <th>haca</th>\n",
       "      <th>anan</th>\n",
       "      <th>ansa</th>\n",
       "    </tr>\n",
       "  </thead>\n",
       "  <tbody>\n",
       "    <tr>\n",
       "      <th>706</th>\n",
       "      <td>2016-04-22 11:46:00</td>\n",
       "      <td>80</td>\n",
       "      <td>0</td>\n",
       "      <td>1.6</td>\n",
       "      <td>0.000054</td>\n",
       "      <td>89.6</td>\n",
       "      <td>88.7</td>\n",
       "      <td>False</td>\n",
       "      <td>False</td>\n",
       "      <td>False</td>\n",
       "      <td>...</td>\n",
       "      <td>False</td>\n",
       "      <td>False</td>\n",
       "      <td>False</td>\n",
       "      <td>False</td>\n",
       "      <td>False</td>\n",
       "      <td>False</td>\n",
       "      <td>False</td>\n",
       "      <td>False</td>\n",
       "      <td>False</td>\n",
       "      <td>False</td>\n",
       "    </tr>\n",
       "    <tr>\n",
       "      <th>710</th>\n",
       "      <td>2016-04-22 11:50:00</td>\n",
       "      <td>81</td>\n",
       "      <td>0</td>\n",
       "      <td>1.3</td>\n",
       "      <td>0.000064</td>\n",
       "      <td>88.7</td>\n",
       "      <td>87.8</td>\n",
       "      <td>False</td>\n",
       "      <td>False</td>\n",
       "      <td>False</td>\n",
       "      <td>...</td>\n",
       "      <td>False</td>\n",
       "      <td>False</td>\n",
       "      <td>False</td>\n",
       "      <td>False</td>\n",
       "      <td>False</td>\n",
       "      <td>False</td>\n",
       "      <td>False</td>\n",
       "      <td>False</td>\n",
       "      <td>False</td>\n",
       "      <td>False</td>\n",
       "    </tr>\n",
       "    <tr>\n",
       "      <th>711</th>\n",
       "      <td>2016-04-22 11:51:00</td>\n",
       "      <td>85</td>\n",
       "      <td>0</td>\n",
       "      <td>1.4</td>\n",
       "      <td>0.000067</td>\n",
       "      <td>90.5</td>\n",
       "      <td>87.8</td>\n",
       "      <td>False</td>\n",
       "      <td>False</td>\n",
       "      <td>False</td>\n",
       "      <td>...</td>\n",
       "      <td>False</td>\n",
       "      <td>False</td>\n",
       "      <td>False</td>\n",
       "      <td>False</td>\n",
       "      <td>False</td>\n",
       "      <td>False</td>\n",
       "      <td>False</td>\n",
       "      <td>False</td>\n",
       "      <td>False</td>\n",
       "      <td>False</td>\n",
       "    </tr>\n",
       "    <tr>\n",
       "      <th>712</th>\n",
       "      <td>2016-04-22 11:52:00</td>\n",
       "      <td>82</td>\n",
       "      <td>0</td>\n",
       "      <td>1.5</td>\n",
       "      <td>0.000066</td>\n",
       "      <td>90.5</td>\n",
       "      <td>87.8</td>\n",
       "      <td>False</td>\n",
       "      <td>False</td>\n",
       "      <td>False</td>\n",
       "      <td>...</td>\n",
       "      <td>False</td>\n",
       "      <td>False</td>\n",
       "      <td>False</td>\n",
       "      <td>False</td>\n",
       "      <td>False</td>\n",
       "      <td>False</td>\n",
       "      <td>False</td>\n",
       "      <td>False</td>\n",
       "      <td>False</td>\n",
       "      <td>False</td>\n",
       "    </tr>\n",
       "    <tr>\n",
       "      <th>713</th>\n",
       "      <td>2016-04-22 11:53:00</td>\n",
       "      <td>90</td>\n",
       "      <td>15</td>\n",
       "      <td>2.1</td>\n",
       "      <td>0.000060</td>\n",
       "      <td>90.5</td>\n",
       "      <td>88.7</td>\n",
       "      <td>False</td>\n",
       "      <td>False</td>\n",
       "      <td>False</td>\n",
       "      <td>...</td>\n",
       "      <td>False</td>\n",
       "      <td>False</td>\n",
       "      <td>False</td>\n",
       "      <td>False</td>\n",
       "      <td>False</td>\n",
       "      <td>False</td>\n",
       "      <td>False</td>\n",
       "      <td>False</td>\n",
       "      <td>False</td>\n",
       "      <td>False</td>\n",
       "    </tr>\n",
       "  </tbody>\n",
       "</table>\n",
       "<p>5 rows × 22 columns</p>\n",
       "</div>"
      ],
      "text/plain": [
       "              timestamp  heartrate  steps  calories       gsr  skintemp  \\\n",
       "706 2016-04-22 11:46:00         80      0       1.6  0.000054      89.6   \n",
       "710 2016-04-22 11:50:00         81      0       1.3  0.000064      88.7   \n",
       "711 2016-04-22 11:51:00         85      0       1.4  0.000067      90.5   \n",
       "712 2016-04-22 11:52:00         82      0       1.5  0.000066      90.5   \n",
       "713 2016-04-22 11:53:00         90     15       2.1  0.000060      90.5   \n",
       "\n",
       "     airtemp excitement  happy   calm  ...    angry hungry  tired  bored  \\\n",
       "706     88.7      False  False  False  ...    False  False  False  False   \n",
       "710     87.8      False  False  False  ...    False  False  False  False   \n",
       "711     87.8      False  False  False  ...    False  False  False  False   \n",
       "712     87.8      False  False  False  ...    False  False  False  False   \n",
       "713     88.7      False  False  False  ...    False  False  False  False   \n",
       "\n",
       "    exhaca ansaan   exha   haca   anan   ansa  \n",
       "706  False  False  False  False  False  False  \n",
       "710  False  False  False  False  False  False  \n",
       "711  False  False  False  False  False  False  \n",
       "712  False  False  False  False  False  False  \n",
       "713  False  False  False  False  False  False  \n",
       "\n",
       "[5 rows x 22 columns]"
      ]
     },
     "execution_count": 201,
     "metadata": {},
     "output_type": "execute_result"
    }
   ],
   "source": [
    "totalData.head(5)"
   ]
  },
  {
   "cell_type": "code",
   "execution_count": 202,
   "metadata": {
    "collapsed": false
   },
   "outputs": [],
   "source": [
    "# find day of week (0-6, Mon-Sun)\n",
    "totalData['weekday'] = totalData['timestamp'].dt.weekday\n",
    "totalData['month'] = totalData['timestamp'].dt.month\n",
    "totalData['hour'] = totalData['timestamp'].dt.hour\n",
    "totalData['min'] = totalData['timestamp'].dt.minute\n",
    "\n",
    "# print(totalData.shape)\n",
    "# print(totalData.head(5))\n",
    "# print(totalData['timestamp'].dt.minute)"
   ]
  },
  {
   "cell_type": "code",
   "execution_count": 203,
   "metadata": {
    "collapsed": false
   },
   "outputs": [
    {
     "name": "stdout",
     "output_type": "stream",
     "text": [
      "[[11]\n",
      " [11]\n",
      " [11]\n",
      " ..., \n",
      " [23]\n",
      " [23]\n",
      " [23]]\n"
     ]
    }
   ],
   "source": [
    "heartrate = totalData.iloc[:, 1].values.reshape(totalData.shape[0], 1)\n",
    "steps = totalData.iloc[:, 2].values.reshape(totalData.shape[0], 1)\n",
    "calories = totalData.iloc[:, 3].values.reshape(totalData.shape[0], 1)\n",
    "gsr = totalData.iloc[:, 4].values.reshape(totalData.shape[0], 1)\n",
    "skintemp = totalData.iloc[:, 5].values.reshape(totalData.shape[0], 1)\n",
    "airtemp = totalData.iloc[:, 6].values.reshape(totalData.shape[0], 1)\n",
    "\n",
    "# DayOfWeek = totalData.iloc[:, 25].values.reshape(totalData.shape[0], 1)\n",
    "# Month = totalData.iloc[:, 26].values.reshape(totalData.shape[0], 1)\n",
    "weekday = totalData['weekday'].values.reshape(totalData.shape[0], 1)\n",
    "# month = totalData.iloc[:, 29].values.reshape(totalData.shape[0], 1)\n",
    "hour = totalData['hour'].values.reshape(totalData.shape[0], 1)\n",
    "curmin = totalData['min'].values.reshape(totalData.shape[0], 1)\n",
    "\n",
    "print(hour)"
   ]
  },
  {
   "cell_type": "code",
   "execution_count": 204,
   "metadata": {
    "collapsed": true
   },
   "outputs": [],
   "source": [
    "totalData.to_csv('newsarahTotal.csv')"
   ]
  },
  {
   "cell_type": "code",
   "execution_count": 205,
   "metadata": {
    "collapsed": false
   },
   "outputs": [
    {
     "data": {
      "text/plain": [
       "(17223, 7)"
      ]
     },
     "execution_count": 205,
     "metadata": {},
     "output_type": "execute_result"
    }
   ],
   "source": [
    "# concatenate to numpy dataset\n",
    "X = np.concatenate((\n",
    "        heartrate, \n",
    "        steps, \n",
    "        calories, \n",
    "        gsr, \n",
    "        skintemp, \n",
    "        airtemp,\n",
    "        weekday\n",
    "#         hour\n",
    "#         curmin\n",
    "    ), axis=1)\n",
    "\n",
    "X.shape"
   ]
  },
  {
   "cell_type": "markdown",
   "metadata": {},
   "source": [
    "# Positive ( Excited, Happy, Calm)"
   ]
  },
  {
   "cell_type": "code",
   "execution_count": 206,
   "metadata": {
    "collapsed": false
   },
   "outputs": [
    {
     "data": {
      "text/plain": [
       "(17223,)"
      ]
     },
     "execution_count": 206,
     "metadata": {},
     "output_type": "execute_result"
    }
   ],
   "source": [
    "# define y\n",
    "\n",
    "\n",
    "y = totalData.exhaca.values\n",
    "\n",
    "# y = totalData.excitement.values\n",
    "y.shape"
   ]
  },
  {
   "cell_type": "code",
   "execution_count": 207,
   "metadata": {
    "collapsed": false
   },
   "outputs": [],
   "source": [
    "# create training and test sets\n",
    "from sklearn.cross_validation import train_test_split\n",
    "#\n",
    "X_train, X_test, y_train, y_test = train_test_split(\n",
    "         X, y, test_size=0.3, random_state=0)"
   ]
  },
  {
   "cell_type": "code",
   "execution_count": 208,
   "metadata": {
    "collapsed": false
   },
   "outputs": [],
   "source": [
    "# # feature scaling\n",
    "from sklearn.preprocessing import StandardScaler\n",
    "sc = StandardScaler(with_mean=False)\n",
    "sc.fit(X_train)\n",
    "X_train_std = sc.transform(X_train)\n",
    "X_test_std = sc.transform(X_test)"
   ]
  },
  {
   "cell_type": "code",
   "execution_count": 209,
   "metadata": {
    "collapsed": true
   },
   "outputs": [],
   "source": [
    "# report on training and test sets\n",
    "global SVMerror, SVMacc, SVMtp, SVMtn, LRerror, LRacc, LRtp, LRtn, NBerror, NBacc, NBtp, NBtn, Perror, Pacc, Ptp, Ptn\n",
    "\n",
    "\n",
    "\n",
    "def print_results(model):\n",
    "    #print('Error rate on training set: ')\n",
    "    erTRAIN = ((y_train != y_pred).sum() / X_train.shape[0])\n",
    "    #print('Accuracy rate on training set: ')\n",
    "    AccTRAIN = (1 - (y_train != y_pred).sum() / X_train.shape[0])\n",
    "    #print('True positive rate on training tet:')\n",
    "    TruPosTRAIN = ((y_train==True) & (y_pred==True)).sum() / y_train.sum()\n",
    "    #TruNegTEST = (((y_train==False) & (y_pred_train==False)).sum() / (y_train.shape[0] - y_train.sum()))\n",
    "    #print('**************')\n",
    "    #('Error rate on test set: ')\n",
    "    erTEST = ((y_test != y_pred_test).sum() / X_test.shape[0])\n",
    "    #print('Accuracy rate on test set: ')\n",
    "    AccTEST = (1 - (y_test != y_pred_test).sum() / X_test.shape[0])\n",
    "    #print('True positive rate on test set')\n",
    "    TruPosTEST = (((y_test==True) & (y_pred_test==True)).sum() / y_test.sum())\n",
    "    #print('True negative rate on test set')\n",
    "    TruNegTEST = (((y_test==False) & (y_pred_test==False)).sum() / (y_test.shape[0] - y_test.sum()))\n",
    "    data_rows = [('Error Rate', erTRAIN, erTEST),\n",
    "                 ('Accuracy Rate', AccTRAIN, AccTEST),\n",
    "                 ('True Positives', TruPosTRAIN, TruPosTEST),\n",
    "                 ('True Negatives', '--', TruNegTEST)]\n",
    "    t = Table(rows=data_rows, names=(model, 'Training Set', 'Test Set'), meta={'name': model + ': Training and Test Set Results'})\n",
    "    print(t)\n",
    "    if model == 'SVM':\n",
    "        SVMerror = erTEST\n",
    "        SVMacc = AccTEST\n",
    "        SVMtp = TruPosTEST\n",
    "        SVMtn = TruNegTEST\n",
    "        return(SVMerror, SVMacc, SVMtp, SVMtn)\n",
    "    elif model == 'Logistic Regression':\n",
    "        LRerror = erTEST\n",
    "        LRacc = AccTEST\n",
    "        LRtp = TruPosTEST\n",
    "        LRtn = TruNegTEST\n",
    "        return(LRerror, LRacc, LRtp, LRtn)\n",
    "    elif model == 'Naive Bayes':\n",
    "        NBerror = erTEST\n",
    "        NBacc = AccTEST\n",
    "        NBtp = TruPosTEST\n",
    "        NBtn = TruNegTEST\n",
    "        return(NBerror, NBacc, NBtp, NBtn)\n",
    "    elif model == 'Perceptron':\n",
    "        Perror = erTEST\n",
    "        Pacc = AccTEST\n",
    "        Ptp = TruPosTEST\n",
    "        Ptn = TruNegTEST\n",
    "        return(Perror, Pacc, Ptp, Ptn)\n",
    "    print('done')\n",
    "      \n",
    "    #t.show_in_browser(jsviewer=True) \n",
    "    \n",
    "    \n",
    "def all_models_table():\n",
    "    all_rows = [('SVM', SVMerror, SVMacc, SVMtp, SVMtn),\n",
    "            ('Logistic Regression', LRerror, LRacc, LRtp, LRtn),\n",
    "            ('Naive Bayes', NBerror, NBacc, NBtp, NBtn),\n",
    "            ('Perceptron', Perror, Pacc, Ptp, Ptn)]\n",
    "    tt = Table(rows=all_rows, names=('', 'Error Rate', 'Accuracy', 'True +', 'True -'), meta={'3/15/2016'})\n",
    "    print(tt)"
   ]
  },
  {
   "cell_type": "markdown",
   "metadata": {},
   "source": [
    "## Positive ( Excited, Happy, Calm) Model Results"
   ]
  },
  {
   "cell_type": "code",
   "execution_count": 210,
   "metadata": {
    "collapsed": false
   },
   "outputs": [
    {
     "name": "stdout",
     "output_type": "stream",
     "text": [
      "     SVM        Training Set     Test Set   \n",
      "-------------- -------------- --------------\n",
      "    Error Rate 0.363138686131 0.359783239791\n",
      " Accuracy Rate 0.636861313869 0.640216760209\n",
      "True Positives  0.72860277981 0.731932773109\n",
      "True Negatives             -- 0.612773447322\n"
     ]
    },
    {
     "data": {
      "text/plain": [
       "(0.3597832397909812,\n",
       " 0.64021676020901874,\n",
       " 0.73193277310924365,\n",
       " 0.61277344732210204)"
      ]
     },
     "execution_count": 210,
     "metadata": {},
     "output_type": "execute_result"
    }
   ],
   "source": [
    "# MODEL: SVM, linear\n",
    "from sklearn import linear_model\n",
    "clf = linear_model.SGDClassifier()\n",
    "clf.fit(X_train_std, y_train)\n",
    "y_pred = clf.fit(X_train, y_train).predict(X_train)\n",
    "y_pred_test = clf.predict(X_test)\n",
    "print_results('SVM')"
   ]
  },
  {
   "cell_type": "code",
   "execution_count": 211,
   "metadata": {
    "collapsed": false
   },
   "outputs": [
    {
     "name": "stdout",
     "output_type": "stream",
     "text": [
      "Logistic Regression  Training Set     Test Set   \n",
      "------------------- -------------- --------------\n",
      "         Error Rate 0.264764432648 0.270369653571\n",
      "      Accuracy Rate 0.735235567352 0.729630346429\n",
      "     True Positives 0.389173372348 0.385714285714\n",
      "     True Negatives             -- 0.832537088257\n"
     ]
    },
    {
     "data": {
      "text/plain": [
       "(0.27036965357073739,\n",
       " 0.72963034642926261,\n",
       " 0.38571428571428573,\n",
       " 0.83253708825748052)"
      ]
     },
     "execution_count": 211,
     "metadata": {},
     "output_type": "execute_result"
    }
   ],
   "source": [
    "# MODEL: logistic regression\n",
    "from sklearn import linear_model\n",
    "clf = linear_model.SGDClassifier(loss='log', n_iter=50000, alpha=0.0001)\n",
    "clf.fit(X_train_std, y_train)\n",
    "y_pred = clf.fit(X_train, y_train).predict(X_train)\n",
    "y_pred_test = clf.predict(X_test)\n",
    "print_results('Logistic Regression')"
   ]
  },
  {
   "cell_type": "code",
   "execution_count": 181,
   "metadata": {
    "collapsed": false
   },
   "outputs": [
    {
     "name": "stdout",
     "output_type": "stream",
     "text": [
      "[[ 0.85493352 -0.14848222 -3.17003065 -0.06323168  0.26426268 -0.58902858\n",
      "   0.15321813]]\n",
      "[-1.64868109]\n",
      "[[  3.52759580e+00   0.00000000e+00   1.02846809e-01   1.47285951e-04\n",
      "    1.46583562e+01   1.32235531e+01   2.83422731e+00]\n",
      " [  4.07878264e+00   0.00000000e+00   9.34970994e-02   1.54699673e-04\n",
      "    1.47999068e+01   1.33524935e+01   2.83422731e+00]\n",
      " [  5.84258054e+00   4.60966496e-01   1.30895939e-01   1.57170914e-04\n",
      "    1.42337042e+01   1.25788512e+01   4.72371218e-01]\n",
      " [  4.51973211e+00   0.00000000e+00   1.02846809e-01   1.24056288e-04\n",
      "    1.21104445e+01   1.05158050e+01   9.44742436e-01]\n",
      " [  4.68508817e+00   0.00000000e+00   1.49595359e-01   1.41602097e-04\n",
      "    1.33844003e+01   1.16762684e+01   9.44742436e-01]]\n",
      "[[  6.40000000e+01   0.00000000e+00   1.10000000e+00   5.96000000e-05\n",
      "    9.32000000e+01   9.23000000e+01   6.00000000e+00]\n",
      " [  7.40000000e+01   0.00000000e+00   1.00000000e+00   6.26000000e-05\n",
      "    9.41000000e+01   9.32000000e+01   6.00000000e+00]\n",
      " [  1.06000000e+02   1.20000000e+01   1.40000000e+00   6.36000000e-05\n",
      "    9.05000000e+01   8.78000000e+01   1.00000000e+00]\n",
      " [  8.20000000e+01   0.00000000e+00   1.10000000e+00   5.02000000e-05\n",
      "    7.70000000e+01   7.34000000e+01   2.00000000e+00]\n",
      " [  8.50000000e+01   0.00000000e+00   1.60000000e+00   5.73000000e-05\n",
      "    8.51000000e+01   8.15000000e+01   2.00000000e+00]]\n"
     ]
    }
   ],
   "source": [
    "print(clf.coef_)\n",
    "print(clf.intercept_)\n",
    "print(X_train_std[0:5])\n",
    "print(X_train[0:5])\n",
    "# heartrate, steps, calories, gsr, skintemp, airtemp, weekday, hour, curmin\n"
   ]
  },
  {
   "cell_type": "code",
   "execution_count": 172,
   "metadata": {
    "collapsed": false
   },
   "outputs": [
    {
     "name": "stdout",
     "output_type": "stream",
     "text": [
      " Naive Bayes    Training Set      Test Set   \n",
      "-------------- -------------- ---------------\n",
      "    Error Rate 0.239851178173  0.254822530864\n",
      " Accuracy Rate 0.760148821827  0.745177469136\n",
      "True Positives 0.035237388724 0.0274636510501\n",
      "True Negatives             --  0.970349721237\n"
     ]
    },
    {
     "data": {
      "text/plain": [
       "(0.25482253086419754,\n",
       " 0.74517746913580241,\n",
       " 0.027463651050080775,\n",
       " 0.97034972123669538)"
      ]
     },
     "execution_count": 172,
     "metadata": {},
     "output_type": "execute_result"
    }
   ],
   "source": [
    "# MODEL: Naive Bayes\n",
    "from sklearn.naive_bayes import MultinomialNB\n",
    "clf = MultinomialNB()\n",
    "clf.fit(X_train_std, y_train)\n",
    "y_pred = clf.fit(X_train_std, y_train).predict(X_train_std)\n",
    "y_pred_test = clf.predict(X_test_std)\n",
    "print_results('Naive Bayes')"
   ]
  },
  {
   "cell_type": "code",
   "execution_count": 44,
   "metadata": {
    "collapsed": false
   },
   "outputs": [
    {
     "name": "stdout",
     "output_type": "stream",
     "text": [
      "  Perceptron     Training Set       Test Set    \n",
      "-------------- ---------------- ----------------\n",
      "    Error Rate   0.224803637867    0.24112654321\n",
      " Accuracy Rate   0.775196362133    0.75887345679\n",
      "True Positives 0.00259643916914 0.00242326332795\n",
      "True Negatives               --    0.99619868221\n"
     ]
    },
    {
     "data": {
      "text/plain": [
       "(0.24112654320987653,\n",
       " 0.75887345679012341,\n",
       " 0.0024232633279483036,\n",
       " 0.99619868220983276)"
      ]
     },
     "execution_count": 44,
     "metadata": {},
     "output_type": "execute_result"
    }
   ],
   "source": [
    "# Perceptron\n",
    "from sklearn import linear_model\n",
    "clf = linear_model.SGDClassifier(loss='perceptron')\n",
    "clf.fit(X_train_std, y_train)\n",
    "y_pred = clf.fit(X_train_std, y_train).predict(X_train_std)\n",
    "y_pred_test = clf.predict(X_test_std)\n",
    "print_results('Perceptron')"
   ]
  },
  {
   "cell_type": "markdown",
   "metadata": {},
   "source": [
    "# Negative ( Anxious, Sad, Angry)"
   ]
  },
  {
   "cell_type": "code",
   "execution_count": 45,
   "metadata": {
    "collapsed": false
   },
   "outputs": [
    {
     "data": {
      "text/plain": [
       "(17279,)"
      ]
     },
     "execution_count": 45,
     "metadata": {},
     "output_type": "execute_result"
    }
   ],
   "source": [
    "# define y\n",
    "y = totalData.ansaan.values\n",
    "y.shape"
   ]
  },
  {
   "cell_type": "code",
   "execution_count": 46,
   "metadata": {
    "collapsed": true
   },
   "outputs": [],
   "source": [
    "# create training and test sets\n",
    "from sklearn.cross_validation import train_test_split\n",
    "\n",
    "X_train, X_test, y_train, y_test = train_test_split(\n",
    "         X, y, test_size=0.3, random_state=0)"
   ]
  },
  {
   "cell_type": "code",
   "execution_count": 47,
   "metadata": {
    "collapsed": true
   },
   "outputs": [],
   "source": [
    "# feature scaling\n",
    "from sklearn.preprocessing import StandardScaler\n",
    "sc = StandardScaler(with_mean=False)\n",
    "sc.fit(X_train)\n",
    "X_train_std = sc.transform(X_train)\n",
    "X_test_std = sc.transform(X_test)"
   ]
  },
  {
   "cell_type": "markdown",
   "metadata": {},
   "source": [
    "## Negative ( Anxious, Sad, Angry) Model Results"
   ]
  },
  {
   "cell_type": "code",
   "execution_count": 48,
   "metadata": {
    "collapsed": false
   },
   "outputs": [
    {
     "name": "stdout",
     "output_type": "stream",
     "text": [
      "     SVM         Training Set      Test Set   \n",
      "-------------- --------------- ---------------\n",
      "    Error Rate 0.0884663083919 0.0887345679012\n",
      " Accuracy Rate  0.911533691608  0.911265432099\n",
      "True Positives  0.292775665399  0.269058295964\n",
      "True Negatives              --  0.940133037694\n"
     ]
    },
    {
     "data": {
      "text/plain": [
       "(0.088734567901234573,\n",
       " 0.91126543209876543,\n",
       " 0.26905829596412556,\n",
       " 0.94013303769401335)"
      ]
     },
     "execution_count": 48,
     "metadata": {},
     "output_type": "execute_result"
    }
   ],
   "source": [
    "# MODEL: SVM, linear\n",
    "from sklearn import linear_model\n",
    "clf = linear_model.SGDClassifier()\n",
    "clf.fit(X_train_std, y_train)\n",
    "y_pred = clf.fit(X_train_std, y_train).predict(X_train_std)\n",
    "y_pred_test = clf.predict(X_test_std)\n",
    "print_results('SVM')"
   ]
  },
  {
   "cell_type": "code",
   "execution_count": 49,
   "metadata": {
    "collapsed": false
   },
   "outputs": [
    {
     "name": "stdout",
     "output_type": "stream",
     "text": [
      "Logistic Regression   Training Set      Test Set   \n",
      "------------------- --------------- ---------------\n",
      "         Error Rate 0.0434890450599 0.0430169753086\n",
      "      Accuracy Rate   0.95651095494  0.956983024691\n",
      "     True Positives             0.0             0.0\n",
      "     True Negatives              --             1.0\n"
     ]
    },
    {
     "data": {
      "text/plain": [
       "(0.043016975308641972, 0.95698302469135799, 0.0, 1.0)"
      ]
     },
     "execution_count": 49,
     "metadata": {},
     "output_type": "execute_result"
    }
   ],
   "source": [
    "# MODEL: logistic regression\n",
    "from sklearn import linear_model\n",
    "clf = linear_model.SGDClassifier(loss='log', n_iter=50, alpha=0.00001)\n",
    "clf.fit(X_train_std, y_train)\n",
    "y_pred = clf.fit(X_train_std, y_train).predict(X_train_std)\n",
    "y_pred_test = clf.predict(X_test_std)\n",
    "print_results('Logistic Regression')"
   ]
  },
  {
   "cell_type": "code",
   "execution_count": 50,
   "metadata": {
    "collapsed": false
   },
   "outputs": [
    {
     "name": "stdout",
     "output_type": "stream",
     "text": [
      " Naive Bayes     Training Set      Test Set   \n",
      "-------------- --------------- ---------------\n",
      "    Error Rate 0.0558081852005  0.052662037037\n",
      " Accuracy Rate    0.9441918148  0.947337962963\n",
      "True Positives 0.0684410646388 0.0627802690583\n",
      "True Negatives              --  0.987099375126\n"
     ]
    },
    {
     "data": {
      "text/plain": [
       "(0.052662037037037035,\n",
       " 0.94733796296296302,\n",
       " 0.062780269058295965,\n",
       " 0.98709937512598267)"
      ]
     },
     "execution_count": 50,
     "metadata": {},
     "output_type": "execute_result"
    }
   ],
   "source": [
    "# MODEL: Naive Bayes\n",
    "from sklearn.naive_bayes import MultinomialNB\n",
    "clf = MultinomialNB()\n",
    "clf.fit(X_train_std, y_train)\n",
    "y_pred = clf.fit(X_train_std, y_train).predict(X_train_std)\n",
    "y_pred_test = clf.predict(X_test_std)\n",
    "print_results('Naive Bayes')"
   ]
  },
  {
   "cell_type": "code",
   "execution_count": 51,
   "metadata": {
    "collapsed": false
   },
   "outputs": [
    {
     "name": "stdout",
     "output_type": "stream",
     "text": [
      "  Perceptron    Training Set     Test Set   \n",
      "-------------- -------------- --------------\n",
      "    Error Rate 0.434642414221 0.434992283951\n",
      " Accuracy Rate 0.565357585779 0.565007716049\n",
      "True Positives  0.98288973384 0.968609865471\n",
      "True Negatives             --   0.5468655513\n"
     ]
    },
    {
     "data": {
      "text/plain": [
       "(0.43499228395061729,\n",
       " 0.56500771604938271,\n",
       " 0.96860986547085204,\n",
       " 0.54686555130014114)"
      ]
     },
     "execution_count": 51,
     "metadata": {},
     "output_type": "execute_result"
    }
   ],
   "source": [
    "# Perceptron\n",
    "from sklearn import linear_model\n",
    "clf = linear_model.SGDClassifier(loss='perceptron')\n",
    "clf.fit(X_train_std, y_train)\n",
    "y_pred = clf.fit(X_train_std, y_train).predict(X_train_std)\n",
    "y_pred_test = clf.predict(X_test_std)\n",
    "print_results('Perceptron')"
   ]
  },
  {
   "cell_type": "markdown",
   "metadata": {},
   "source": [
    "# Happy/Calm "
   ]
  },
  {
   "cell_type": "code",
   "execution_count": 52,
   "metadata": {
    "collapsed": false
   },
   "outputs": [
    {
     "data": {
      "text/plain": [
       "(17279,)"
      ]
     },
     "execution_count": 52,
     "metadata": {},
     "output_type": "execute_result"
    }
   ],
   "source": [
    "# define y\n",
    "y = totalData.haca.values\n",
    "y.shape"
   ]
  },
  {
   "cell_type": "code",
   "execution_count": 53,
   "metadata": {
    "collapsed": true
   },
   "outputs": [],
   "source": [
    "# create training and test sets\n",
    "from sklearn.cross_validation import train_test_split\n",
    "\n",
    "X_train, X_test, y_train, y_test = train_test_split(\n",
    "         X, y, test_size=0.3, random_state=0)"
   ]
  },
  {
   "cell_type": "code",
   "execution_count": 54,
   "metadata": {
    "collapsed": true
   },
   "outputs": [],
   "source": [
    "# feature scaling\n",
    "from sklearn.preprocessing import StandardScaler\n",
    "sc = StandardScaler(with_mean=False)\n",
    "sc.fit(X_train)\n",
    "X_train_std = sc.transform(X_train)\n",
    "X_test_std = sc.transform(X_test)"
   ]
  },
  {
   "cell_type": "markdown",
   "metadata": {},
   "source": [
    "## Happy/Calm  Model Results"
   ]
  },
  {
   "cell_type": "code",
   "execution_count": 55,
   "metadata": {
    "collapsed": false
   },
   "outputs": [
    {
     "name": "stdout",
     "output_type": "stream",
     "text": [
      "     SVM        Training Set     Test Set   \n",
      "-------------- -------------- --------------\n",
      "    Error Rate  0.15221165771 0.149884259259\n",
      " Accuracy Rate  0.84778834229 0.850115740741\n",
      "True Positives 0.316776007498 0.304147465438\n",
      "True Negatives             --            0.9\n"
     ]
    },
    {
     "data": {
      "text/plain": [
       "(0.14988425925925927,\n",
       " 0.8501157407407407,\n",
       " 0.30414746543778803,\n",
       " 0.90000000000000002)"
      ]
     },
     "execution_count": 55,
     "metadata": {},
     "output_type": "execute_result"
    }
   ],
   "source": [
    "# MODEL: SVM, linear\n",
    "from sklearn import linear_model\n",
    "clf = linear_model.SGDClassifier()\n",
    "clf.fit(X_train_std, y_train)\n",
    "y_pred = clf.fit(X_train_std, y_train).predict(X_train_std)\n",
    "y_pred_test = clf.predict(X_test_std)\n",
    "print_results('SVM')"
   ]
  },
  {
   "cell_type": "code",
   "execution_count": 56,
   "metadata": {
    "collapsed": false
   },
   "outputs": [
    {
     "name": "stdout",
     "output_type": "stream",
     "text": [
      "Logistic Regression  Training Set      Test Set   \n",
      "------------------- -------------- ---------------\n",
      "         Error Rate 0.102025630426 0.0939429012346\n",
      "      Accuracy Rate 0.897974369574  0.906057098765\n",
      "     True Positives 0.204311152765  0.216589861751\n",
      "     True Negatives             --  0.969052631579\n"
     ]
    },
    {
     "data": {
      "text/plain": [
       "(0.093942901234567902,\n",
       " 0.90605709876543206,\n",
       " 0.21658986175115208,\n",
       " 0.96905263157894739)"
      ]
     },
     "execution_count": 56,
     "metadata": {},
     "output_type": "execute_result"
    }
   ],
   "source": [
    "# MODEL: logistic regression\n",
    "from sklearn import linear_model\n",
    "clf = linear_model.SGDClassifier(loss='log', n_iter=50, alpha=0.00001)\n",
    "clf.fit(X_train_std, y_train)\n",
    "y_pred = clf.fit(X_train_std, y_train).predict(X_train_std)\n",
    "y_pred_test = clf.predict(X_test_std)\n",
    "print_results('Logistic Regression')"
   ]
  },
  {
   "cell_type": "code",
   "execution_count": 57,
   "metadata": {
    "collapsed": false
   },
   "outputs": [
    {
     "name": "stdout",
     "output_type": "stream",
     "text": [
      " Naive Bayes     Training Set       Test Set   \n",
      "-------------- ---------------- ---------------\n",
      "    Error Rate  0.0915254237288 0.0868055555556\n",
      " Accuracy Rate   0.908474576271  0.913194444444\n",
      "True Positives 0.00656044985942             0.0\n",
      "True Negatives               --  0.996631578947\n"
     ]
    },
    {
     "data": {
      "text/plain": [
       "(0.086805555555555552, 0.91319444444444442, 0.0, 0.99663157894736842)"
      ]
     },
     "execution_count": 57,
     "metadata": {},
     "output_type": "execute_result"
    }
   ],
   "source": [
    "# MODEL: Naive Bayes\n",
    "from sklearn.naive_bayes import MultinomialNB\n",
    "clf = MultinomialNB()\n",
    "clf.fit(X_train_std, y_train)\n",
    "y_pred = clf.fit(X_train_std, y_train).predict(X_train_std)\n",
    "y_pred_test = clf.predict(X_test_std)\n",
    "print_results('Naive Bayes')"
   ]
  },
  {
   "cell_type": "code",
   "execution_count": 58,
   "metadata": {
    "collapsed": false
   },
   "outputs": [
    {
     "name": "stdout",
     "output_type": "stream",
     "text": [
      "  Perceptron     Training Set      Test Set    \n",
      "-------------- --------------- ----------------\n",
      "    Error Rate 0.0892930963208  0.0842978395062\n",
      " Accuracy Rate  0.910706903679   0.915702160494\n",
      "True Positives             0.0 0.00230414746544\n",
      "True Negatives              --   0.999157894737\n"
     ]
    },
    {
     "data": {
      "text/plain": [
       "(0.084297839506172839,\n",
       " 0.91570216049382713,\n",
       " 0.002304147465437788,\n",
       " 0.99915789473684213)"
      ]
     },
     "execution_count": 58,
     "metadata": {},
     "output_type": "execute_result"
    }
   ],
   "source": [
    "# Perceptron\n",
    "from sklearn import linear_model\n",
    "clf = linear_model.SGDClassifier(loss='perceptron')\n",
    "clf.fit(X_train_std, y_train)\n",
    "y_pred = clf.fit(X_train_std, y_train).predict(X_train_std)\n",
    "y_pred_test = clf.predict(X_test_std)\n",
    "print_results('Perceptron')"
   ]
  },
  {
   "cell_type": "markdown",
   "metadata": {},
   "source": [
    "# Anxious/Angry"
   ]
  },
  {
   "cell_type": "code",
   "execution_count": 59,
   "metadata": {
    "collapsed": false
   },
   "outputs": [
    {
     "data": {
      "text/plain": [
       "(17279,)"
      ]
     },
     "execution_count": 59,
     "metadata": {},
     "output_type": "execute_result"
    }
   ],
   "source": [
    "# define y\n",
    "y = totalData.anan.values\n",
    "y.shape"
   ]
  },
  {
   "cell_type": "code",
   "execution_count": 60,
   "metadata": {
    "collapsed": true
   },
   "outputs": [],
   "source": [
    "# create training and test sets\n",
    "from sklearn.cross_validation import train_test_split\n",
    "\n",
    "X_train, X_test, y_train, y_test = train_test_split(\n",
    "         X, y, test_size=0.3, random_state=0)"
   ]
  },
  {
   "cell_type": "code",
   "execution_count": 61,
   "metadata": {
    "collapsed": true
   },
   "outputs": [],
   "source": [
    "# feature scaling\n",
    "from sklearn.preprocessing import StandardScaler\n",
    "sc = StandardScaler(with_mean=False)\n",
    "sc.fit(X_train)\n",
    "X_train_std = sc.transform(X_train)\n",
    "X_test_std = sc.transform(X_test)"
   ]
  },
  {
   "cell_type": "markdown",
   "metadata": {},
   "source": [
    "## Anxious/Angry Model Results"
   ]
  },
  {
   "cell_type": "code",
   "execution_count": 62,
   "metadata": {
    "collapsed": false
   },
   "outputs": [
    {
     "name": "stdout",
     "output_type": "stream",
     "text": [
      "     SVM         Training Set      Test Set   \n",
      "-------------- --------------- ---------------\n",
      "    Error Rate 0.0116577097974 0.0127314814815\n",
      " Accuracy Rate  0.988342290203  0.987268518519\n",
      "True Positives             0.0             0.0\n",
      "True Negatives              --  0.998634146341\n"
     ]
    },
    {
     "data": {
      "text/plain": [
       "(0.012731481481481481, 0.98726851851851849, 0.0, 0.99863414634146341)"
      ]
     },
     "execution_count": 62,
     "metadata": {},
     "output_type": "execute_result"
    }
   ],
   "source": [
    "# MODEL: SVM, linear\n",
    "from sklearn import linear_model\n",
    "clf = linear_model.SGDClassifier()\n",
    "clf.fit(X_train_std, y_train)\n",
    "y_pred = clf.fit(X_train_std, y_train).predict(X_train_std)\n",
    "y_pred_test = clf.predict(X_test_std)\n",
    "print_results('SVM')"
   ]
  },
  {
   "cell_type": "code",
   "execution_count": 63,
   "metadata": {
    "collapsed": false
   },
   "outputs": [
    {
     "name": "stdout",
     "output_type": "stream",
     "text": [
      "Logistic Regression   Training Set       Test Set   \n",
      "------------------- ---------------- ---------------\n",
      "         Error Rate 0.00950806118231 0.0113811728395\n",
      "      Accuracy Rate   0.990491938818   0.98861882716\n",
      "     True Positives              0.0             0.0\n",
      "     True Negatives               --             1.0\n"
     ]
    },
    {
     "data": {
      "text/plain": [
       "(0.011381172839506173, 0.98861882716049387, 0.0, 1.0)"
      ]
     },
     "execution_count": 63,
     "metadata": {},
     "output_type": "execute_result"
    }
   ],
   "source": [
    "# MODEL: logistic regression\n",
    "from sklearn import linear_model\n",
    "clf = linear_model.SGDClassifier(loss='log', n_iter=50, alpha=0.00001)\n",
    "clf.fit(X_train_std, y_train)\n",
    "y_pred = clf.fit(X_train_std, y_train).predict(X_train_std)\n",
    "y_pred_test = clf.predict(X_test_std)\n",
    "print_results('Logistic Regression')"
   ]
  },
  {
   "cell_type": "code",
   "execution_count": 64,
   "metadata": {
    "collapsed": false
   },
   "outputs": [
    {
     "name": "stdout",
     "output_type": "stream",
     "text": [
      " Naive Bayes     Training Set       Test Set   \n",
      "-------------- ---------------- ---------------\n",
      "    Error Rate 0.00967341876809 0.0117669753086\n",
      " Accuracy Rate   0.990326581232  0.988233024691\n",
      "True Positives              0.0             0.0\n",
      "True Negatives               --  0.999609756098\n"
     ]
    },
    {
     "data": {
      "text/plain": [
       "(0.011766975308641976, 0.98823302469135799, 0.0, 0.99960975609756098)"
      ]
     },
     "execution_count": 64,
     "metadata": {},
     "output_type": "execute_result"
    }
   ],
   "source": [
    "# MODEL: Naive Bayes\n",
    "from sklearn.naive_bayes import MultinomialNB\n",
    "clf = MultinomialNB()\n",
    "clf.fit(X_train_std, y_train)\n",
    "y_pred = clf.fit(X_train_std, y_train).predict(X_train_std)\n",
    "y_pred_test = clf.predict(X_test_std)\n",
    "print_results('Naive Bayes')"
   ]
  },
  {
   "cell_type": "code",
   "execution_count": 65,
   "metadata": {
    "collapsed": false
   },
   "outputs": [
    {
     "name": "stdout",
     "output_type": "stream",
     "text": [
      "  Perceptron     Training Set       Test Set   \n",
      "-------------- ---------------- ---------------\n",
      "    Error Rate 0.00950806118231 0.0115740740741\n",
      " Accuracy Rate   0.990491938818  0.988425925926\n",
      "True Positives              0.0             0.0\n",
      "True Negatives               --  0.999804878049\n"
     ]
    },
    {
     "data": {
      "text/plain": [
       "(0.011574074074074073, 0.98842592592592593, 0.0, 0.99980487804878049)"
      ]
     },
     "execution_count": 65,
     "metadata": {},
     "output_type": "execute_result"
    }
   ],
   "source": [
    "# Perceptron\n",
    "from sklearn import linear_model\n",
    "clf = linear_model.SGDClassifier(loss='perceptron')\n",
    "clf.fit(X_train_std, y_train)\n",
    "y_pred = clf.fit(X_train_std, y_train).predict(X_train_std)\n",
    "y_pred_test = clf.predict(X_test_std)\n",
    "print_results('Perceptron')"
   ]
  },
  {
   "cell_type": "markdown",
   "metadata": {},
   "source": [
    "# Excited/Happy"
   ]
  },
  {
   "cell_type": "code",
   "execution_count": 66,
   "metadata": {
    "collapsed": false
   },
   "outputs": [
    {
     "data": {
      "text/plain": [
       "(17279,)"
      ]
     },
     "execution_count": 66,
     "metadata": {},
     "output_type": "execute_result"
    }
   ],
   "source": [
    "# define y\n",
    "y = totalData.exha.values\n",
    "y.shape"
   ]
  },
  {
   "cell_type": "code",
   "execution_count": 67,
   "metadata": {
    "collapsed": true
   },
   "outputs": [],
   "source": [
    "# create training and test sets\n",
    "from sklearn.cross_validation import train_test_split\n",
    "\n",
    "X_train, X_test, y_train, y_test = train_test_split(\n",
    "         X, y, test_size=0.3, random_state=0)"
   ]
  },
  {
   "cell_type": "code",
   "execution_count": 68,
   "metadata": {
    "collapsed": true
   },
   "outputs": [],
   "source": [
    "# feature scaling\n",
    "from sklearn.preprocessing import StandardScaler\n",
    "sc = StandardScaler(with_mean=False)\n",
    "sc.fit(X_train)\n",
    "X_train_std = sc.transform(X_train)\n",
    "X_test_std = sc.transform(X_test)"
   ]
  },
  {
   "cell_type": "markdown",
   "metadata": {},
   "source": [
    "## Excited/Happy Model Values"
   ]
  },
  {
   "cell_type": "code",
   "execution_count": 69,
   "metadata": {
    "collapsed": false
   },
   "outputs": [
    {
     "name": "stdout",
     "output_type": "stream",
     "text": [
      "     SVM         Training Set      Test Set    \n",
      "-------------- --------------- ----------------\n",
      "    Error Rate 0.0806945018603  0.0825617283951\n",
      " Accuracy Rate   0.91930549814   0.917438271605\n",
      "True Positives 0.0021436227224 0.00246305418719\n",
      "True Negatives              --   0.995186270406\n"
     ]
    },
    {
     "data": {
      "text/plain": [
       "(0.082561728395061734,\n",
       " 0.91743827160493829,\n",
       " 0.0024630541871921183,\n",
       " 0.99518627040602758)"
      ]
     },
     "execution_count": 69,
     "metadata": {},
     "output_type": "execute_result"
    }
   ],
   "source": [
    "# MODEL: SVM, linear\n",
    "from sklearn import linear_model\n",
    "clf = linear_model.SGDClassifier()\n",
    "clf.fit(X_train_std, y_train)\n",
    "y_pred = clf.fit(X_train_std, y_train).predict(X_train_std)\n",
    "y_pred_test = clf.predict(X_test_std)\n",
    "print_results('SVM')"
   ]
  },
  {
   "cell_type": "code",
   "execution_count": 70,
   "metadata": {
    "collapsed": false
   },
   "outputs": [
    {
     "name": "stdout",
     "output_type": "stream",
     "text": [
      "Logistic Regression   Training Set      Test Set   \n",
      "------------------- --------------- ---------------\n",
      "         Error Rate 0.0774700289376 0.0785108024691\n",
      "      Accuracy Rate  0.922529971062  0.921489197531\n",
      "     True Positives             0.0             0.0\n",
      "     True Negatives              --  0.999790707409\n"
     ]
    },
    {
     "data": {
      "text/plain": [
       "(0.078510802469135804, 0.92148919753086422, 0.0, 0.9997907074089577)"
      ]
     },
     "execution_count": 70,
     "metadata": {},
     "output_type": "execute_result"
    }
   ],
   "source": [
    "# MODEL: logistic regression\n",
    "from sklearn import linear_model\n",
    "clf = linear_model.SGDClassifier(loss='log', n_iter=50, alpha=0.00001)\n",
    "clf.fit(X_train_std, y_train)\n",
    "y_pred = clf.fit(X_train_std, y_train).predict(X_train_std)\n",
    "y_pred_test = clf.predict(X_test_std)\n",
    "print_results('Logistic Regression')"
   ]
  },
  {
   "cell_type": "code",
   "execution_count": 71,
   "metadata": {
    "collapsed": false
   },
   "outputs": [
    {
     "name": "stdout",
     "output_type": "stream",
     "text": [
      " Naive Bayes     Training Set      Test Set    \n",
      "-------------- --------------- ----------------\n",
      "    Error Rate 0.0812732534105  0.0829475308642\n",
      " Accuracy Rate  0.918726746589   0.917052469136\n",
      "True Positives 0.0096463022508 0.00492610837438\n",
      "True Negatives              --   0.994558392633\n"
     ]
    },
    {
     "data": {
      "text/plain": [
       "(0.082947530864197525,\n",
       " 0.91705246913580252,\n",
       " 0.0049261083743842365,\n",
       " 0.9945583926329008)"
      ]
     },
     "execution_count": 71,
     "metadata": {},
     "output_type": "execute_result"
    }
   ],
   "source": [
    "# MODEL: Naive Bayes\n",
    "from sklearn.naive_bayes import MultinomialNB\n",
    "clf = MultinomialNB()\n",
    "clf.fit(X_train_std, y_train)\n",
    "y_pred = clf.fit(X_train_std, y_train).predict(X_train_std)\n",
    "y_pred_test = clf.predict(X_test_std)\n",
    "print_results('Naive Bayes')"
   ]
  },
  {
   "cell_type": "code",
   "execution_count": 72,
   "metadata": {
    "collapsed": false
   },
   "outputs": [
    {
     "name": "stdout",
     "output_type": "stream",
     "text": [
      "  Perceptron     Training Set      Test Set   \n",
      "-------------- --------------- ---------------\n",
      "    Error Rate 0.0780487804878 0.0790895061728\n",
      " Accuracy Rate  0.921951219512  0.920910493827\n",
      "True Positives 0.0010718113612             0.0\n",
      "True Negatives              --  0.999162829636\n"
     ]
    },
    {
     "data": {
      "text/plain": [
       "(0.07908950617283951, 0.9209104938271605, 0.0, 0.99916282963583092)"
      ]
     },
     "execution_count": 72,
     "metadata": {},
     "output_type": "execute_result"
    }
   ],
   "source": [
    "# Perceptron\n",
    "from sklearn import linear_model\n",
    "clf = linear_model.SGDClassifier(loss='perceptron')\n",
    "clf.fit(X_train_std, y_train)\n",
    "y_pred = clf.fit(X_train_std, y_train).predict(X_train_std)\n",
    "y_pred_test = clf.predict(X_test_std)\n",
    "print_results('Perceptron')"
   ]
  },
  {
   "cell_type": "markdown",
   "metadata": {},
   "source": [
    "# Anxious/Sad"
   ]
  },
  {
   "cell_type": "code",
   "execution_count": 73,
   "metadata": {
    "collapsed": false
   },
   "outputs": [
    {
     "data": {
      "text/plain": [
       "(17279,)"
      ]
     },
     "execution_count": 73,
     "metadata": {},
     "output_type": "execute_result"
    }
   ],
   "source": [
    "# define y\n",
    "y = totalData.ansa.values\n",
    "y.shape"
   ]
  },
  {
   "cell_type": "code",
   "execution_count": 74,
   "metadata": {
    "collapsed": true
   },
   "outputs": [],
   "source": [
    "# create training and test sets\n",
    "from sklearn.cross_validation import train_test_split\n",
    "\n",
    "X_train, X_test, y_train, y_test = train_test_split(\n",
    "         X, y, test_size=0.3, random_state=0)"
   ]
  },
  {
   "cell_type": "code",
   "execution_count": 75,
   "metadata": {
    "collapsed": true
   },
   "outputs": [],
   "source": [
    "# feature scaling\n",
    "from sklearn.preprocessing import StandardScaler\n",
    "sc = StandardScaler(with_mean=False)\n",
    "sc.fit(X_train)\n",
    "X_train_std = sc.transform(X_train)\n",
    "X_test_std = sc.transform(X_test)"
   ]
  },
  {
   "cell_type": "markdown",
   "metadata": {},
   "source": [
    "## Anxious/Sad Model Results"
   ]
  },
  {
   "cell_type": "code",
   "execution_count": 76,
   "metadata": {
    "collapsed": false
   },
   "outputs": [
    {
     "name": "stdout",
     "output_type": "stream",
     "text": [
      "     SVM         Training Set       Test Set    \n",
      "-------------- ---------------- ----------------\n",
      "    Error Rate  0.0593633732947  0.0580632716049\n",
      " Accuracy Rate   0.940636626705   0.941936728395\n",
      "True Positives 0.00578871201158 0.00344827586207\n",
      "True Negatives               --   0.997548017981\n"
     ]
    },
    {
     "data": {
      "text/plain": [
       "(0.058063271604938273,\n",
       " 0.94193672839506171,\n",
       " 0.0034482758620689655,\n",
       " 0.99754801798120152)"
      ]
     },
     "execution_count": 76,
     "metadata": {},
     "output_type": "execute_result"
    }
   ],
   "source": [
    "# MODEL: SVM, linear\n",
    "from sklearn import linear_model\n",
    "clf = linear_model.SGDClassifier()\n",
    "clf.fit(X_train_std, y_train)\n",
    "y_pred = clf.fit(X_train_std, y_train).predict(X_train_std)\n",
    "y_pred_test = clf.predict(X_test_std)\n",
    "print_results('SVM')"
   ]
  },
  {
   "cell_type": "code",
   "execution_count": 77,
   "metadata": {
    "collapsed": false
   },
   "outputs": [
    {
     "name": "stdout",
     "output_type": "stream",
     "text": [
      "Logistic Regression  Training Set     Test Set   \n",
      "------------------- -------------- --------------\n",
      "         Error Rate 0.163455973543 0.161072530864\n",
      "      Accuracy Rate 0.836544026457 0.838927469136\n",
      "     True Positives 0.217076700434  0.21724137931\n",
      "     True Negatives             -- 0.875766244381\n"
     ]
    },
    {
     "data": {
      "text/plain": [
       "(0.16107253086419754,\n",
       " 0.83892746913580241,\n",
       " 0.21724137931034482,\n",
       " 0.87576624438087458)"
      ]
     },
     "execution_count": 77,
     "metadata": {},
     "output_type": "execute_result"
    }
   ],
   "source": [
    "# MODEL: logistic regression\n",
    "from sklearn import linear_model\n",
    "clf = linear_model.SGDClassifier(loss='log', n_iter=50, alpha=0.00001)\n",
    "clf.fit(X_train_std, y_train)\n",
    "y_pred = clf.fit(X_train_std, y_train).predict(X_train_std)\n",
    "y_pred_test = clf.predict(X_test_std)\n",
    "print_results('Logistic Regression')"
   ]
  },
  {
   "cell_type": "code",
   "execution_count": 78,
   "metadata": {
    "collapsed": false
   },
   "outputs": [
    {
     "name": "stdout",
     "output_type": "stream",
     "text": [
      " Naive Bayes     Training Set      Test Set   \n",
      "-------------- --------------- ---------------\n",
      "    Error Rate 0.0571310458867 0.0559413580247\n",
      " Accuracy Rate  0.942868954113  0.944058641975\n",
      "True Positives             0.0             0.0\n",
      "True Negatives              --             1.0\n"
     ]
    },
    {
     "data": {
      "text/plain": [
       "(0.055941358024691357, 0.94405864197530864, 0.0, 1.0)"
      ]
     },
     "execution_count": 78,
     "metadata": {},
     "output_type": "execute_result"
    }
   ],
   "source": [
    "# MODEL: Naive Bayes\n",
    "from sklearn.naive_bayes import MultinomialNB\n",
    "clf = MultinomialNB()\n",
    "clf.fit(X_train_std, y_train)\n",
    "y_pred = clf.fit(X_train_std, y_train).predict(X_train_std)\n",
    "y_pred_test = clf.predict(X_test_std)\n",
    "print_results('Naive Bayes')"
   ]
  },
  {
   "cell_type": "code",
   "execution_count": 79,
   "metadata": {
    "collapsed": false
   },
   "outputs": [
    {
     "name": "stdout",
     "output_type": "stream",
     "text": [
      "  Perceptron     Training Set      Test Set   \n",
      "-------------- --------------- ---------------\n",
      "    Error Rate 0.0631665977677 0.0613425925926\n",
      " Accuracy Rate  0.936833402232  0.938657407407\n",
      "True Positives 0.0347322720695  0.051724137931\n",
      "True Negatives              --  0.991213731099\n"
     ]
    },
    {
     "data": {
      "text/plain": [
       "(0.061342592592592594,\n",
       " 0.93865740740740744,\n",
       " 0.051724137931034482,\n",
       " 0.99121373109930522)"
      ]
     },
     "execution_count": 79,
     "metadata": {},
     "output_type": "execute_result"
    }
   ],
   "source": [
    "# Perceptron\n",
    "from sklearn import linear_model\n",
    "clf = linear_model.SGDClassifier(loss='perceptron')\n",
    "clf.fit(X_train_std, y_train)\n",
    "y_pred = clf.fit(X_train_std, y_train).predict(X_train_std)\n",
    "y_pred_test = clf.predict(X_test_std)\n",
    "print_results('Perceptron')"
   ]
  },
  {
   "cell_type": "code",
   "execution_count": null,
   "metadata": {
    "collapsed": true
   },
   "outputs": [],
   "source": []
  },
  {
   "cell_type": "code",
   "execution_count": null,
   "metadata": {
    "collapsed": true
   },
   "outputs": [],
   "source": []
  }
 ],
 "metadata": {
  "kernelspec": {
   "display_name": "Python 3",
   "language": "python",
   "name": "python3"
  },
  "language_info": {
   "codemirror_mode": {
    "name": "ipython",
    "version": 3
   },
   "file_extension": ".py",
   "mimetype": "text/x-python",
   "name": "python",
   "nbconvert_exporter": "python",
   "pygments_lexer": "ipython3",
   "version": "3.5.1"
  }
 },
 "nbformat": 4,
 "nbformat_minor": 0
}
